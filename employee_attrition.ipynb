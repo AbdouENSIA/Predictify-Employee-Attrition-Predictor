{
 "cells": [
  {
   "cell_type": "code",
   "execution_count": 35,
   "metadata": {},
   "outputs": [],
   "source": [
    "import pandas as pd\n",
    "\n",
    "# Set pandas to display up to 50 columns in DataFrames.\n",
    "pd.options.display.max_columns = 50"
   ]
  },
  {
   "cell_type": "code",
   "execution_count": 36,
   "metadata": {},
   "outputs": [],
   "source": [
    "# Load employee attrition data from CSV file into a pandas DataFrame.\n",
    "\n",
    "employees = pd.read_csv(\"employee_attrition.csv\")"
   ]
  },
  {
   "cell_type": "markdown",
   "metadata": {},
   "source": [
    "## Data Pre-Processing"
   ]
  },
  {
   "cell_type": "code",
   "execution_count": 37,
   "metadata": {},
   "outputs": [
    {
     "data": {
      "text/html": [
       "<div>\n",
       "<style scoped>\n",
       "    .dataframe tbody tr th:only-of-type {\n",
       "        vertical-align: middle;\n",
       "    }\n",
       "\n",
       "    .dataframe tbody tr th {\n",
       "        vertical-align: top;\n",
       "    }\n",
       "\n",
       "    .dataframe thead th {\n",
       "        text-align: right;\n",
       "    }\n",
       "</style>\n",
       "<table border=\"1\" class=\"dataframe\">\n",
       "  <thead>\n",
       "    <tr style=\"text-align: right;\">\n",
       "      <th></th>\n",
       "      <th>Age</th>\n",
       "      <th>Attrition</th>\n",
       "      <th>BusinessTravel</th>\n",
       "      <th>DailyRate</th>\n",
       "      <th>Department</th>\n",
       "      <th>DistanceFromHome</th>\n",
       "      <th>Education</th>\n",
       "      <th>EducationField</th>\n",
       "      <th>EmployeeCount</th>\n",
       "      <th>EmployeeNumber</th>\n",
       "      <th>EnvironmentSatisfaction</th>\n",
       "      <th>Gender</th>\n",
       "      <th>HourlyRate</th>\n",
       "      <th>JobInvolvement</th>\n",
       "      <th>JobLevel</th>\n",
       "      <th>JobRole</th>\n",
       "      <th>JobSatisfaction</th>\n",
       "      <th>MaritalStatus</th>\n",
       "      <th>MonthlyIncome</th>\n",
       "      <th>MonthlyRate</th>\n",
       "      <th>NumCompaniesWorked</th>\n",
       "      <th>Over18</th>\n",
       "      <th>OverTime</th>\n",
       "      <th>PercentSalaryHike</th>\n",
       "      <th>PerformanceRating</th>\n",
       "      <th>RelationshipSatisfaction</th>\n",
       "      <th>StandardHours</th>\n",
       "      <th>StockOptionLevel</th>\n",
       "      <th>TotalWorkingYears</th>\n",
       "      <th>TrainingTimesLastYear</th>\n",
       "      <th>WorkLifeBalance</th>\n",
       "      <th>YearsAtCompany</th>\n",
       "      <th>YearsInCurrentRole</th>\n",
       "      <th>YearsSinceLastPromotion</th>\n",
       "      <th>YearsWithCurrManager</th>\n",
       "    </tr>\n",
       "  </thead>\n",
       "  <tbody>\n",
       "    <tr>\n",
       "      <th>0</th>\n",
       "      <td>41</td>\n",
       "      <td>Yes</td>\n",
       "      <td>Travel_Rarely</td>\n",
       "      <td>1102</td>\n",
       "      <td>Sales</td>\n",
       "      <td>1</td>\n",
       "      <td>2</td>\n",
       "      <td>Life Sciences</td>\n",
       "      <td>1</td>\n",
       "      <td>1</td>\n",
       "      <td>2</td>\n",
       "      <td>Female</td>\n",
       "      <td>94</td>\n",
       "      <td>3</td>\n",
       "      <td>2</td>\n",
       "      <td>Sales Executive</td>\n",
       "      <td>4</td>\n",
       "      <td>Single</td>\n",
       "      <td>5993</td>\n",
       "      <td>19479</td>\n",
       "      <td>8</td>\n",
       "      <td>Y</td>\n",
       "      <td>Yes</td>\n",
       "      <td>11</td>\n",
       "      <td>3</td>\n",
       "      <td>1</td>\n",
       "      <td>80</td>\n",
       "      <td>0</td>\n",
       "      <td>8</td>\n",
       "      <td>0</td>\n",
       "      <td>1</td>\n",
       "      <td>6</td>\n",
       "      <td>4</td>\n",
       "      <td>0</td>\n",
       "      <td>5</td>\n",
       "    </tr>\n",
       "    <tr>\n",
       "      <th>1</th>\n",
       "      <td>49</td>\n",
       "      <td>No</td>\n",
       "      <td>Travel_Frequently</td>\n",
       "      <td>279</td>\n",
       "      <td>Research &amp; Development</td>\n",
       "      <td>8</td>\n",
       "      <td>1</td>\n",
       "      <td>Life Sciences</td>\n",
       "      <td>1</td>\n",
       "      <td>2</td>\n",
       "      <td>3</td>\n",
       "      <td>Male</td>\n",
       "      <td>61</td>\n",
       "      <td>2</td>\n",
       "      <td>2</td>\n",
       "      <td>Research Scientist</td>\n",
       "      <td>2</td>\n",
       "      <td>Married</td>\n",
       "      <td>5130</td>\n",
       "      <td>24907</td>\n",
       "      <td>1</td>\n",
       "      <td>Y</td>\n",
       "      <td>No</td>\n",
       "      <td>23</td>\n",
       "      <td>4</td>\n",
       "      <td>4</td>\n",
       "      <td>80</td>\n",
       "      <td>1</td>\n",
       "      <td>10</td>\n",
       "      <td>3</td>\n",
       "      <td>3</td>\n",
       "      <td>10</td>\n",
       "      <td>7</td>\n",
       "      <td>1</td>\n",
       "      <td>7</td>\n",
       "    </tr>\n",
       "    <tr>\n",
       "      <th>2</th>\n",
       "      <td>37</td>\n",
       "      <td>Yes</td>\n",
       "      <td>Travel_Rarely</td>\n",
       "      <td>1373</td>\n",
       "      <td>Research &amp; Development</td>\n",
       "      <td>2</td>\n",
       "      <td>2</td>\n",
       "      <td>Other</td>\n",
       "      <td>1</td>\n",
       "      <td>4</td>\n",
       "      <td>4</td>\n",
       "      <td>Male</td>\n",
       "      <td>92</td>\n",
       "      <td>2</td>\n",
       "      <td>1</td>\n",
       "      <td>Laboratory Technician</td>\n",
       "      <td>3</td>\n",
       "      <td>Single</td>\n",
       "      <td>2090</td>\n",
       "      <td>2396</td>\n",
       "      <td>6</td>\n",
       "      <td>Y</td>\n",
       "      <td>Yes</td>\n",
       "      <td>15</td>\n",
       "      <td>3</td>\n",
       "      <td>2</td>\n",
       "      <td>80</td>\n",
       "      <td>0</td>\n",
       "      <td>7</td>\n",
       "      <td>3</td>\n",
       "      <td>3</td>\n",
       "      <td>0</td>\n",
       "      <td>0</td>\n",
       "      <td>0</td>\n",
       "      <td>0</td>\n",
       "    </tr>\n",
       "    <tr>\n",
       "      <th>3</th>\n",
       "      <td>33</td>\n",
       "      <td>No</td>\n",
       "      <td>Travel_Frequently</td>\n",
       "      <td>1392</td>\n",
       "      <td>Research &amp; Development</td>\n",
       "      <td>3</td>\n",
       "      <td>4</td>\n",
       "      <td>Life Sciences</td>\n",
       "      <td>1</td>\n",
       "      <td>5</td>\n",
       "      <td>4</td>\n",
       "      <td>Female</td>\n",
       "      <td>56</td>\n",
       "      <td>3</td>\n",
       "      <td>1</td>\n",
       "      <td>Research Scientist</td>\n",
       "      <td>3</td>\n",
       "      <td>Married</td>\n",
       "      <td>2909</td>\n",
       "      <td>23159</td>\n",
       "      <td>1</td>\n",
       "      <td>Y</td>\n",
       "      <td>Yes</td>\n",
       "      <td>11</td>\n",
       "      <td>3</td>\n",
       "      <td>3</td>\n",
       "      <td>80</td>\n",
       "      <td>0</td>\n",
       "      <td>8</td>\n",
       "      <td>3</td>\n",
       "      <td>3</td>\n",
       "      <td>8</td>\n",
       "      <td>7</td>\n",
       "      <td>3</td>\n",
       "      <td>0</td>\n",
       "    </tr>\n",
       "    <tr>\n",
       "      <th>4</th>\n",
       "      <td>27</td>\n",
       "      <td>No</td>\n",
       "      <td>Travel_Rarely</td>\n",
       "      <td>591</td>\n",
       "      <td>Research &amp; Development</td>\n",
       "      <td>2</td>\n",
       "      <td>1</td>\n",
       "      <td>Medical</td>\n",
       "      <td>1</td>\n",
       "      <td>7</td>\n",
       "      <td>1</td>\n",
       "      <td>Male</td>\n",
       "      <td>40</td>\n",
       "      <td>3</td>\n",
       "      <td>1</td>\n",
       "      <td>Laboratory Technician</td>\n",
       "      <td>2</td>\n",
       "      <td>Married</td>\n",
       "      <td>3468</td>\n",
       "      <td>16632</td>\n",
       "      <td>9</td>\n",
       "      <td>Y</td>\n",
       "      <td>No</td>\n",
       "      <td>12</td>\n",
       "      <td>3</td>\n",
       "      <td>4</td>\n",
       "      <td>80</td>\n",
       "      <td>1</td>\n",
       "      <td>6</td>\n",
       "      <td>3</td>\n",
       "      <td>3</td>\n",
       "      <td>2</td>\n",
       "      <td>2</td>\n",
       "      <td>2</td>\n",
       "      <td>2</td>\n",
       "    </tr>\n",
       "  </tbody>\n",
       "</table>\n",
       "</div>"
      ],
      "text/plain": [
       "   Age Attrition     BusinessTravel  DailyRate              Department  \\\n",
       "0   41       Yes      Travel_Rarely       1102                   Sales   \n",
       "1   49        No  Travel_Frequently        279  Research & Development   \n",
       "2   37       Yes      Travel_Rarely       1373  Research & Development   \n",
       "3   33        No  Travel_Frequently       1392  Research & Development   \n",
       "4   27        No      Travel_Rarely        591  Research & Development   \n",
       "\n",
       "   DistanceFromHome  Education EducationField  EmployeeCount  EmployeeNumber  \\\n",
       "0                 1          2  Life Sciences              1               1   \n",
       "1                 8          1  Life Sciences              1               2   \n",
       "2                 2          2          Other              1               4   \n",
       "3                 3          4  Life Sciences              1               5   \n",
       "4                 2          1        Medical              1               7   \n",
       "\n",
       "   EnvironmentSatisfaction  Gender  HourlyRate  JobInvolvement  JobLevel  \\\n",
       "0                        2  Female          94               3         2   \n",
       "1                        3    Male          61               2         2   \n",
       "2                        4    Male          92               2         1   \n",
       "3                        4  Female          56               3         1   \n",
       "4                        1    Male          40               3         1   \n",
       "\n",
       "                 JobRole  JobSatisfaction MaritalStatus  MonthlyIncome  \\\n",
       "0        Sales Executive                4        Single           5993   \n",
       "1     Research Scientist                2       Married           5130   \n",
       "2  Laboratory Technician                3        Single           2090   \n",
       "3     Research Scientist                3       Married           2909   \n",
       "4  Laboratory Technician                2       Married           3468   \n",
       "\n",
       "   MonthlyRate  NumCompaniesWorked Over18 OverTime  PercentSalaryHike  \\\n",
       "0        19479                   8      Y      Yes                 11   \n",
       "1        24907                   1      Y       No                 23   \n",
       "2         2396                   6      Y      Yes                 15   \n",
       "3        23159                   1      Y      Yes                 11   \n",
       "4        16632                   9      Y       No                 12   \n",
       "\n",
       "   PerformanceRating  RelationshipSatisfaction  StandardHours  \\\n",
       "0                  3                         1             80   \n",
       "1                  4                         4             80   \n",
       "2                  3                         2             80   \n",
       "3                  3                         3             80   \n",
       "4                  3                         4             80   \n",
       "\n",
       "   StockOptionLevel  TotalWorkingYears  TrainingTimesLastYear  \\\n",
       "0                 0                  8                      0   \n",
       "1                 1                 10                      3   \n",
       "2                 0                  7                      3   \n",
       "3                 0                  8                      3   \n",
       "4                 1                  6                      3   \n",
       "\n",
       "   WorkLifeBalance  YearsAtCompany  YearsInCurrentRole  \\\n",
       "0                1               6                   4   \n",
       "1                3              10                   7   \n",
       "2                3               0                   0   \n",
       "3                3               8                   7   \n",
       "4                3               2                   2   \n",
       "\n",
       "   YearsSinceLastPromotion  YearsWithCurrManager  \n",
       "0                        0                     5  \n",
       "1                        1                     7  \n",
       "2                        0                     0  \n",
       "3                        3                     0  \n",
       "4                        2                     2  "
      ]
     },
     "execution_count": 37,
     "metadata": {},
     "output_type": "execute_result"
    }
   ],
   "source": [
    "employees.head()"
   ]
  },
  {
   "cell_type": "markdown",
   "metadata": {},
   "source": [
    "Binary Encode: Attrition, Gender, Over18, OverTime\n"
   ]
  },
  {
   "cell_type": "code",
   "execution_count": 38,
   "metadata": {},
   "outputs": [],
   "source": [
    "# Convert categorical values to binary indicators:\n",
    "# - \"Attrition\": 1 if \"Yes\", otherwise 0\n",
    "# - \"Gender\": 1 if \"Male\", otherwise 0\n",
    "# - \"Over18\": 1 if \"Y\", otherwise 0\n",
    "# - \"OverTime\": 1 if \"Yes\", otherwise 0\n",
    "\n",
    "employees[\"Attrition\"] = employees[\"Attrition\"].apply(lambda x: 1 if x == \"Yes\" else 0)\n",
    "employees[\"Gender\"] = employees[\"Gender\"].apply(lambda x: 1 if x == \"Male\" else 0)\n",
    "employees[\"Over18\"] = employees[\"Over18\"].apply(lambda x: 1 if x == \"Y\" else 0)\n",
    "employees[\"OverTime\"] = employees[\"OverTime\"].apply(lambda x: 1 if x == \"Yes\" else 0)"
   ]
  },
  {
   "cell_type": "code",
   "execution_count": 39,
   "metadata": {},
   "outputs": [
    {
     "data": {
      "text/html": [
       "<div>\n",
       "<style scoped>\n",
       "    .dataframe tbody tr th:only-of-type {\n",
       "        vertical-align: middle;\n",
       "    }\n",
       "\n",
       "    .dataframe tbody tr th {\n",
       "        vertical-align: top;\n",
       "    }\n",
       "\n",
       "    .dataframe thead th {\n",
       "        text-align: right;\n",
       "    }\n",
       "</style>\n",
       "<table border=\"1\" class=\"dataframe\">\n",
       "  <thead>\n",
       "    <tr style=\"text-align: right;\">\n",
       "      <th></th>\n",
       "      <th>Age</th>\n",
       "      <th>Attrition</th>\n",
       "      <th>BusinessTravel</th>\n",
       "      <th>DailyRate</th>\n",
       "      <th>Department</th>\n",
       "      <th>DistanceFromHome</th>\n",
       "      <th>Education</th>\n",
       "      <th>EducationField</th>\n",
       "      <th>EmployeeCount</th>\n",
       "      <th>EmployeeNumber</th>\n",
       "      <th>EnvironmentSatisfaction</th>\n",
       "      <th>Gender</th>\n",
       "      <th>HourlyRate</th>\n",
       "      <th>JobInvolvement</th>\n",
       "      <th>JobLevel</th>\n",
       "      <th>JobRole</th>\n",
       "      <th>JobSatisfaction</th>\n",
       "      <th>MaritalStatus</th>\n",
       "      <th>MonthlyIncome</th>\n",
       "      <th>MonthlyRate</th>\n",
       "      <th>NumCompaniesWorked</th>\n",
       "      <th>Over18</th>\n",
       "      <th>OverTime</th>\n",
       "      <th>PercentSalaryHike</th>\n",
       "      <th>PerformanceRating</th>\n",
       "      <th>RelationshipSatisfaction</th>\n",
       "      <th>StandardHours</th>\n",
       "      <th>StockOptionLevel</th>\n",
       "      <th>TotalWorkingYears</th>\n",
       "      <th>TrainingTimesLastYear</th>\n",
       "      <th>WorkLifeBalance</th>\n",
       "      <th>YearsAtCompany</th>\n",
       "      <th>YearsInCurrentRole</th>\n",
       "      <th>YearsSinceLastPromotion</th>\n",
       "      <th>YearsWithCurrManager</th>\n",
       "    </tr>\n",
       "  </thead>\n",
       "  <tbody>\n",
       "    <tr>\n",
       "      <th>0</th>\n",
       "      <td>41</td>\n",
       "      <td>1</td>\n",
       "      <td>Travel_Rarely</td>\n",
       "      <td>1102</td>\n",
       "      <td>Sales</td>\n",
       "      <td>1</td>\n",
       "      <td>2</td>\n",
       "      <td>Life Sciences</td>\n",
       "      <td>1</td>\n",
       "      <td>1</td>\n",
       "      <td>2</td>\n",
       "      <td>0</td>\n",
       "      <td>94</td>\n",
       "      <td>3</td>\n",
       "      <td>2</td>\n",
       "      <td>Sales Executive</td>\n",
       "      <td>4</td>\n",
       "      <td>Single</td>\n",
       "      <td>5993</td>\n",
       "      <td>19479</td>\n",
       "      <td>8</td>\n",
       "      <td>1</td>\n",
       "      <td>1</td>\n",
       "      <td>11</td>\n",
       "      <td>3</td>\n",
       "      <td>1</td>\n",
       "      <td>80</td>\n",
       "      <td>0</td>\n",
       "      <td>8</td>\n",
       "      <td>0</td>\n",
       "      <td>1</td>\n",
       "      <td>6</td>\n",
       "      <td>4</td>\n",
       "      <td>0</td>\n",
       "      <td>5</td>\n",
       "    </tr>\n",
       "    <tr>\n",
       "      <th>1</th>\n",
       "      <td>49</td>\n",
       "      <td>0</td>\n",
       "      <td>Travel_Frequently</td>\n",
       "      <td>279</td>\n",
       "      <td>Research &amp; Development</td>\n",
       "      <td>8</td>\n",
       "      <td>1</td>\n",
       "      <td>Life Sciences</td>\n",
       "      <td>1</td>\n",
       "      <td>2</td>\n",
       "      <td>3</td>\n",
       "      <td>1</td>\n",
       "      <td>61</td>\n",
       "      <td>2</td>\n",
       "      <td>2</td>\n",
       "      <td>Research Scientist</td>\n",
       "      <td>2</td>\n",
       "      <td>Married</td>\n",
       "      <td>5130</td>\n",
       "      <td>24907</td>\n",
       "      <td>1</td>\n",
       "      <td>1</td>\n",
       "      <td>0</td>\n",
       "      <td>23</td>\n",
       "      <td>4</td>\n",
       "      <td>4</td>\n",
       "      <td>80</td>\n",
       "      <td>1</td>\n",
       "      <td>10</td>\n",
       "      <td>3</td>\n",
       "      <td>3</td>\n",
       "      <td>10</td>\n",
       "      <td>7</td>\n",
       "      <td>1</td>\n",
       "      <td>7</td>\n",
       "    </tr>\n",
       "    <tr>\n",
       "      <th>2</th>\n",
       "      <td>37</td>\n",
       "      <td>1</td>\n",
       "      <td>Travel_Rarely</td>\n",
       "      <td>1373</td>\n",
       "      <td>Research &amp; Development</td>\n",
       "      <td>2</td>\n",
       "      <td>2</td>\n",
       "      <td>Other</td>\n",
       "      <td>1</td>\n",
       "      <td>4</td>\n",
       "      <td>4</td>\n",
       "      <td>1</td>\n",
       "      <td>92</td>\n",
       "      <td>2</td>\n",
       "      <td>1</td>\n",
       "      <td>Laboratory Technician</td>\n",
       "      <td>3</td>\n",
       "      <td>Single</td>\n",
       "      <td>2090</td>\n",
       "      <td>2396</td>\n",
       "      <td>6</td>\n",
       "      <td>1</td>\n",
       "      <td>1</td>\n",
       "      <td>15</td>\n",
       "      <td>3</td>\n",
       "      <td>2</td>\n",
       "      <td>80</td>\n",
       "      <td>0</td>\n",
       "      <td>7</td>\n",
       "      <td>3</td>\n",
       "      <td>3</td>\n",
       "      <td>0</td>\n",
       "      <td>0</td>\n",
       "      <td>0</td>\n",
       "      <td>0</td>\n",
       "    </tr>\n",
       "    <tr>\n",
       "      <th>3</th>\n",
       "      <td>33</td>\n",
       "      <td>0</td>\n",
       "      <td>Travel_Frequently</td>\n",
       "      <td>1392</td>\n",
       "      <td>Research &amp; Development</td>\n",
       "      <td>3</td>\n",
       "      <td>4</td>\n",
       "      <td>Life Sciences</td>\n",
       "      <td>1</td>\n",
       "      <td>5</td>\n",
       "      <td>4</td>\n",
       "      <td>0</td>\n",
       "      <td>56</td>\n",
       "      <td>3</td>\n",
       "      <td>1</td>\n",
       "      <td>Research Scientist</td>\n",
       "      <td>3</td>\n",
       "      <td>Married</td>\n",
       "      <td>2909</td>\n",
       "      <td>23159</td>\n",
       "      <td>1</td>\n",
       "      <td>1</td>\n",
       "      <td>1</td>\n",
       "      <td>11</td>\n",
       "      <td>3</td>\n",
       "      <td>3</td>\n",
       "      <td>80</td>\n",
       "      <td>0</td>\n",
       "      <td>8</td>\n",
       "      <td>3</td>\n",
       "      <td>3</td>\n",
       "      <td>8</td>\n",
       "      <td>7</td>\n",
       "      <td>3</td>\n",
       "      <td>0</td>\n",
       "    </tr>\n",
       "    <tr>\n",
       "      <th>4</th>\n",
       "      <td>27</td>\n",
       "      <td>0</td>\n",
       "      <td>Travel_Rarely</td>\n",
       "      <td>591</td>\n",
       "      <td>Research &amp; Development</td>\n",
       "      <td>2</td>\n",
       "      <td>1</td>\n",
       "      <td>Medical</td>\n",
       "      <td>1</td>\n",
       "      <td>7</td>\n",
       "      <td>1</td>\n",
       "      <td>1</td>\n",
       "      <td>40</td>\n",
       "      <td>3</td>\n",
       "      <td>1</td>\n",
       "      <td>Laboratory Technician</td>\n",
       "      <td>2</td>\n",
       "      <td>Married</td>\n",
       "      <td>3468</td>\n",
       "      <td>16632</td>\n",
       "      <td>9</td>\n",
       "      <td>1</td>\n",
       "      <td>0</td>\n",
       "      <td>12</td>\n",
       "      <td>3</td>\n",
       "      <td>4</td>\n",
       "      <td>80</td>\n",
       "      <td>1</td>\n",
       "      <td>6</td>\n",
       "      <td>3</td>\n",
       "      <td>3</td>\n",
       "      <td>2</td>\n",
       "      <td>2</td>\n",
       "      <td>2</td>\n",
       "      <td>2</td>\n",
       "    </tr>\n",
       "  </tbody>\n",
       "</table>\n",
       "</div>"
      ],
      "text/plain": [
       "   Age  Attrition     BusinessTravel  DailyRate              Department  \\\n",
       "0   41          1      Travel_Rarely       1102                   Sales   \n",
       "1   49          0  Travel_Frequently        279  Research & Development   \n",
       "2   37          1      Travel_Rarely       1373  Research & Development   \n",
       "3   33          0  Travel_Frequently       1392  Research & Development   \n",
       "4   27          0      Travel_Rarely        591  Research & Development   \n",
       "\n",
       "   DistanceFromHome  Education EducationField  EmployeeCount  EmployeeNumber  \\\n",
       "0                 1          2  Life Sciences              1               1   \n",
       "1                 8          1  Life Sciences              1               2   \n",
       "2                 2          2          Other              1               4   \n",
       "3                 3          4  Life Sciences              1               5   \n",
       "4                 2          1        Medical              1               7   \n",
       "\n",
       "   EnvironmentSatisfaction  Gender  HourlyRate  JobInvolvement  JobLevel  \\\n",
       "0                        2       0          94               3         2   \n",
       "1                        3       1          61               2         2   \n",
       "2                        4       1          92               2         1   \n",
       "3                        4       0          56               3         1   \n",
       "4                        1       1          40               3         1   \n",
       "\n",
       "                 JobRole  JobSatisfaction MaritalStatus  MonthlyIncome  \\\n",
       "0        Sales Executive                4        Single           5993   \n",
       "1     Research Scientist                2       Married           5130   \n",
       "2  Laboratory Technician                3        Single           2090   \n",
       "3     Research Scientist                3       Married           2909   \n",
       "4  Laboratory Technician                2       Married           3468   \n",
       "\n",
       "   MonthlyRate  NumCompaniesWorked  Over18  OverTime  PercentSalaryHike  \\\n",
       "0        19479                   8       1         1                 11   \n",
       "1        24907                   1       1         0                 23   \n",
       "2         2396                   6       1         1                 15   \n",
       "3        23159                   1       1         1                 11   \n",
       "4        16632                   9       1         0                 12   \n",
       "\n",
       "   PerformanceRating  RelationshipSatisfaction  StandardHours  \\\n",
       "0                  3                         1             80   \n",
       "1                  4                         4             80   \n",
       "2                  3                         2             80   \n",
       "3                  3                         3             80   \n",
       "4                  3                         4             80   \n",
       "\n",
       "   StockOptionLevel  TotalWorkingYears  TrainingTimesLastYear  \\\n",
       "0                 0                  8                      0   \n",
       "1                 1                 10                      3   \n",
       "2                 0                  7                      3   \n",
       "3                 0                  8                      3   \n",
       "4                 1                  6                      3   \n",
       "\n",
       "   WorkLifeBalance  YearsAtCompany  YearsInCurrentRole  \\\n",
       "0                1               6                   4   \n",
       "1                3              10                   7   \n",
       "2                3               0                   0   \n",
       "3                3               8                   7   \n",
       "4                3               2                   2   \n",
       "\n",
       "   YearsSinceLastPromotion  YearsWithCurrManager  \n",
       "0                        0                     5  \n",
       "1                        1                     7  \n",
       "2                        0                     0  \n",
       "3                        3                     0  \n",
       "4                        2                     2  "
      ]
     },
     "execution_count": 39,
     "metadata": {},
     "output_type": "execute_result"
    }
   ],
   "source": [
    "employees.head()"
   ]
  },
  {
   "cell_type": "markdown",
   "metadata": {},
   "source": [
    "One-Hot Encoding: BusinessTravel, Department, EducationField, JobRole, MaritalStatus"
   ]
  },
  {
   "cell_type": "code",
   "execution_count": 40,
   "metadata": {},
   "outputs": [],
   "source": [
    "# Apply one-hot encoding to categorical features and remove original columns:\n",
    "# - \"BusinessTravel\" is one-hot encoded.\n",
    "# - \"Department\" is one-hot encoded with prefix \"Department\".\n",
    "# - \"EducationField\" is one-hot encoded with prefix \"Education\".\n",
    "# - \"JobRole\" is one-hot encoded with prefix \"Role\".\n",
    "# - \"MaritalStatus\" is one-hot encoded with prefix \"Status\".\n",
    "\n",
    "employees = employees.join(pd.get_dummies(employees[\"BusinessTravel\"])).drop(columns=[\"BusinessTravel\"], axis=1)\n",
    "employees = employees.join(pd.get_dummies(employees[\"Department\"], prefix=\"Department\")).drop(columns=[\"Department\"], axis=1)\n",
    "employees = employees.join(pd.get_dummies(employees[\"EducationField\"], prefix=\"Education\")).drop(columns=[\"EducationField\"], axis=1)\n",
    "employees = employees.join(pd.get_dummies(employees[\"JobRole\"], prefix=\"Role\")).drop(columns=[\"JobRole\"], axis=1)\n",
    "employees = employees.join(pd.get_dummies(employees[\"MaritalStatus\"], prefix=\"Status\")).drop(columns=[\"MaritalStatus\"], axis=1)"
   ]
  },
  {
   "cell_type": "code",
   "execution_count": 41,
   "metadata": {},
   "outputs": [
    {
     "data": {
      "text/html": [
       "<div>\n",
       "<style scoped>\n",
       "    .dataframe tbody tr th:only-of-type {\n",
       "        vertical-align: middle;\n",
       "    }\n",
       "\n",
       "    .dataframe tbody tr th {\n",
       "        vertical-align: top;\n",
       "    }\n",
       "\n",
       "    .dataframe thead th {\n",
       "        text-align: right;\n",
       "    }\n",
       "</style>\n",
       "<table border=\"1\" class=\"dataframe\">\n",
       "  <thead>\n",
       "    <tr style=\"text-align: right;\">\n",
       "      <th></th>\n",
       "      <th>Age</th>\n",
       "      <th>Attrition</th>\n",
       "      <th>DailyRate</th>\n",
       "      <th>DistanceFromHome</th>\n",
       "      <th>Education</th>\n",
       "      <th>EmployeeCount</th>\n",
       "      <th>EmployeeNumber</th>\n",
       "      <th>EnvironmentSatisfaction</th>\n",
       "      <th>Gender</th>\n",
       "      <th>HourlyRate</th>\n",
       "      <th>JobInvolvement</th>\n",
       "      <th>JobLevel</th>\n",
       "      <th>JobSatisfaction</th>\n",
       "      <th>MonthlyIncome</th>\n",
       "      <th>MonthlyRate</th>\n",
       "      <th>NumCompaniesWorked</th>\n",
       "      <th>Over18</th>\n",
       "      <th>OverTime</th>\n",
       "      <th>PercentSalaryHike</th>\n",
       "      <th>PerformanceRating</th>\n",
       "      <th>RelationshipSatisfaction</th>\n",
       "      <th>StandardHours</th>\n",
       "      <th>StockOptionLevel</th>\n",
       "      <th>TotalWorkingYears</th>\n",
       "      <th>TrainingTimesLastYear</th>\n",
       "      <th>...</th>\n",
       "      <th>YearsWithCurrManager</th>\n",
       "      <th>Non-Travel</th>\n",
       "      <th>Travel_Frequently</th>\n",
       "      <th>Travel_Rarely</th>\n",
       "      <th>Department_Human Resources</th>\n",
       "      <th>Department_Research &amp; Development</th>\n",
       "      <th>Department_Sales</th>\n",
       "      <th>Education_Human Resources</th>\n",
       "      <th>Education_Life Sciences</th>\n",
       "      <th>Education_Marketing</th>\n",
       "      <th>Education_Medical</th>\n",
       "      <th>Education_Other</th>\n",
       "      <th>Education_Technical Degree</th>\n",
       "      <th>Role_Healthcare Representative</th>\n",
       "      <th>Role_Human Resources</th>\n",
       "      <th>Role_Laboratory Technician</th>\n",
       "      <th>Role_Manager</th>\n",
       "      <th>Role_Manufacturing Director</th>\n",
       "      <th>Role_Research Director</th>\n",
       "      <th>Role_Research Scientist</th>\n",
       "      <th>Role_Sales Executive</th>\n",
       "      <th>Role_Sales Representative</th>\n",
       "      <th>Status_Divorced</th>\n",
       "      <th>Status_Married</th>\n",
       "      <th>Status_Single</th>\n",
       "    </tr>\n",
       "  </thead>\n",
       "  <tbody>\n",
       "    <tr>\n",
       "      <th>0</th>\n",
       "      <td>41</td>\n",
       "      <td>1</td>\n",
       "      <td>1102</td>\n",
       "      <td>1</td>\n",
       "      <td>2</td>\n",
       "      <td>1</td>\n",
       "      <td>1</td>\n",
       "      <td>2</td>\n",
       "      <td>0</td>\n",
       "      <td>94</td>\n",
       "      <td>3</td>\n",
       "      <td>2</td>\n",
       "      <td>4</td>\n",
       "      <td>5993</td>\n",
       "      <td>19479</td>\n",
       "      <td>8</td>\n",
       "      <td>1</td>\n",
       "      <td>1</td>\n",
       "      <td>11</td>\n",
       "      <td>3</td>\n",
       "      <td>1</td>\n",
       "      <td>80</td>\n",
       "      <td>0</td>\n",
       "      <td>8</td>\n",
       "      <td>0</td>\n",
       "      <td>...</td>\n",
       "      <td>5</td>\n",
       "      <td>False</td>\n",
       "      <td>False</td>\n",
       "      <td>True</td>\n",
       "      <td>False</td>\n",
       "      <td>False</td>\n",
       "      <td>True</td>\n",
       "      <td>False</td>\n",
       "      <td>True</td>\n",
       "      <td>False</td>\n",
       "      <td>False</td>\n",
       "      <td>False</td>\n",
       "      <td>False</td>\n",
       "      <td>False</td>\n",
       "      <td>False</td>\n",
       "      <td>False</td>\n",
       "      <td>False</td>\n",
       "      <td>False</td>\n",
       "      <td>False</td>\n",
       "      <td>False</td>\n",
       "      <td>True</td>\n",
       "      <td>False</td>\n",
       "      <td>False</td>\n",
       "      <td>False</td>\n",
       "      <td>True</td>\n",
       "    </tr>\n",
       "    <tr>\n",
       "      <th>1</th>\n",
       "      <td>49</td>\n",
       "      <td>0</td>\n",
       "      <td>279</td>\n",
       "      <td>8</td>\n",
       "      <td>1</td>\n",
       "      <td>1</td>\n",
       "      <td>2</td>\n",
       "      <td>3</td>\n",
       "      <td>1</td>\n",
       "      <td>61</td>\n",
       "      <td>2</td>\n",
       "      <td>2</td>\n",
       "      <td>2</td>\n",
       "      <td>5130</td>\n",
       "      <td>24907</td>\n",
       "      <td>1</td>\n",
       "      <td>1</td>\n",
       "      <td>0</td>\n",
       "      <td>23</td>\n",
       "      <td>4</td>\n",
       "      <td>4</td>\n",
       "      <td>80</td>\n",
       "      <td>1</td>\n",
       "      <td>10</td>\n",
       "      <td>3</td>\n",
       "      <td>...</td>\n",
       "      <td>7</td>\n",
       "      <td>False</td>\n",
       "      <td>True</td>\n",
       "      <td>False</td>\n",
       "      <td>False</td>\n",
       "      <td>True</td>\n",
       "      <td>False</td>\n",
       "      <td>False</td>\n",
       "      <td>True</td>\n",
       "      <td>False</td>\n",
       "      <td>False</td>\n",
       "      <td>False</td>\n",
       "      <td>False</td>\n",
       "      <td>False</td>\n",
       "      <td>False</td>\n",
       "      <td>False</td>\n",
       "      <td>False</td>\n",
       "      <td>False</td>\n",
       "      <td>False</td>\n",
       "      <td>True</td>\n",
       "      <td>False</td>\n",
       "      <td>False</td>\n",
       "      <td>False</td>\n",
       "      <td>True</td>\n",
       "      <td>False</td>\n",
       "    </tr>\n",
       "    <tr>\n",
       "      <th>2</th>\n",
       "      <td>37</td>\n",
       "      <td>1</td>\n",
       "      <td>1373</td>\n",
       "      <td>2</td>\n",
       "      <td>2</td>\n",
       "      <td>1</td>\n",
       "      <td>4</td>\n",
       "      <td>4</td>\n",
       "      <td>1</td>\n",
       "      <td>92</td>\n",
       "      <td>2</td>\n",
       "      <td>1</td>\n",
       "      <td>3</td>\n",
       "      <td>2090</td>\n",
       "      <td>2396</td>\n",
       "      <td>6</td>\n",
       "      <td>1</td>\n",
       "      <td>1</td>\n",
       "      <td>15</td>\n",
       "      <td>3</td>\n",
       "      <td>2</td>\n",
       "      <td>80</td>\n",
       "      <td>0</td>\n",
       "      <td>7</td>\n",
       "      <td>3</td>\n",
       "      <td>...</td>\n",
       "      <td>0</td>\n",
       "      <td>False</td>\n",
       "      <td>False</td>\n",
       "      <td>True</td>\n",
       "      <td>False</td>\n",
       "      <td>True</td>\n",
       "      <td>False</td>\n",
       "      <td>False</td>\n",
       "      <td>False</td>\n",
       "      <td>False</td>\n",
       "      <td>False</td>\n",
       "      <td>True</td>\n",
       "      <td>False</td>\n",
       "      <td>False</td>\n",
       "      <td>False</td>\n",
       "      <td>True</td>\n",
       "      <td>False</td>\n",
       "      <td>False</td>\n",
       "      <td>False</td>\n",
       "      <td>False</td>\n",
       "      <td>False</td>\n",
       "      <td>False</td>\n",
       "      <td>False</td>\n",
       "      <td>False</td>\n",
       "      <td>True</td>\n",
       "    </tr>\n",
       "    <tr>\n",
       "      <th>3</th>\n",
       "      <td>33</td>\n",
       "      <td>0</td>\n",
       "      <td>1392</td>\n",
       "      <td>3</td>\n",
       "      <td>4</td>\n",
       "      <td>1</td>\n",
       "      <td>5</td>\n",
       "      <td>4</td>\n",
       "      <td>0</td>\n",
       "      <td>56</td>\n",
       "      <td>3</td>\n",
       "      <td>1</td>\n",
       "      <td>3</td>\n",
       "      <td>2909</td>\n",
       "      <td>23159</td>\n",
       "      <td>1</td>\n",
       "      <td>1</td>\n",
       "      <td>1</td>\n",
       "      <td>11</td>\n",
       "      <td>3</td>\n",
       "      <td>3</td>\n",
       "      <td>80</td>\n",
       "      <td>0</td>\n",
       "      <td>8</td>\n",
       "      <td>3</td>\n",
       "      <td>...</td>\n",
       "      <td>0</td>\n",
       "      <td>False</td>\n",
       "      <td>True</td>\n",
       "      <td>False</td>\n",
       "      <td>False</td>\n",
       "      <td>True</td>\n",
       "      <td>False</td>\n",
       "      <td>False</td>\n",
       "      <td>True</td>\n",
       "      <td>False</td>\n",
       "      <td>False</td>\n",
       "      <td>False</td>\n",
       "      <td>False</td>\n",
       "      <td>False</td>\n",
       "      <td>False</td>\n",
       "      <td>False</td>\n",
       "      <td>False</td>\n",
       "      <td>False</td>\n",
       "      <td>False</td>\n",
       "      <td>True</td>\n",
       "      <td>False</td>\n",
       "      <td>False</td>\n",
       "      <td>False</td>\n",
       "      <td>True</td>\n",
       "      <td>False</td>\n",
       "    </tr>\n",
       "    <tr>\n",
       "      <th>4</th>\n",
       "      <td>27</td>\n",
       "      <td>0</td>\n",
       "      <td>591</td>\n",
       "      <td>2</td>\n",
       "      <td>1</td>\n",
       "      <td>1</td>\n",
       "      <td>7</td>\n",
       "      <td>1</td>\n",
       "      <td>1</td>\n",
       "      <td>40</td>\n",
       "      <td>3</td>\n",
       "      <td>1</td>\n",
       "      <td>2</td>\n",
       "      <td>3468</td>\n",
       "      <td>16632</td>\n",
       "      <td>9</td>\n",
       "      <td>1</td>\n",
       "      <td>0</td>\n",
       "      <td>12</td>\n",
       "      <td>3</td>\n",
       "      <td>4</td>\n",
       "      <td>80</td>\n",
       "      <td>1</td>\n",
       "      <td>6</td>\n",
       "      <td>3</td>\n",
       "      <td>...</td>\n",
       "      <td>2</td>\n",
       "      <td>False</td>\n",
       "      <td>False</td>\n",
       "      <td>True</td>\n",
       "      <td>False</td>\n",
       "      <td>True</td>\n",
       "      <td>False</td>\n",
       "      <td>False</td>\n",
       "      <td>False</td>\n",
       "      <td>False</td>\n",
       "      <td>True</td>\n",
       "      <td>False</td>\n",
       "      <td>False</td>\n",
       "      <td>False</td>\n",
       "      <td>False</td>\n",
       "      <td>True</td>\n",
       "      <td>False</td>\n",
       "      <td>False</td>\n",
       "      <td>False</td>\n",
       "      <td>False</td>\n",
       "      <td>False</td>\n",
       "      <td>False</td>\n",
       "      <td>False</td>\n",
       "      <td>True</td>\n",
       "      <td>False</td>\n",
       "    </tr>\n",
       "  </tbody>\n",
       "</table>\n",
       "<p>5 rows × 54 columns</p>\n",
       "</div>"
      ],
      "text/plain": [
       "   Age  Attrition  DailyRate  DistanceFromHome  Education  EmployeeCount  \\\n",
       "0   41          1       1102                 1          2              1   \n",
       "1   49          0        279                 8          1              1   \n",
       "2   37          1       1373                 2          2              1   \n",
       "3   33          0       1392                 3          4              1   \n",
       "4   27          0        591                 2          1              1   \n",
       "\n",
       "   EmployeeNumber  EnvironmentSatisfaction  Gender  HourlyRate  \\\n",
       "0               1                        2       0          94   \n",
       "1               2                        3       1          61   \n",
       "2               4                        4       1          92   \n",
       "3               5                        4       0          56   \n",
       "4               7                        1       1          40   \n",
       "\n",
       "   JobInvolvement  JobLevel  JobSatisfaction  MonthlyIncome  MonthlyRate  \\\n",
       "0               3         2                4           5993        19479   \n",
       "1               2         2                2           5130        24907   \n",
       "2               2         1                3           2090         2396   \n",
       "3               3         1                3           2909        23159   \n",
       "4               3         1                2           3468        16632   \n",
       "\n",
       "   NumCompaniesWorked  Over18  OverTime  PercentSalaryHike  PerformanceRating  \\\n",
       "0                   8       1         1                 11                  3   \n",
       "1                   1       1         0                 23                  4   \n",
       "2                   6       1         1                 15                  3   \n",
       "3                   1       1         1                 11                  3   \n",
       "4                   9       1         0                 12                  3   \n",
       "\n",
       "   RelationshipSatisfaction  StandardHours  StockOptionLevel  \\\n",
       "0                         1             80                 0   \n",
       "1                         4             80                 1   \n",
       "2                         2             80                 0   \n",
       "3                         3             80                 0   \n",
       "4                         4             80                 1   \n",
       "\n",
       "   TotalWorkingYears  TrainingTimesLastYear  ...  YearsWithCurrManager  \\\n",
       "0                  8                      0  ...                     5   \n",
       "1                 10                      3  ...                     7   \n",
       "2                  7                      3  ...                     0   \n",
       "3                  8                      3  ...                     0   \n",
       "4                  6                      3  ...                     2   \n",
       "\n",
       "   Non-Travel  Travel_Frequently  Travel_Rarely  Department_Human Resources  \\\n",
       "0       False              False           True                       False   \n",
       "1       False               True          False                       False   \n",
       "2       False              False           True                       False   \n",
       "3       False               True          False                       False   \n",
       "4       False              False           True                       False   \n",
       "\n",
       "   Department_Research & Development  Department_Sales  \\\n",
       "0                              False              True   \n",
       "1                               True             False   \n",
       "2                               True             False   \n",
       "3                               True             False   \n",
       "4                               True             False   \n",
       "\n",
       "   Education_Human Resources  Education_Life Sciences  Education_Marketing  \\\n",
       "0                      False                     True                False   \n",
       "1                      False                     True                False   \n",
       "2                      False                    False                False   \n",
       "3                      False                     True                False   \n",
       "4                      False                    False                False   \n",
       "\n",
       "   Education_Medical  Education_Other  Education_Technical Degree  \\\n",
       "0              False            False                       False   \n",
       "1              False            False                       False   \n",
       "2              False             True                       False   \n",
       "3              False            False                       False   \n",
       "4               True            False                       False   \n",
       "\n",
       "   Role_Healthcare Representative  Role_Human Resources  \\\n",
       "0                           False                 False   \n",
       "1                           False                 False   \n",
       "2                           False                 False   \n",
       "3                           False                 False   \n",
       "4                           False                 False   \n",
       "\n",
       "   Role_Laboratory Technician  Role_Manager  Role_Manufacturing Director  \\\n",
       "0                       False         False                        False   \n",
       "1                       False         False                        False   \n",
       "2                        True         False                        False   \n",
       "3                       False         False                        False   \n",
       "4                        True         False                        False   \n",
       "\n",
       "   Role_Research Director  Role_Research Scientist  Role_Sales Executive  \\\n",
       "0                   False                    False                  True   \n",
       "1                   False                     True                 False   \n",
       "2                   False                    False                 False   \n",
       "3                   False                     True                 False   \n",
       "4                   False                    False                 False   \n",
       "\n",
       "   Role_Sales Representative  Status_Divorced  Status_Married  Status_Single  \n",
       "0                      False            False           False           True  \n",
       "1                      False            False            True          False  \n",
       "2                      False            False           False           True  \n",
       "3                      False            False            True          False  \n",
       "4                      False            False            True          False  \n",
       "\n",
       "[5 rows x 54 columns]"
      ]
     },
     "execution_count": 41,
     "metadata": {},
     "output_type": "execute_result"
    }
   ],
   "source": [
    "employees.head()"
   ]
  },
  {
   "cell_type": "code",
   "execution_count": 42,
   "metadata": {},
   "outputs": [],
   "source": [
    "# Map boolean values to binary integers:\n",
    "# - Convert `True` to 1\n",
    "# - Convert `False` to 0\n",
    "# - Leave other values unchanged\n",
    "\n",
    "employees = employees.map(lambda x: 1 if x is True else 0 if x is False else x)"
   ]
  },
  {
   "cell_type": "code",
   "execution_count": 43,
   "metadata": {},
   "outputs": [
    {
     "data": {
      "text/html": [
       "<div>\n",
       "<style scoped>\n",
       "    .dataframe tbody tr th:only-of-type {\n",
       "        vertical-align: middle;\n",
       "    }\n",
       "\n",
       "    .dataframe tbody tr th {\n",
       "        vertical-align: top;\n",
       "    }\n",
       "\n",
       "    .dataframe thead th {\n",
       "        text-align: right;\n",
       "    }\n",
       "</style>\n",
       "<table border=\"1\" class=\"dataframe\">\n",
       "  <thead>\n",
       "    <tr style=\"text-align: right;\">\n",
       "      <th></th>\n",
       "      <th>Age</th>\n",
       "      <th>Attrition</th>\n",
       "      <th>DailyRate</th>\n",
       "      <th>DistanceFromHome</th>\n",
       "      <th>Education</th>\n",
       "      <th>EmployeeCount</th>\n",
       "      <th>EmployeeNumber</th>\n",
       "      <th>EnvironmentSatisfaction</th>\n",
       "      <th>Gender</th>\n",
       "      <th>HourlyRate</th>\n",
       "      <th>JobInvolvement</th>\n",
       "      <th>JobLevel</th>\n",
       "      <th>JobSatisfaction</th>\n",
       "      <th>MonthlyIncome</th>\n",
       "      <th>MonthlyRate</th>\n",
       "      <th>NumCompaniesWorked</th>\n",
       "      <th>Over18</th>\n",
       "      <th>OverTime</th>\n",
       "      <th>PercentSalaryHike</th>\n",
       "      <th>PerformanceRating</th>\n",
       "      <th>RelationshipSatisfaction</th>\n",
       "      <th>StandardHours</th>\n",
       "      <th>StockOptionLevel</th>\n",
       "      <th>TotalWorkingYears</th>\n",
       "      <th>TrainingTimesLastYear</th>\n",
       "      <th>...</th>\n",
       "      <th>YearsWithCurrManager</th>\n",
       "      <th>Non-Travel</th>\n",
       "      <th>Travel_Frequently</th>\n",
       "      <th>Travel_Rarely</th>\n",
       "      <th>Department_Human Resources</th>\n",
       "      <th>Department_Research &amp; Development</th>\n",
       "      <th>Department_Sales</th>\n",
       "      <th>Education_Human Resources</th>\n",
       "      <th>Education_Life Sciences</th>\n",
       "      <th>Education_Marketing</th>\n",
       "      <th>Education_Medical</th>\n",
       "      <th>Education_Other</th>\n",
       "      <th>Education_Technical Degree</th>\n",
       "      <th>Role_Healthcare Representative</th>\n",
       "      <th>Role_Human Resources</th>\n",
       "      <th>Role_Laboratory Technician</th>\n",
       "      <th>Role_Manager</th>\n",
       "      <th>Role_Manufacturing Director</th>\n",
       "      <th>Role_Research Director</th>\n",
       "      <th>Role_Research Scientist</th>\n",
       "      <th>Role_Sales Executive</th>\n",
       "      <th>Role_Sales Representative</th>\n",
       "      <th>Status_Divorced</th>\n",
       "      <th>Status_Married</th>\n",
       "      <th>Status_Single</th>\n",
       "    </tr>\n",
       "  </thead>\n",
       "  <tbody>\n",
       "    <tr>\n",
       "      <th>0</th>\n",
       "      <td>41</td>\n",
       "      <td>1</td>\n",
       "      <td>1102</td>\n",
       "      <td>1</td>\n",
       "      <td>2</td>\n",
       "      <td>1</td>\n",
       "      <td>1</td>\n",
       "      <td>2</td>\n",
       "      <td>0</td>\n",
       "      <td>94</td>\n",
       "      <td>3</td>\n",
       "      <td>2</td>\n",
       "      <td>4</td>\n",
       "      <td>5993</td>\n",
       "      <td>19479</td>\n",
       "      <td>8</td>\n",
       "      <td>1</td>\n",
       "      <td>1</td>\n",
       "      <td>11</td>\n",
       "      <td>3</td>\n",
       "      <td>1</td>\n",
       "      <td>80</td>\n",
       "      <td>0</td>\n",
       "      <td>8</td>\n",
       "      <td>0</td>\n",
       "      <td>...</td>\n",
       "      <td>5</td>\n",
       "      <td>0</td>\n",
       "      <td>0</td>\n",
       "      <td>1</td>\n",
       "      <td>0</td>\n",
       "      <td>0</td>\n",
       "      <td>1</td>\n",
       "      <td>0</td>\n",
       "      <td>1</td>\n",
       "      <td>0</td>\n",
       "      <td>0</td>\n",
       "      <td>0</td>\n",
       "      <td>0</td>\n",
       "      <td>0</td>\n",
       "      <td>0</td>\n",
       "      <td>0</td>\n",
       "      <td>0</td>\n",
       "      <td>0</td>\n",
       "      <td>0</td>\n",
       "      <td>0</td>\n",
       "      <td>1</td>\n",
       "      <td>0</td>\n",
       "      <td>0</td>\n",
       "      <td>0</td>\n",
       "      <td>1</td>\n",
       "    </tr>\n",
       "    <tr>\n",
       "      <th>1</th>\n",
       "      <td>49</td>\n",
       "      <td>0</td>\n",
       "      <td>279</td>\n",
       "      <td>8</td>\n",
       "      <td>1</td>\n",
       "      <td>1</td>\n",
       "      <td>2</td>\n",
       "      <td>3</td>\n",
       "      <td>1</td>\n",
       "      <td>61</td>\n",
       "      <td>2</td>\n",
       "      <td>2</td>\n",
       "      <td>2</td>\n",
       "      <td>5130</td>\n",
       "      <td>24907</td>\n",
       "      <td>1</td>\n",
       "      <td>1</td>\n",
       "      <td>0</td>\n",
       "      <td>23</td>\n",
       "      <td>4</td>\n",
       "      <td>4</td>\n",
       "      <td>80</td>\n",
       "      <td>1</td>\n",
       "      <td>10</td>\n",
       "      <td>3</td>\n",
       "      <td>...</td>\n",
       "      <td>7</td>\n",
       "      <td>0</td>\n",
       "      <td>1</td>\n",
       "      <td>0</td>\n",
       "      <td>0</td>\n",
       "      <td>1</td>\n",
       "      <td>0</td>\n",
       "      <td>0</td>\n",
       "      <td>1</td>\n",
       "      <td>0</td>\n",
       "      <td>0</td>\n",
       "      <td>0</td>\n",
       "      <td>0</td>\n",
       "      <td>0</td>\n",
       "      <td>0</td>\n",
       "      <td>0</td>\n",
       "      <td>0</td>\n",
       "      <td>0</td>\n",
       "      <td>0</td>\n",
       "      <td>1</td>\n",
       "      <td>0</td>\n",
       "      <td>0</td>\n",
       "      <td>0</td>\n",
       "      <td>1</td>\n",
       "      <td>0</td>\n",
       "    </tr>\n",
       "    <tr>\n",
       "      <th>2</th>\n",
       "      <td>37</td>\n",
       "      <td>1</td>\n",
       "      <td>1373</td>\n",
       "      <td>2</td>\n",
       "      <td>2</td>\n",
       "      <td>1</td>\n",
       "      <td>4</td>\n",
       "      <td>4</td>\n",
       "      <td>1</td>\n",
       "      <td>92</td>\n",
       "      <td>2</td>\n",
       "      <td>1</td>\n",
       "      <td>3</td>\n",
       "      <td>2090</td>\n",
       "      <td>2396</td>\n",
       "      <td>6</td>\n",
       "      <td>1</td>\n",
       "      <td>1</td>\n",
       "      <td>15</td>\n",
       "      <td>3</td>\n",
       "      <td>2</td>\n",
       "      <td>80</td>\n",
       "      <td>0</td>\n",
       "      <td>7</td>\n",
       "      <td>3</td>\n",
       "      <td>...</td>\n",
       "      <td>0</td>\n",
       "      <td>0</td>\n",
       "      <td>0</td>\n",
       "      <td>1</td>\n",
       "      <td>0</td>\n",
       "      <td>1</td>\n",
       "      <td>0</td>\n",
       "      <td>0</td>\n",
       "      <td>0</td>\n",
       "      <td>0</td>\n",
       "      <td>0</td>\n",
       "      <td>1</td>\n",
       "      <td>0</td>\n",
       "      <td>0</td>\n",
       "      <td>0</td>\n",
       "      <td>1</td>\n",
       "      <td>0</td>\n",
       "      <td>0</td>\n",
       "      <td>0</td>\n",
       "      <td>0</td>\n",
       "      <td>0</td>\n",
       "      <td>0</td>\n",
       "      <td>0</td>\n",
       "      <td>0</td>\n",
       "      <td>1</td>\n",
       "    </tr>\n",
       "    <tr>\n",
       "      <th>3</th>\n",
       "      <td>33</td>\n",
       "      <td>0</td>\n",
       "      <td>1392</td>\n",
       "      <td>3</td>\n",
       "      <td>4</td>\n",
       "      <td>1</td>\n",
       "      <td>5</td>\n",
       "      <td>4</td>\n",
       "      <td>0</td>\n",
       "      <td>56</td>\n",
       "      <td>3</td>\n",
       "      <td>1</td>\n",
       "      <td>3</td>\n",
       "      <td>2909</td>\n",
       "      <td>23159</td>\n",
       "      <td>1</td>\n",
       "      <td>1</td>\n",
       "      <td>1</td>\n",
       "      <td>11</td>\n",
       "      <td>3</td>\n",
       "      <td>3</td>\n",
       "      <td>80</td>\n",
       "      <td>0</td>\n",
       "      <td>8</td>\n",
       "      <td>3</td>\n",
       "      <td>...</td>\n",
       "      <td>0</td>\n",
       "      <td>0</td>\n",
       "      <td>1</td>\n",
       "      <td>0</td>\n",
       "      <td>0</td>\n",
       "      <td>1</td>\n",
       "      <td>0</td>\n",
       "      <td>0</td>\n",
       "      <td>1</td>\n",
       "      <td>0</td>\n",
       "      <td>0</td>\n",
       "      <td>0</td>\n",
       "      <td>0</td>\n",
       "      <td>0</td>\n",
       "      <td>0</td>\n",
       "      <td>0</td>\n",
       "      <td>0</td>\n",
       "      <td>0</td>\n",
       "      <td>0</td>\n",
       "      <td>1</td>\n",
       "      <td>0</td>\n",
       "      <td>0</td>\n",
       "      <td>0</td>\n",
       "      <td>1</td>\n",
       "      <td>0</td>\n",
       "    </tr>\n",
       "    <tr>\n",
       "      <th>4</th>\n",
       "      <td>27</td>\n",
       "      <td>0</td>\n",
       "      <td>591</td>\n",
       "      <td>2</td>\n",
       "      <td>1</td>\n",
       "      <td>1</td>\n",
       "      <td>7</td>\n",
       "      <td>1</td>\n",
       "      <td>1</td>\n",
       "      <td>40</td>\n",
       "      <td>3</td>\n",
       "      <td>1</td>\n",
       "      <td>2</td>\n",
       "      <td>3468</td>\n",
       "      <td>16632</td>\n",
       "      <td>9</td>\n",
       "      <td>1</td>\n",
       "      <td>0</td>\n",
       "      <td>12</td>\n",
       "      <td>3</td>\n",
       "      <td>4</td>\n",
       "      <td>80</td>\n",
       "      <td>1</td>\n",
       "      <td>6</td>\n",
       "      <td>3</td>\n",
       "      <td>...</td>\n",
       "      <td>2</td>\n",
       "      <td>0</td>\n",
       "      <td>0</td>\n",
       "      <td>1</td>\n",
       "      <td>0</td>\n",
       "      <td>1</td>\n",
       "      <td>0</td>\n",
       "      <td>0</td>\n",
       "      <td>0</td>\n",
       "      <td>0</td>\n",
       "      <td>1</td>\n",
       "      <td>0</td>\n",
       "      <td>0</td>\n",
       "      <td>0</td>\n",
       "      <td>0</td>\n",
       "      <td>1</td>\n",
       "      <td>0</td>\n",
       "      <td>0</td>\n",
       "      <td>0</td>\n",
       "      <td>0</td>\n",
       "      <td>0</td>\n",
       "      <td>0</td>\n",
       "      <td>0</td>\n",
       "      <td>1</td>\n",
       "      <td>0</td>\n",
       "    </tr>\n",
       "  </tbody>\n",
       "</table>\n",
       "<p>5 rows × 54 columns</p>\n",
       "</div>"
      ],
      "text/plain": [
       "   Age  Attrition  DailyRate  DistanceFromHome  Education  EmployeeCount  \\\n",
       "0   41          1       1102                 1          2              1   \n",
       "1   49          0        279                 8          1              1   \n",
       "2   37          1       1373                 2          2              1   \n",
       "3   33          0       1392                 3          4              1   \n",
       "4   27          0        591                 2          1              1   \n",
       "\n",
       "   EmployeeNumber  EnvironmentSatisfaction  Gender  HourlyRate  \\\n",
       "0               1                        2       0          94   \n",
       "1               2                        3       1          61   \n",
       "2               4                        4       1          92   \n",
       "3               5                        4       0          56   \n",
       "4               7                        1       1          40   \n",
       "\n",
       "   JobInvolvement  JobLevel  JobSatisfaction  MonthlyIncome  MonthlyRate  \\\n",
       "0               3         2                4           5993        19479   \n",
       "1               2         2                2           5130        24907   \n",
       "2               2         1                3           2090         2396   \n",
       "3               3         1                3           2909        23159   \n",
       "4               3         1                2           3468        16632   \n",
       "\n",
       "   NumCompaniesWorked  Over18  OverTime  PercentSalaryHike  PerformanceRating  \\\n",
       "0                   8       1         1                 11                  3   \n",
       "1                   1       1         0                 23                  4   \n",
       "2                   6       1         1                 15                  3   \n",
       "3                   1       1         1                 11                  3   \n",
       "4                   9       1         0                 12                  3   \n",
       "\n",
       "   RelationshipSatisfaction  StandardHours  StockOptionLevel  \\\n",
       "0                         1             80                 0   \n",
       "1                         4             80                 1   \n",
       "2                         2             80                 0   \n",
       "3                         3             80                 0   \n",
       "4                         4             80                 1   \n",
       "\n",
       "   TotalWorkingYears  TrainingTimesLastYear  ...  YearsWithCurrManager  \\\n",
       "0                  8                      0  ...                     5   \n",
       "1                 10                      3  ...                     7   \n",
       "2                  7                      3  ...                     0   \n",
       "3                  8                      3  ...                     0   \n",
       "4                  6                      3  ...                     2   \n",
       "\n",
       "   Non-Travel  Travel_Frequently  Travel_Rarely  Department_Human Resources  \\\n",
       "0           0                  0              1                           0   \n",
       "1           0                  1              0                           0   \n",
       "2           0                  0              1                           0   \n",
       "3           0                  1              0                           0   \n",
       "4           0                  0              1                           0   \n",
       "\n",
       "   Department_Research & Development  Department_Sales  \\\n",
       "0                                  0                 1   \n",
       "1                                  1                 0   \n",
       "2                                  1                 0   \n",
       "3                                  1                 0   \n",
       "4                                  1                 0   \n",
       "\n",
       "   Education_Human Resources  Education_Life Sciences  Education_Marketing  \\\n",
       "0                          0                        1                    0   \n",
       "1                          0                        1                    0   \n",
       "2                          0                        0                    0   \n",
       "3                          0                        1                    0   \n",
       "4                          0                        0                    0   \n",
       "\n",
       "   Education_Medical  Education_Other  Education_Technical Degree  \\\n",
       "0                  0                0                           0   \n",
       "1                  0                0                           0   \n",
       "2                  0                1                           0   \n",
       "3                  0                0                           0   \n",
       "4                  1                0                           0   \n",
       "\n",
       "   Role_Healthcare Representative  Role_Human Resources  \\\n",
       "0                               0                     0   \n",
       "1                               0                     0   \n",
       "2                               0                     0   \n",
       "3                               0                     0   \n",
       "4                               0                     0   \n",
       "\n",
       "   Role_Laboratory Technician  Role_Manager  Role_Manufacturing Director  \\\n",
       "0                           0             0                            0   \n",
       "1                           0             0                            0   \n",
       "2                           1             0                            0   \n",
       "3                           0             0                            0   \n",
       "4                           1             0                            0   \n",
       "\n",
       "   Role_Research Director  Role_Research Scientist  Role_Sales Executive  \\\n",
       "0                       0                        0                     1   \n",
       "1                       0                        1                     0   \n",
       "2                       0                        0                     0   \n",
       "3                       0                        1                     0   \n",
       "4                       0                        0                     0   \n",
       "\n",
       "   Role_Sales Representative  Status_Divorced  Status_Married  Status_Single  \n",
       "0                          0                0               0              1  \n",
       "1                          0                0               1              0  \n",
       "2                          0                0               0              1  \n",
       "3                          0                0               1              0  \n",
       "4                          0                0               1              0  \n",
       "\n",
       "[5 rows x 54 columns]"
      ]
     },
     "execution_count": 43,
     "metadata": {},
     "output_type": "execute_result"
    }
   ],
   "source": [
    "employees.head()"
   ]
  },
  {
   "cell_type": "code",
   "execution_count": 44,
   "metadata": {},
   "outputs": [],
   "source": [
    "# Import matplotlib's pyplot module for creating plots and visualizations.\n",
    "\n",
    "import matplotlib.pyplot as plt"
   ]
  },
  {
   "cell_type": "code",
   "execution_count": 45,
   "metadata": {},
   "outputs": [
    {
     "data": {
      "image/png": "[encoded data removed]",
      "text/plain": [
       "<Figure size 2000x1500 with 56 Axes>"
      ]
     },
     "metadata": {},
     "output_type": "display_data"
    }
   ],
   "source": [
    "# Plot histograms for all numeric features in the DataFrame.\n",
    "# - `figsize` specifies the size of the figure.\n",
    "# - `plt.tight_layout()` adjusts subplot parameters for a cleaner layout.\n",
    "# - `plt.show()` displays the plots.\n",
    "\n",
    "employees.hist(figsize=(20, 15))\n",
    "plt.tight_layout()\n",
    "plt.show()"
   ]
  },
  {
   "cell_type": "markdown",
   "metadata": {},
   "source": [
    "What to drop: EmployeeCount, Over18, StandardHours,"
   ]
  },
  {
   "cell_type": "code",
   "execution_count": 46,
   "metadata": {},
   "outputs": [],
   "source": [
    "# Remove unnecessary columns from the DataFrame:\n",
    "# - \"EmployeeCount\", \"Over18\", and \"StandardHours\" are dropped.\n",
    "# - `inplace=True` modifies the DataFrame directly.\n",
    "\n",
    "employees.drop(columns=[\"EmployeeCount\", \"Over18\", \"StandardHours\"], axis=1, inplace=True)"
   ]
  },
  {
   "cell_type": "markdown",
   "metadata": {},
   "source": [
    "## Model Training"
   ]
  },
  {
   "cell_type": "code",
   "execution_count": 47,
   "metadata": {},
   "outputs": [],
   "source": [
    "# Import the RandomForestClassifier for constructing ensemble-based classification models.\n",
    "# Import train_test_split for partitioning the dataset into training and testing subsets for model evaluation.\n",
    "\n",
    "from sklearn.ensemble import RandomForestClassifier\n",
    "from sklearn.model_selection import train_test_split"
   ]
  },
  {
   "cell_type": "code",
   "execution_count": 48,
   "metadata": {},
   "outputs": [],
   "source": [
    "# Separate the features and target variable:\n",
    "# - `X` contains all columns except \"Attrition\" (features).\n",
    "# - `y` contains the \"Attrition\" column (target variable).\n",
    "\n",
    "X, y = employees.drop(columns=[\"Attrition\"], axis=1), employees['Attrition']"
   ]
  },
  {
   "cell_type": "code",
   "execution_count": 49,
   "metadata": {},
   "outputs": [],
   "source": [
    "# Split the data into training and testing sets:\n",
    "# - `X_train` and `y_train` are used for training the model.\n",
    "# - `X_test` and `y_test` are used for evaluating the model.\n",
    "# - `test_size=0.2` specifies that 20% of the data will be allocated to the test set.\n",
    "\n",
    "X_train, X_test, y_train, y_test = train_test_split(X, y, test_size=0.2)"
   ]
  },
  {
   "cell_type": "code",
   "execution_count": 50,
   "metadata": {},
   "outputs": [
    {
     "data": {
      "text/html": [
       "<style>#sk-container-id-3 {\n",
       "  /* Definition of color scheme common for light and dark mode */\n",
       "  --sklearn-color-text: black;\n",
       "  --sklearn-color-line: gray;\n",
       "  /* Definition of color scheme for unfitted estimators */\n",
       "  --sklearn-color-unfitted-level-0: #fff5e6;\n",
       "  --sklearn-color-unfitted-level-1: #f6e4d2;\n",
       "  --sklearn-color-unfitted-level-2: #ffe0b3;\n",
       "  --sklearn-color-unfitted-level-3: chocolate;\n",
       "  /* Definition of color scheme for fitted estimators */\n",
       "  --sklearn-color-fitted-level-0: #f0f8ff;\n",
       "  --sklearn-color-fitted-level-1: #d4ebff;\n",
       "  --sklearn-color-fitted-level-2: #b3dbfd;\n",
       "  --sklearn-color-fitted-level-3: cornflowerblue;\n",
       "\n",
       "  /* Specific color for light theme */\n",
       "  --sklearn-color-text-on-default-background: var(--sg-text-color, var(--theme-code-foreground, var(--jp-content-font-color1, black)));\n",
       "  --sklearn-color-background: var(--sg-background-color, var(--theme-background, var(--jp-layout-color0, white)));\n",
       "  --sklearn-color-border-box: var(--sg-text-color, var(--theme-code-foreground, var(--jp-content-font-color1, black)));\n",
       "  --sklearn-color-icon: #696969;\n",
       "\n",
       "  @media (prefers-color-scheme: dark) {\n",
       "    /* Redefinition of color scheme for dark theme */\n",
       "    --sklearn-color-text-on-default-background: var(--sg-text-color, var(--theme-code-foreground, var(--jp-content-font-color1, white)));\n",
       "    --sklearn-color-background: var(--sg-background-color, var(--theme-background, var(--jp-layout-color0, #111)));\n",
       "    --sklearn-color-border-box: var(--sg-text-color, var(--theme-code-foreground, var(--jp-content-font-color1, white)));\n",
       "    --sklearn-color-icon: #878787;\n",
       "  }\n",
       "}\n",
       "\n",
       "#sk-container-id-3 {\n",
       "  color: var(--sklearn-color-text);\n",
       "}\n",
       "\n",
       "#sk-container-id-3 pre {\n",
       "  padding: 0;\n",
       "}\n",
       "\n",
       "#sk-container-id-3 input.sk-hidden--visually {\n",
       "  border: 0;\n",
       "  clip: rect(1px 1px 1px 1px);\n",
       "  clip: rect(1px, 1px, 1px, 1px);\n",
       "  height: 1px;\n",
       "  margin: -1px;\n",
       "  overflow: hidden;\n",
       "  padding: 0;\n",
       "  position: absolute;\n",
       "  width: 1px;\n",
       "}\n",
       "\n",
       "#sk-container-id-3 div.sk-dashed-wrapped {\n",
       "  border: 1px dashed var(--sklearn-color-line);\n",
       "  margin: 0 0.4em 0.5em 0.4em;\n",
       "  box-sizing: border-box;\n",
       "  padding-bottom: 0.4em;\n",
       "  background-color: var(--sklearn-color-background);\n",
       "}\n",
       "\n",
       "#sk-container-id-3 div.sk-container {\n",
       "  /* jupyter's `normalize.less` sets `[hidden] { display: none; }`\n",
       "     but bootstrap.min.css set `[hidden] { display: none !important; }`\n",
       "     so we also need the `!important` here to be able to override the\n",
       "     default hidden behavior on the sphinx rendered scikit-learn.org.\n",
       "     See: https://github.com/scikit-learn/scikit-learn/issues/21755 */\n",
       "  display: inline-block !important;\n",
       "  position: relative;\n",
       "}\n",
       "\n",
       "#sk-container-id-3 div.sk-text-repr-fallback {\n",
       "  display: none;\n",
       "}\n",
       "\n",
       "div.sk-parallel-item,\n",
       "div.sk-serial,\n",
       "div.sk-item {\n",
       "  /* draw centered vertical line to link estimators */\n",
       "  background-image: linear-gradient(var(--sklearn-color-text-on-default-background), var(--sklearn-color-text-on-default-background));\n",
       "  background-size: 2px 100%;\n",
       "  background-repeat: no-repeat;\n",
       "  background-position: center center;\n",
       "}\n",
       "\n",
       "/* Parallel-specific style estimator block */\n",
       "\n",
       "#sk-container-id-3 div.sk-parallel-item::after {\n",
       "  content: \"\";\n",
       "  width: 100%;\n",
       "  border-bottom: 2px solid var(--sklearn-color-text-on-default-background);\n",
       "  flex-grow: 1;\n",
       "}\n",
       "\n",
       "#sk-container-id-3 div.sk-parallel {\n",
       "  display: flex;\n",
       "  align-items: stretch;\n",
       "  justify-content: center;\n",
       "  background-color: var(--sklearn-color-background);\n",
       "  position: relative;\n",
       "}\n",
       "\n",
       "#sk-container-id-3 div.sk-parallel-item {\n",
       "  display: flex;\n",
       "  flex-direction: column;\n",
       "}\n",
       "\n",
       "#sk-container-id-3 div.sk-parallel-item:first-child::after {\n",
       "  align-self: flex-end;\n",
       "  width: 50%;\n",
       "}\n",
       "\n",
       "#sk-container-id-3 div.sk-parallel-item:last-child::after {\n",
       "  align-self: flex-start;\n",
       "  width: 50%;\n",
       "}\n",
       "\n",
       "#sk-container-id-3 div.sk-parallel-item:only-child::after {\n",
       "  width: 0;\n",
       "}\n",
       "\n",
       "/* Serial-specific style estimator block */\n",
       "\n",
       "#sk-container-id-3 div.sk-serial {\n",
       "  display: flex;\n",
       "  flex-direction: column;\n",
       "  align-items: center;\n",
       "  background-color: var(--sklearn-color-background);\n",
       "  padding-right: 1em;\n",
       "  padding-left: 1em;\n",
       "}\n",
       "\n",
       "\n",
       "/* Toggleable style: style used for estimator/Pipeline/ColumnTransformer box that is\n",
       "clickable and can be expanded/collapsed.\n",
       "- Pipeline and ColumnTransformer use this feature and define the default style\n",
       "- Estimators will overwrite some part of the style using the `sk-estimator` class\n",
       "*/\n",
       "\n",
       "/* Pipeline and ColumnTransformer style (default) */\n",
       "\n",
       "#sk-container-id-3 div.sk-toggleable {\n",
       "  /* Default theme specific background. It is overwritten whether we have a\n",
       "  specific estimator or a Pipeline/ColumnTransformer */\n",
       "  background-color: var(--sklearn-color-background);\n",
       "}\n",
       "\n",
       "/* Toggleable label */\n",
       "#sk-container-id-3 label.sk-toggleable__label {\n",
       "  cursor: pointer;\n",
       "  display: block;\n",
       "  width: 100%;\n",
       "  margin-bottom: 0;\n",
       "  padding: 0.5em;\n",
       "  box-sizing: border-box;\n",
       "  text-align: center;\n",
       "}\n",
       "\n",
       "#sk-container-id-3 label.sk-toggleable__label-arrow:before {\n",
       "  /* Arrow on the left of the label */\n",
       "  content: \"▸\";\n",
       "  float: left;\n",
       "  margin-right: 0.25em;\n",
       "  color: var(--sklearn-color-icon);\n",
       "}\n",
       "\n",
       "#sk-container-id-3 label.sk-toggleable__label-arrow:hover:before {\n",
       "  color: var(--sklearn-color-text);\n",
       "}\n",
       "\n",
       "/* Toggleable content - dropdown */\n",
       "\n",
       "#sk-container-id-3 div.sk-toggleable__content {\n",
       "  max-height: 0;\n",
       "  max-width: 0;\n",
       "  overflow: hidden;\n",
       "  text-align: left;\n",
       "  /* unfitted */\n",
       "  background-color: var(--sklearn-color-unfitted-level-0);\n",
       "}\n",
       "\n",
       "#sk-container-id-3 div.sk-toggleable__content.fitted {\n",
       "  /* fitted */\n",
       "  background-color: var(--sklearn-color-fitted-level-0);\n",
       "}\n",
       "\n",
       "#sk-container-id-3 div.sk-toggleable__content pre {\n",
       "  margin: 0.2em;\n",
       "  border-radius: 0.25em;\n",
       "  color: var(--sklearn-color-text);\n",
       "  /* unfitted */\n",
       "  background-color: var(--sklearn-color-unfitted-level-0);\n",
       "}\n",
       "\n",
       "#sk-container-id-3 div.sk-toggleable__content.fitted pre {\n",
       "  /* unfitted */\n",
       "  background-color: var(--sklearn-color-fitted-level-0);\n",
       "}\n",
       "\n",
       "#sk-container-id-3 input.sk-toggleable__control:checked~div.sk-toggleable__content {\n",
       "  /* Expand drop-down */\n",
       "  max-height: 200px;\n",
       "  max-width: 100%;\n",
       "  overflow: auto;\n",
       "}\n",
       "\n",
       "#sk-container-id-3 input.sk-toggleable__control:checked~label.sk-toggleable__label-arrow:before {\n",
       "  content: \"▾\";\n",
       "}\n",
       "\n",
       "/* Pipeline/ColumnTransformer-specific style */\n",
       "\n",
       "#sk-container-id-3 div.sk-label input.sk-toggleable__control:checked~label.sk-toggleable__label {\n",
       "  color: var(--sklearn-color-text);\n",
       "  background-color: var(--sklearn-color-unfitted-level-2);\n",
       "}\n",
       "\n",
       "#sk-container-id-3 div.sk-label.fitted input.sk-toggleable__control:checked~label.sk-toggleable__label {\n",
       "  background-color: var(--sklearn-color-fitted-level-2);\n",
       "}\n",
       "\n",
       "/* Estimator-specific style */\n",
       "\n",
       "/* Colorize estimator box */\n",
       "#sk-container-id-3 div.sk-estimator input.sk-toggleable__control:checked~label.sk-toggleable__label {\n",
       "  /* unfitted */\n",
       "  background-color: var(--sklearn-color-unfitted-level-2);\n",
       "}\n",
       "\n",
       "#sk-container-id-3 div.sk-estimator.fitted input.sk-toggleable__control:checked~label.sk-toggleable__label {\n",
       "  /* fitted */\n",
       "  background-color: var(--sklearn-color-fitted-level-2);\n",
       "}\n",
       "\n",
       "#sk-container-id-3 div.sk-label label.sk-toggleable__label,\n",
       "#sk-container-id-3 div.sk-label label {\n",
       "  /* The background is the default theme color */\n",
       "  color: var(--sklearn-color-text-on-default-background);\n",
       "}\n",
       "\n",
       "/* On hover, darken the color of the background */\n",
       "#sk-container-id-3 div.sk-label:hover label.sk-toggleable__label {\n",
       "  color: var(--sklearn-color-text);\n",
       "  background-color: var(--sklearn-color-unfitted-level-2);\n",
       "}\n",
       "\n",
       "/* Label box, darken color on hover, fitted */\n",
       "#sk-container-id-3 div.sk-label.fitted:hover label.sk-toggleable__label.fitted {\n",
       "  color: var(--sklearn-color-text);\n",
       "  background-color: var(--sklearn-color-fitted-level-2);\n",
       "}\n",
       "\n",
       "/* Estimator label */\n",
       "\n",
       "#sk-container-id-3 div.sk-label label {\n",
       "  font-family: monospace;\n",
       "  font-weight: bold;\n",
       "  display: inline-block;\n",
       "  line-height: 1.2em;\n",
       "}\n",
       "\n",
       "#sk-container-id-3 div.sk-label-container {\n",
       "  text-align: center;\n",
       "}\n",
       "\n",
       "/* Estimator-specific */\n",
       "#sk-container-id-3 div.sk-estimator {\n",
       "  font-family: monospace;\n",
       "  border: 1px dotted var(--sklearn-color-border-box);\n",
       "  border-radius: 0.25em;\n",
       "  box-sizing: border-box;\n",
       "  margin-bottom: 0.5em;\n",
       "  /* unfitted */\n",
       "  background-color: var(--sklearn-color-unfitted-level-0);\n",
       "}\n",
       "\n",
       "#sk-container-id-3 div.sk-estimator.fitted {\n",
       "  /* fitted */\n",
       "  background-color: var(--sklearn-color-fitted-level-0);\n",
       "}\n",
       "\n",
       "/* on hover */\n",
       "#sk-container-id-3 div.sk-estimator:hover {\n",
       "  /* unfitted */\n",
       "  background-color: var(--sklearn-color-unfitted-level-2);\n",
       "}\n",
       "\n",
       "#sk-container-id-3 div.sk-estimator.fitted:hover {\n",
       "  /* fitted */\n",
       "  background-color: var(--sklearn-color-fitted-level-2);\n",
       "}\n",
       "\n",
       "/* Specification for estimator info (e.g. \"i\" and \"?\") */\n",
       "\n",
       "/* Common style for \"i\" and \"?\" */\n",
       "\n",
       ".sk-estimator-doc-link,\n",
       "a:link.sk-estimator-doc-link,\n",
       "a:visited.sk-estimator-doc-link {\n",
       "  float: right;\n",
       "  font-size: smaller;\n",
       "  line-height: 1em;\n",
       "  font-family: monospace;\n",
       "  background-color: var(--sklearn-color-background);\n",
       "  border-radius: 1em;\n",
       "  height: 1em;\n",
       "  width: 1em;\n",
       "  text-decoration: none !important;\n",
       "  margin-left: 1ex;\n",
       "  /* unfitted */\n",
       "  border: var(--sklearn-color-unfitted-level-1) 1pt solid;\n",
       "  color: var(--sklearn-color-unfitted-level-1);\n",
       "}\n",
       "\n",
       ".sk-estimator-doc-link.fitted,\n",
       "a:link.sk-estimator-doc-link.fitted,\n",
       "a:visited.sk-estimator-doc-link.fitted {\n",
       "  /* fitted */\n",
       "  border: var(--sklearn-color-fitted-level-1) 1pt solid;\n",
       "  color: var(--sklearn-color-fitted-level-1);\n",
       "}\n",
       "\n",
       "/* On hover */\n",
       "div.sk-estimator:hover .sk-estimator-doc-link:hover,\n",
       ".sk-estimator-doc-link:hover,\n",
       "div.sk-label-container:hover .sk-estimator-doc-link:hover,\n",
       ".sk-estimator-doc-link:hover {\n",
       "  /* unfitted */\n",
       "  background-color: var(--sklearn-color-unfitted-level-3);\n",
       "  color: var(--sklearn-color-background);\n",
       "  text-decoration: none;\n",
       "}\n",
       "\n",
       "div.sk-estimator.fitted:hover .sk-estimator-doc-link.fitted:hover,\n",
       ".sk-estimator-doc-link.fitted:hover,\n",
       "div.sk-label-container:hover .sk-estimator-doc-link.fitted:hover,\n",
       ".sk-estimator-doc-link.fitted:hover {\n",
       "  /* fitted */\n",
       "  background-color: var(--sklearn-color-fitted-level-3);\n",
       "  color: var(--sklearn-color-background);\n",
       "  text-decoration: none;\n",
       "}\n",
       "\n",
       "/* Span, style for the box shown on hovering the info icon */\n",
       ".sk-estimator-doc-link span {\n",
       "  display: none;\n",
       "  z-index: 9999;\n",
       "  position: relative;\n",
       "  font-weight: normal;\n",
       "  right: .2ex;\n",
       "  padding: .5ex;\n",
       "  margin: .5ex;\n",
       "  width: min-content;\n",
       "  min-width: 20ex;\n",
       "  max-width: 50ex;\n",
       "  color: var(--sklearn-color-text);\n",
       "  box-shadow: 2pt 2pt 4pt #999;\n",
       "  /* unfitted */\n",
       "  background: var(--sklearn-color-unfitted-level-0);\n",
       "  border: .5pt solid var(--sklearn-color-unfitted-level-3);\n",
       "}\n",
       "\n",
       ".sk-estimator-doc-link.fitted span {\n",
       "  /* fitted */\n",
       "  background: var(--sklearn-color-fitted-level-0);\n",
       "  border: var(--sklearn-color-fitted-level-3);\n",
       "}\n",
       "\n",
       ".sk-estimator-doc-link:hover span {\n",
       "  display: block;\n",
       "}\n",
       "\n",
       "/* \"?\"-specific style due to the `<a>` HTML tag */\n",
       "\n",
       "#sk-container-id-3 a.estimator_doc_link {\n",
       "  float: right;\n",
       "  font-size: 1rem;\n",
       "  line-height: 1em;\n",
       "  font-family: monospace;\n",
       "  background-color: var(--sklearn-color-background);\n",
       "  border-radius: 1rem;\n",
       "  height: 1rem;\n",
       "  width: 1rem;\n",
       "  text-decoration: none;\n",
       "  /* unfitted */\n",
       "  color: var(--sklearn-color-unfitted-level-1);\n",
       "  border: var(--sklearn-color-unfitted-level-1) 1pt solid;\n",
       "}\n",
       "\n",
       "#sk-container-id-3 a.estimator_doc_link.fitted {\n",
       "  /* fitted */\n",
       "  border: var(--sklearn-color-fitted-level-1) 1pt solid;\n",
       "  color: var(--sklearn-color-fitted-level-1);\n",
       "}\n",
       "\n",
       "/* On hover */\n",
       "#sk-container-id-3 a.estimator_doc_link:hover {\n",
       "  /* unfitted */\n",
       "  background-color: var(--sklearn-color-unfitted-level-3);\n",
       "  color: var(--sklearn-color-background);\n",
       "  text-decoration: none;\n",
       "}\n",
       "\n",
       "#sk-container-id-3 a.estimator_doc_link.fitted:hover {\n",
       "  /* fitted */\n",
       "  background-color: var(--sklearn-color-fitted-level-3);\n",
       "}\n",
       "</style><div id=\"sk-container-id-3\" class=\"sk-top-container\"><div class=\"sk-text-repr-fallback\"><pre>RandomForestClassifier(n_jobs=-1)</pre><b>In a Jupyter environment, please rerun this cell to show the HTML representation or trust the notebook. <br />On GitHub, the HTML representation is unable to render, please try loading this page with nbviewer.org.</b></div><div class=\"sk-container\" hidden><div class=\"sk-item\"><div class=\"sk-estimator fitted sk-toggleable\"><input class=\"sk-toggleable__control sk-hidden--visually\" id=\"sk-estimator-id-3\" type=\"checkbox\" checked><label for=\"sk-estimator-id-3\" class=\"sk-toggleable__label fitted sk-toggleable__label-arrow fitted\">&nbsp;&nbsp;RandomForestClassifier<a class=\"sk-estimator-doc-link fitted\" rel=\"noreferrer\" target=\"_blank\" href=\"https://scikit-learn.org/1.5/modules/generated/sklearn.ensemble.RandomForestClassifier.html\">?<span>Documentation for RandomForestClassifier</span></a><span class=\"sk-estimator-doc-link fitted\">i<span>Fitted</span></span></label><div class=\"sk-toggleable__content fitted\"><pre>RandomForestClassifier(n_jobs=-1)</pre></div> </div></div></div></div>"
      ],
      "text/plain": [
       "RandomForestClassifier(n_jobs=-1)"
      ]
     },
     "execution_count": 50,
     "metadata": {},
     "output_type": "execute_result"
    }
   ],
   "source": [
    "# Initialize the RandomForestClassifier with parallel processing enabled (`n_jobs=-1`).\n",
    "# Fit the model to the training data (`X_train` and `y_train`).\n",
    "\n",
    "model = RandomForestClassifier(n_jobs=-1)\n",
    "model.fit(X_train, y_train)"
   ]
  },
  {
   "cell_type": "code",
   "execution_count": 51,
   "metadata": {},
   "outputs": [
    {
     "data": {
      "text/plain": [
       "0.8707482993197279"
      ]
     },
     "execution_count": 51,
     "metadata": {},
     "output_type": "execute_result"
    }
   ],
   "source": [
    "# Evaluate the model's performance on the test set by calculating the accuracy score.\n",
    "# - `X_test` and `y_test` are used to assess how well the model generalizes to unseen data.\n",
    "\n",
    "model.score(X_test, y_test)"
   ]
  },
  {
   "cell_type": "code",
   "execution_count": 52,
   "metadata": {},
   "outputs": [],
   "source": [
    "# Extract feature names and their corresponding importance scores from the model.\n",
    "# Sort the features by their importance scores in descending order.\n",
    "# Create a dictionary with sorted feature importances for easier interpretation.\n",
    "\n",
    "feature_names = model.feature_names_in_\n",
    "importances = model.feature_importances_\n",
    "\n",
    "# Combine feature names with their importances and sort them.\n",
    "sorted_importances = dict(sorted(zip(feature_names, importances), key=lambda item: item[1], reverse=True))"
   ]
  },
  {
   "cell_type": "code",
   "execution_count": 53,
   "metadata": {},
   "outputs": [
    {
     "data": {
      "image/png": "[encoded data removed]",
      "text/plain": [
       "<Figure size 2000x800 with 1 Axes>"
      ]
     },
     "metadata": {},
     "output_type": "display_data"
    }
   ],
   "source": [
    "# Plot a bar chart of feature importances.\n",
    "# - `figsize=(20, 8)` sets the size of the figure.\n",
    "# - Bars are plotted with feature names on the x-axis and their importance scores on the y-axis.\n",
    "# - `xticks(rotation=45, ha=\"right\")` rotates the x-axis labels for better readability.\n",
    "\n",
    "plt.figure(figsize=(20, 8))\n",
    "plt.bar(sorted_importances.keys(), sorted_importances.values())\n",
    "plt.xticks(rotation=45, ha=\"right\")\n",
    "plt.show()"
   ]
  },
  {
   "cell_type": "markdown",
   "metadata": {},
   "source": [
    "## Make the model more performant"
   ]
  },
  {
   "cell_type": "code",
   "execution_count": 54,
   "metadata": {},
   "outputs": [],
   "source": [
    "# Import the Optuna library for hyperparameter optimization.\n",
    "# Import cross_val_score for performing cross-validation to assess model performance.\n",
    "\n",
    "import optuna\n",
    "from sklearn.model_selection import cross_val_score"
   ]
  },
  {
   "cell_type": "code",
   "execution_count": 55,
   "metadata": {},
   "outputs": [],
   "source": [
    "def objective(trial) -> float:\n",
    "    # Define hyperparameters to be optimized using Optuna.\n",
    "    # - `n_estimators`: Number of trees in the forest (range: 100 to 400).\n",
    "    # - `max_depth`: Maximum depth of each tree (range: 10 to 50).\n",
    "    # - `min_samples_split`: Minimum number of samples required to split an internal node (range: 2 to 32).\n",
    "    # - `min_samples_leaf`: Minimum number of samples required to be at a leaf node (range: 1 to 32).\n",
    "\n",
    "    n_estimators = trial.suggest_int(\"n_estimators\", 100, 400)\n",
    "    max_depth = trial.suggest_int(\"max_depth\", 10, 50)\n",
    "    min_samples_split = trial.suggest_int(\"min_samples_split\", 2, 32)\n",
    "    min_samples_leaf = trial.suggest_int(\"min_samples_leaf\", 1, 32)\n",
    "\n",
    "    # Initialize the RandomForestClassifier with the sampled hyperparameters.\n",
    "    model = RandomForestClassifier(\n",
    "        n_estimators=n_estimators,\n",
    "        max_depth=max_depth,\n",
    "        min_samples_split=min_samples_split,\n",
    "        min_samples_leaf=min_samples_leaf\n",
    "    )\n",
    "\n",
    "    # Perform cross-validation to evaluate the model's performance.\n",
    "    # - `cv=3` specifies 3-fold cross-validation.\n",
    "    # - `scoring=\"neg_mean_squared_error\"` measures the negative mean squared error.\n",
    "    # - `n_jobs=-1` uses all available processors for computation.\n",
    "    scores: list[float] = cross_val_score(model, X_train, y_train, cv=3, scoring=\"neg_mean_squared_error\", n_jobs=-1)\n",
    "\n",
    "    # Calculate the mean score from cross-validation.\n",
    "    mean_score = scores.mean()\n",
    "\n",
    "    # Return the negative mean score for Optuna to minimize.\n",
    "    return -mean_score"
   ]
  },
  {
   "cell_type": "code",
   "execution_count": 56,
   "metadata": {},
   "outputs": [
    {
     "name": "stderr",
     "output_type": "stream",
     "text": [
      "[I 2024-09-08 15:05:19,133] A new study created in memory with name: no-name-49e30dd8-926a-43c5-89aa-627754d986bc\n"
     ]
    }
   ],
   "source": [
    "# Create an Optuna study object to optimize the objective function.\n",
    "# - `direction=\"maximize\"` specifies that the objective function's return value should be maximized.\n",
    "# - `sampler=optuna.samplers.RandomSampler()` uses random sampling for hyperparameter optimization.\n",
    "\n",
    "study = optuna.create_study(direction=\"maximize\", sampler=optuna.samplers.RandomSampler())"
   ]
  },
  {
   "cell_type": "code",
   "execution_count": 57,
   "metadata": {},
   "outputs": [
    {
     "name": "stderr",
     "output_type": "stream",
     "text": [
      "[I 2024-09-08 15:05:31,669] Trial 0 finished with value: 0.16326530612244897 and parameters: {'n_estimators': 306, 'max_depth': 26, 'min_samples_split': 30, 'min_samples_leaf': 24}. Best is trial 0 with value: 0.16326530612244897.\n",
      "[I 2024-09-08 15:05:35,410] Trial 1 finished with value: 0.15901360544217688 and parameters: {'n_estimators': 391, 'max_depth': 11, 'min_samples_split': 7, 'min_samples_leaf': 17}. Best is trial 0 with value: 0.16326530612244897.\n",
      "[I 2024-09-08 15:05:36,717] Trial 2 finished with value: 0.15051020408163265 and parameters: {'n_estimators': 340, 'max_depth': 36, 'min_samples_split': 2, 'min_samples_leaf': 3}. Best is trial 0 with value: 0.16326530612244897.\n",
      "[I 2024-09-08 15:05:37,125] Trial 3 finished with value: 0.15391156462585034 and parameters: {'n_estimators': 105, 'max_depth': 50, 'min_samples_split': 19, 'min_samples_leaf': 3}. Best is trial 0 with value: 0.16326530612244897.\n",
      "[I 2024-09-08 15:05:38,243] Trial 4 finished with value: 0.1598639455782313 and parameters: {'n_estimators': 351, 'max_depth': 44, 'min_samples_split': 16, 'min_samples_leaf': 20}. Best is trial 0 with value: 0.16326530612244897.\n",
      "[I 2024-09-08 15:05:39,594] Trial 5 finished with value: 0.16326530612244897 and parameters: {'n_estimators': 349, 'max_depth': 25, 'min_samples_split': 16, 'min_samples_leaf': 29}. Best is trial 0 with value: 0.16326530612244897.\n",
      "[I 2024-09-08 15:05:40,844] Trial 6 finished with value: 0.16326530612244897 and parameters: {'n_estimators': 311, 'max_depth': 32, 'min_samples_split': 15, 'min_samples_leaf': 27}. Best is trial 0 with value: 0.16326530612244897.\n",
      "[I 2024-09-08 15:05:42,143] Trial 7 finished with value: 0.15986394557823128 and parameters: {'n_estimators': 380, 'max_depth': 41, 'min_samples_split': 15, 'min_samples_leaf': 21}. Best is trial 0 with value: 0.16326530612244897.\n",
      "[I 2024-09-08 15:05:43,050] Trial 8 finished with value: 0.16071428571428573 and parameters: {'n_estimators': 285, 'max_depth': 38, 'min_samples_split': 16, 'min_samples_leaf': 21}. Best is trial 0 with value: 0.16326530612244897.\n",
      "[I 2024-09-08 15:05:44,175] Trial 9 finished with value: 0.16326530612244897 and parameters: {'n_estimators': 364, 'max_depth': 49, 'min_samples_split': 11, 'min_samples_leaf': 29}. Best is trial 0 with value: 0.16326530612244897.\n",
      "[I 2024-09-08 15:05:45,759] Trial 10 finished with value: 0.16071428571428573 and parameters: {'n_estimators': 388, 'max_depth': 32, 'min_samples_split': 11, 'min_samples_leaf': 22}. Best is trial 0 with value: 0.16326530612244897.\n",
      "[I 2024-09-08 15:05:46,703] Trial 11 finished with value: 0.1641156462585034 and parameters: {'n_estimators': 282, 'max_depth': 50, 'min_samples_split': 26, 'min_samples_leaf': 31}. Best is trial 11 with value: 0.1641156462585034.\n",
      "[I 2024-09-08 15:05:47,304] Trial 12 finished with value: 0.1530612244897959 and parameters: {'n_estimators': 156, 'max_depth': 36, 'min_samples_split': 15, 'min_samples_leaf': 2}. Best is trial 11 with value: 0.1641156462585034.\n",
      "[I 2024-09-08 15:05:48,503] Trial 13 finished with value: 0.1556122448979592 and parameters: {'n_estimators': 295, 'max_depth': 17, 'min_samples_split': 16, 'min_samples_leaf': 7}. Best is trial 11 with value: 0.1641156462585034.\n",
      "[I 2024-09-08 15:05:49,793] Trial 14 finished with value: 0.15476190476190477 and parameters: {'n_estimators': 301, 'max_depth': 10, 'min_samples_split': 32, 'min_samples_leaf': 3}. Best is trial 11 with value: 0.1641156462585034.\n",
      "[I 2024-09-08 15:05:51,343] Trial 15 finished with value: 0.15476190476190477 and parameters: {'n_estimators': 275, 'max_depth': 13, 'min_samples_split': 10, 'min_samples_leaf': 10}. Best is trial 11 with value: 0.1641156462585034.\n",
      "[I 2024-09-08 15:05:52,058] Trial 16 finished with value: 0.16326530612244897 and parameters: {'n_estimators': 201, 'max_depth': 35, 'min_samples_split': 7, 'min_samples_leaf': 26}. Best is trial 11 with value: 0.1641156462585034.\n",
      "[I 2024-09-08 15:05:53,101] Trial 17 finished with value: 0.16156462585034012 and parameters: {'n_estimators': 318, 'max_depth': 39, 'min_samples_split': 6, 'min_samples_leaf': 24}. Best is trial 11 with value: 0.1641156462585034.\n",
      "[I 2024-09-08 15:05:53,918] Trial 18 finished with value: 0.15391156462585034 and parameters: {'n_estimators': 190, 'max_depth': 50, 'min_samples_split': 22, 'min_samples_leaf': 11}. Best is trial 11 with value: 0.1641156462585034.\n",
      "[I 2024-09-08 15:05:55,140] Trial 19 finished with value: 0.15476190476190477 and parameters: {'n_estimators': 356, 'max_depth': 46, 'min_samples_split': 18, 'min_samples_leaf': 13}. Best is trial 11 with value: 0.1641156462585034.\n",
      "[I 2024-09-08 15:05:56,256] Trial 20 finished with value: 0.14710884353741496 and parameters: {'n_estimators': 244, 'max_depth': 43, 'min_samples_split': 6, 'min_samples_leaf': 2}. Best is trial 11 with value: 0.1641156462585034.\n",
      "[I 2024-09-08 15:05:57,225] Trial 21 finished with value: 0.15986394557823128 and parameters: {'n_estimators': 181, 'max_depth': 47, 'min_samples_split': 23, 'min_samples_leaf': 20}. Best is trial 11 with value: 0.1641156462585034.\n",
      "[I 2024-09-08 15:05:59,877] Trial 22 finished with value: 0.15391156462585034 and parameters: {'n_estimators': 354, 'max_depth': 29, 'min_samples_split': 29, 'min_samples_leaf': 5}. Best is trial 11 with value: 0.1641156462585034.\n",
      "[I 2024-09-08 15:06:00,922] Trial 23 finished with value: 0.15051020408163265 and parameters: {'n_estimators': 262, 'max_depth': 34, 'min_samples_split': 2, 'min_samples_leaf': 3}. Best is trial 11 with value: 0.1641156462585034.\n",
      "[I 2024-09-08 15:06:02,711] Trial 24 finished with value: 0.15391156462585034 and parameters: {'n_estimators': 376, 'max_depth': 50, 'min_samples_split': 25, 'min_samples_leaf': 9}. Best is trial 11 with value: 0.1641156462585034.\n",
      "[I 2024-09-08 15:06:04,304] Trial 25 finished with value: 0.15986394557823128 and parameters: {'n_estimators': 377, 'max_depth': 15, 'min_samples_split': 21, 'min_samples_leaf': 23}. Best is trial 11 with value: 0.1641156462585034.\n",
      "[I 2024-09-08 15:06:04,727] Trial 26 finished with value: 0.16156462585034015 and parameters: {'n_estimators': 122, 'max_depth': 39, 'min_samples_split': 21, 'min_samples_leaf': 23}. Best is trial 11 with value: 0.1641156462585034.\n",
      "[I 2024-09-08 15:06:05,257] Trial 27 finished with value: 0.15986394557823128 and parameters: {'n_estimators': 156, 'max_depth': 22, 'min_samples_split': 13, 'min_samples_leaf': 19}. Best is trial 11 with value: 0.1641156462585034.\n",
      "[I 2024-09-08 15:06:07,821] Trial 28 finished with value: 0.1564625850340136 and parameters: {'n_estimators': 330, 'max_depth': 45, 'min_samples_split': 18, 'min_samples_leaf': 13}. Best is trial 11 with value: 0.1641156462585034.\n",
      "[I 2024-09-08 15:06:09,286] Trial 29 finished with value: 0.15816326530612246 and parameters: {'n_estimators': 262, 'max_depth': 33, 'min_samples_split': 27, 'min_samples_leaf': 14}. Best is trial 11 with value: 0.1641156462585034.\n",
      "[I 2024-09-08 15:06:10,435] Trial 30 finished with value: 0.15391156462585034 and parameters: {'n_estimators': 323, 'max_depth': 43, 'min_samples_split': 15, 'min_samples_leaf': 10}. Best is trial 11 with value: 0.1641156462585034.\n",
      "[I 2024-09-08 15:06:11,072] Trial 31 finished with value: 0.16326530612244897 and parameters: {'n_estimators': 197, 'max_depth': 19, 'min_samples_split': 26, 'min_samples_leaf': 28}. Best is trial 11 with value: 0.1641156462585034.\n",
      "[I 2024-09-08 15:06:11,711] Trial 32 finished with value: 0.1522108843537415 and parameters: {'n_estimators': 165, 'max_depth': 32, 'min_samples_split': 4, 'min_samples_leaf': 6}. Best is trial 11 with value: 0.1641156462585034.\n",
      "[I 2024-09-08 15:06:12,560] Trial 33 finished with value: 0.15731292517006804 and parameters: {'n_estimators': 242, 'max_depth': 18, 'min_samples_split': 25, 'min_samples_leaf': 15}. Best is trial 11 with value: 0.1641156462585034.\n",
      "[I 2024-09-08 15:06:12,955] Trial 34 finished with value: 0.1556122448979592 and parameters: {'n_estimators': 104, 'max_depth': 25, 'min_samples_split': 8, 'min_samples_leaf': 15}. Best is trial 11 with value: 0.1641156462585034.\n",
      "[I 2024-09-08 15:06:14,408] Trial 35 finished with value: 0.15391156462585034 and parameters: {'n_estimators': 303, 'max_depth': 25, 'min_samples_split': 9, 'min_samples_leaf': 12}. Best is trial 11 with value: 0.1641156462585034.\n",
      "[I 2024-09-08 15:06:15,069] Trial 36 finished with value: 0.1522108843537415 and parameters: {'n_estimators': 167, 'max_depth': 34, 'min_samples_split': 14, 'min_samples_leaf': 13}. Best is trial 11 with value: 0.1641156462585034.\n",
      "[I 2024-09-08 15:06:16,149] Trial 37 finished with value: 0.15986394557823128 and parameters: {'n_estimators': 313, 'max_depth': 42, 'min_samples_split': 31, 'min_samples_leaf': 18}. Best is trial 11 with value: 0.1641156462585034.\n",
      "[I 2024-09-08 15:06:16,767] Trial 38 finished with value: 0.15476190476190477 and parameters: {'n_estimators': 172, 'max_depth': 18, 'min_samples_split': 29, 'min_samples_leaf': 8}. Best is trial 11 with value: 0.1641156462585034.\n",
      "[I 2024-09-08 15:06:17,873] Trial 39 finished with value: 0.1641156462585034 and parameters: {'n_estimators': 354, 'max_depth': 14, 'min_samples_split': 20, 'min_samples_leaf': 32}. Best is trial 11 with value: 0.1641156462585034.\n",
      "[I 2024-09-08 15:06:19,275] Trial 40 finished with value: 0.1556122448979592 and parameters: {'n_estimators': 327, 'max_depth': 15, 'min_samples_split': 2, 'min_samples_leaf': 14}. Best is trial 11 with value: 0.1641156462585034.\n",
      "[I 2024-09-08 15:06:20,714] Trial 41 finished with value: 0.15731292517006804 and parameters: {'n_estimators': 378, 'max_depth': 13, 'min_samples_split': 26, 'min_samples_leaf': 16}. Best is trial 11 with value: 0.1641156462585034.\n",
      "[I 2024-09-08 15:06:21,424] Trial 42 finished with value: 0.15646258503401364 and parameters: {'n_estimators': 177, 'max_depth': 19, 'min_samples_split': 24, 'min_samples_leaf': 16}. Best is trial 11 with value: 0.1641156462585034.\n",
      "[I 2024-09-08 15:06:22,322] Trial 43 finished with value: 0.15816326530612246 and parameters: {'n_estimators': 281, 'max_depth': 50, 'min_samples_split': 28, 'min_samples_leaf': 18}. Best is trial 11 with value: 0.1641156462585034.\n",
      "[I 2024-09-08 15:06:22,820] Trial 44 finished with value: 0.16326530612244897 and parameters: {'n_estimators': 155, 'max_depth': 40, 'min_samples_split': 12, 'min_samples_leaf': 28}. Best is trial 11 with value: 0.1641156462585034.\n",
      "[I 2024-09-08 15:06:23,532] Trial 45 finished with value: 0.1641156462585034 and parameters: {'n_estimators': 230, 'max_depth': 31, 'min_samples_split': 2, 'min_samples_leaf': 32}. Best is trial 11 with value: 0.1641156462585034.\n",
      "[I 2024-09-08 15:06:24,393] Trial 46 finished with value: 0.15476190476190477 and parameters: {'n_estimators': 213, 'max_depth': 22, 'min_samples_split': 19, 'min_samples_leaf': 3}. Best is trial 11 with value: 0.1641156462585034.\n",
      "[I 2024-09-08 15:06:25,200] Trial 47 finished with value: 0.1522108843537415 and parameters: {'n_estimators': 167, 'max_depth': 35, 'min_samples_split': 24, 'min_samples_leaf': 8}. Best is trial 11 with value: 0.1641156462585034.\n",
      "[I 2024-09-08 15:06:25,702] Trial 48 finished with value: 0.15476190476190477 and parameters: {'n_estimators': 141, 'max_depth': 34, 'min_samples_split': 21, 'min_samples_leaf': 10}. Best is trial 11 with value: 0.1641156462585034.\n",
      "[I 2024-09-08 15:06:26,051] Trial 49 finished with value: 0.1607142857142857 and parameters: {'n_estimators': 104, 'max_depth': 39, 'min_samples_split': 23, 'min_samples_leaf': 23}. Best is trial 11 with value: 0.1641156462585034.\n",
      "[I 2024-09-08 15:06:27,145] Trial 50 finished with value: 0.1641156462585034 and parameters: {'n_estimators': 355, 'max_depth': 44, 'min_samples_split': 10, 'min_samples_leaf': 32}. Best is trial 11 with value: 0.1641156462585034.\n",
      "[I 2024-09-08 15:06:27,796] Trial 51 finished with value: 0.15816326530612246 and parameters: {'n_estimators': 192, 'max_depth': 32, 'min_samples_split': 7, 'min_samples_leaf': 15}. Best is trial 11 with value: 0.1641156462585034.\n",
      "[I 2024-09-08 15:06:28,956] Trial 52 finished with value: 0.16071428571428573 and parameters: {'n_estimators': 363, 'max_depth': 29, 'min_samples_split': 16, 'min_samples_leaf': 23}. Best is trial 11 with value: 0.1641156462585034.\n",
      "[I 2024-09-08 15:06:30,088] Trial 53 finished with value: 0.15476190476190477 and parameters: {'n_estimators': 263, 'max_depth': 11, 'min_samples_split': 19, 'min_samples_leaf': 12}. Best is trial 11 with value: 0.1641156462585034.\n",
      "[I 2024-09-08 15:06:31,483] Trial 54 finished with value: 0.1641156462585034 and parameters: {'n_estimators': 399, 'max_depth': 23, 'min_samples_split': 7, 'min_samples_leaf': 28}. Best is trial 11 with value: 0.1641156462585034.\n",
      "[I 2024-09-08 15:06:32,002] Trial 55 finished with value: 0.15986394557823128 and parameters: {'n_estimators': 153, 'max_depth': 17, 'min_samples_split': 11, 'min_samples_leaf': 21}. Best is trial 11 with value: 0.1641156462585034.\n",
      "[I 2024-09-08 15:06:33,444] Trial 56 finished with value: 0.15646258503401358 and parameters: {'n_estimators': 399, 'max_depth': 12, 'min_samples_split': 31, 'min_samples_leaf': 15}. Best is trial 11 with value: 0.1641156462585034.\n",
      "[I 2024-09-08 15:06:33,969] Trial 57 finished with value: 0.15051020408163265 and parameters: {'n_estimators': 126, 'max_depth': 35, 'min_samples_split': 3, 'min_samples_leaf': 2}. Best is trial 11 with value: 0.1641156462585034.\n",
      "[I 2024-09-08 15:06:34,401] Trial 58 finished with value: 0.15816326530612246 and parameters: {'n_estimators': 122, 'max_depth': 30, 'min_samples_split': 30, 'min_samples_leaf': 17}. Best is trial 11 with value: 0.1641156462585034.\n",
      "[I 2024-09-08 15:06:34,749] Trial 59 finished with value: 0.16156462585034012 and parameters: {'n_estimators': 106, 'max_depth': 31, 'min_samples_split': 22, 'min_samples_leaf': 26}. Best is trial 11 with value: 0.1641156462585034.\n",
      "[I 2024-09-08 15:06:35,413] Trial 60 finished with value: 0.15306122448979595 and parameters: {'n_estimators': 157, 'max_depth': 43, 'min_samples_split': 3, 'min_samples_leaf': 8}. Best is trial 11 with value: 0.1641156462585034.\n",
      "[I 2024-09-08 15:06:36,679] Trial 61 finished with value: 0.15901360544217688 and parameters: {'n_estimators': 324, 'max_depth': 24, 'min_samples_split': 25, 'min_samples_leaf': 17}. Best is trial 11 with value: 0.1641156462585034.\n",
      "[I 2024-09-08 15:06:37,583] Trial 62 finished with value: 0.15901360544217688 and parameters: {'n_estimators': 281, 'max_depth': 27, 'min_samples_split': 13, 'min_samples_leaf': 18}. Best is trial 11 with value: 0.1641156462585034.\n",
      "[I 2024-09-08 15:06:38,423] Trial 63 finished with value: 0.15476190476190477 and parameters: {'n_estimators': 236, 'max_depth': 17, 'min_samples_split': 11, 'min_samples_leaf': 8}. Best is trial 11 with value: 0.1641156462585034.\n",
      "[I 2024-09-08 15:06:38,810] Trial 64 finished with value: 0.15476190476190477 and parameters: {'n_estimators': 102, 'max_depth': 24, 'min_samples_split': 18, 'min_samples_leaf': 4}. Best is trial 11 with value: 0.1641156462585034.\n",
      "[I 2024-09-08 15:06:39,544] Trial 65 finished with value: 0.16156462585034012 and parameters: {'n_estimators': 231, 'max_depth': 41, 'min_samples_split': 10, 'min_samples_leaf': 24}. Best is trial 11 with value: 0.1641156462585034.\n",
      "[I 2024-09-08 15:06:41,267] Trial 66 finished with value: 0.15901360544217688 and parameters: {'n_estimators': 390, 'max_depth': 41, 'min_samples_split': 25, 'min_samples_leaf': 19}. Best is trial 11 with value: 0.1641156462585034.\n",
      "[I 2024-09-08 15:06:41,946] Trial 67 finished with value: 0.15646258503401358 and parameters: {'n_estimators': 153, 'max_depth': 37, 'min_samples_split': 14, 'min_samples_leaf': 16}. Best is trial 11 with value: 0.1641156462585034.\n",
      "[I 2024-09-08 15:06:43,195] Trial 68 finished with value: 0.1641156462585034 and parameters: {'n_estimators': 322, 'max_depth': 19, 'min_samples_split': 10, 'min_samples_leaf': 32}. Best is trial 11 with value: 0.1641156462585034.\n",
      "[I 2024-09-08 15:06:44,227] Trial 69 finished with value: 0.15391156462585034 and parameters: {'n_estimators': 281, 'max_depth': 13, 'min_samples_split': 17, 'min_samples_leaf': 2}. Best is trial 11 with value: 0.1641156462585034.\n",
      "[I 2024-09-08 15:06:45,171] Trial 70 finished with value: 0.16071428571428573 and parameters: {'n_estimators': 259, 'max_depth': 50, 'min_samples_split': 20, 'min_samples_leaf': 24}. Best is trial 11 with value: 0.1641156462585034.\n",
      "[I 2024-09-08 15:06:45,780] Trial 71 finished with value: 0.15816326530612246 and parameters: {'n_estimators': 183, 'max_depth': 10, 'min_samples_split': 14, 'min_samples_leaf': 13}. Best is trial 11 with value: 0.1641156462585034.\n",
      "[I 2024-09-08 15:06:46,486] Trial 72 finished with value: 0.1641156462585034 and parameters: {'n_estimators': 216, 'max_depth': 25, 'min_samples_split': 30, 'min_samples_leaf': 32}. Best is trial 11 with value: 0.1641156462585034.\n",
      "[I 2024-09-08 15:06:47,766] Trial 73 finished with value: 0.1641156462585034 and parameters: {'n_estimators': 341, 'max_depth': 32, 'min_samples_split': 30, 'min_samples_leaf': 32}. Best is trial 11 with value: 0.1641156462585034.\n",
      "[I 2024-09-08 15:06:48,935] Trial 74 finished with value: 0.1641156462585034 and parameters: {'n_estimators': 367, 'max_depth': 43, 'min_samples_split': 26, 'min_samples_leaf': 29}. Best is trial 11 with value: 0.1641156462585034.\n",
      "[I 2024-09-08 15:06:50,317] Trial 75 finished with value: 0.15476190476190477 and parameters: {'n_estimators': 367, 'max_depth': 41, 'min_samples_split': 32, 'min_samples_leaf': 6}. Best is trial 11 with value: 0.1641156462585034.\n",
      "[I 2024-09-08 15:06:50,933] Trial 76 finished with value: 0.15816326530612246 and parameters: {'n_estimators': 186, 'max_depth': 28, 'min_samples_split': 27, 'min_samples_leaf': 18}. Best is trial 11 with value: 0.1641156462585034.\n",
      "[I 2024-09-08 15:06:51,970] Trial 77 finished with value: 0.15306122448979592 and parameters: {'n_estimators': 277, 'max_depth': 37, 'min_samples_split': 31, 'min_samples_leaf': 2}. Best is trial 11 with value: 0.1641156462585034.\n",
      "[I 2024-09-08 15:06:53,361] Trial 78 finished with value: 0.15306122448979592 and parameters: {'n_estimators': 296, 'max_depth': 30, 'min_samples_split': 5, 'min_samples_leaf': 9}. Best is trial 11 with value: 0.1641156462585034.\n",
      "[I 2024-09-08 15:06:55,332] Trial 79 finished with value: 0.15731292517006804 and parameters: {'n_estimators': 392, 'max_depth': 10, 'min_samples_split': 20, 'min_samples_leaf': 15}. Best is trial 11 with value: 0.1641156462585034.\n",
      "[I 2024-09-08 15:06:55,931] Trial 80 finished with value: 0.1641156462585034 and parameters: {'n_estimators': 199, 'max_depth': 48, 'min_samples_split': 16, 'min_samples_leaf': 30}. Best is trial 11 with value: 0.1641156462585034.\n",
      "[I 2024-09-08 15:06:57,012] Trial 81 finished with value: 0.15476190476190477 and parameters: {'n_estimators': 170, 'max_depth': 40, 'min_samples_split': 13, 'min_samples_leaf': 14}. Best is trial 11 with value: 0.1641156462585034.\n",
      "[I 2024-09-08 15:06:59,189] Trial 82 finished with value: 0.1496598639455782 and parameters: {'n_estimators': 213, 'max_depth': 42, 'min_samples_split': 5, 'min_samples_leaf': 2}. Best is trial 11 with value: 0.1641156462585034.\n",
      "[I 2024-09-08 15:07:01,284] Trial 83 finished with value: 0.15731292517006804 and parameters: {'n_estimators': 357, 'max_depth': 48, 'min_samples_split': 18, 'min_samples_leaf': 15}. Best is trial 11 with value: 0.1641156462585034.\n",
      "[I 2024-09-08 15:07:02,179] Trial 84 finished with value: 0.15391156462585034 and parameters: {'n_estimators': 204, 'max_depth': 15, 'min_samples_split': 31, 'min_samples_leaf': 10}. Best is trial 11 with value: 0.1641156462585034.\n",
      "[I 2024-09-08 15:07:04,136] Trial 85 finished with value: 0.1641156462585034 and parameters: {'n_estimators': 335, 'max_depth': 26, 'min_samples_split': 13, 'min_samples_leaf': 31}. Best is trial 11 with value: 0.1641156462585034.\n",
      "[I 2024-09-08 15:07:05,672] Trial 86 finished with value: 0.15391156462585034 and parameters: {'n_estimators': 248, 'max_depth': 25, 'min_samples_split': 13, 'min_samples_leaf': 11}. Best is trial 11 with value: 0.1641156462585034.\n",
      "[I 2024-09-08 15:07:06,569] Trial 87 finished with value: 0.15476190476190477 and parameters: {'n_estimators': 216, 'max_depth': 27, 'min_samples_split': 11, 'min_samples_leaf': 7}. Best is trial 11 with value: 0.1641156462585034.\n",
      "[I 2024-09-08 15:07:06,994] Trial 88 finished with value: 0.1556122448979592 and parameters: {'n_estimators': 109, 'max_depth': 27, 'min_samples_split': 21, 'min_samples_leaf': 15}. Best is trial 11 with value: 0.1641156462585034.\n",
      "[I 2024-09-08 15:07:08,055] Trial 89 finished with value: 0.15306122448979592 and parameters: {'n_estimators': 254, 'max_depth': 32, 'min_samples_split': 5, 'min_samples_leaf': 3}. Best is trial 11 with value: 0.1641156462585034.\n",
      "[I 2024-09-08 15:07:08,702] Trial 90 finished with value: 0.1598639455782313 and parameters: {'n_estimators': 178, 'max_depth': 32, 'min_samples_split': 5, 'min_samples_leaf': 19}. Best is trial 11 with value: 0.1641156462585034.\n",
      "[I 2024-09-08 15:07:10,292] Trial 91 finished with value: 0.15391156462585034 and parameters: {'n_estimators': 359, 'max_depth': 16, 'min_samples_split': 6, 'min_samples_leaf': 7}. Best is trial 11 with value: 0.1641156462585034.\n",
      "[I 2024-09-08 15:07:11,316] Trial 92 finished with value: 0.15476190476190477 and parameters: {'n_estimators': 219, 'max_depth': 18, 'min_samples_split': 30, 'min_samples_leaf': 5}. Best is trial 11 with value: 0.1641156462585034.\n",
      "[I 2024-09-08 15:07:12,328] Trial 93 finished with value: 0.16156462585034012 and parameters: {'n_estimators': 227, 'max_depth': 16, 'min_samples_split': 31, 'min_samples_leaf': 26}. Best is trial 11 with value: 0.1641156462585034.\n",
      "[I 2024-09-08 15:07:14,184] Trial 94 finished with value: 0.15476190476190477 and parameters: {'n_estimators': 387, 'max_depth': 40, 'min_samples_split': 28, 'min_samples_leaf': 9}. Best is trial 11 with value: 0.1641156462585034.\n",
      "[I 2024-09-08 15:07:18,168] Trial 95 finished with value: 0.1641156462585034 and parameters: {'n_estimators': 360, 'max_depth': 33, 'min_samples_split': 22, 'min_samples_leaf': 32}. Best is trial 11 with value: 0.1641156462585034.\n",
      "[I 2024-09-08 15:07:19,823] Trial 96 finished with value: 0.14795918367346939 and parameters: {'n_estimators': 241, 'max_depth': 11, 'min_samples_split': 20, 'min_samples_leaf': 2}. Best is trial 11 with value: 0.1641156462585034.\n",
      "[I 2024-09-08 15:07:21,537] Trial 97 finished with value: 0.16071428571428573 and parameters: {'n_estimators': 386, 'max_depth': 48, 'min_samples_split': 21, 'min_samples_leaf': 24}. Best is trial 11 with value: 0.1641156462585034.\n",
      "[I 2024-09-08 15:07:22,546] Trial 98 finished with value: 0.15306122448979592 and parameters: {'n_estimators': 269, 'max_depth': 42, 'min_samples_split': 2, 'min_samples_leaf': 13}. Best is trial 11 with value: 0.1641156462585034.\n",
      "[I 2024-09-08 15:07:23,681] Trial 99 finished with value: 0.16071428571428573 and parameters: {'n_estimators': 260, 'max_depth': 18, 'min_samples_split': 26, 'min_samples_leaf': 21}. Best is trial 11 with value: 0.1641156462585034.\n",
      "[I 2024-09-08 15:07:24,370] Trial 100 finished with value: 0.15986394557823128 and parameters: {'n_estimators': 186, 'max_depth': 20, 'min_samples_split': 10, 'min_samples_leaf': 21}. Best is trial 11 with value: 0.1641156462585034.\n",
      "[I 2024-09-08 15:07:25,069] Trial 101 finished with value: 0.16326530612244897 and parameters: {'n_estimators': 186, 'max_depth': 30, 'min_samples_split': 18, 'min_samples_leaf': 27}. Best is trial 11 with value: 0.1641156462585034.\n",
      "[I 2024-09-08 15:07:26,650] Trial 102 finished with value: 0.15986394557823128 and parameters: {'n_estimators': 355, 'max_depth': 22, 'min_samples_split': 2, 'min_samples_leaf': 20}. Best is trial 11 with value: 0.1641156462585034.\n",
      "[I 2024-09-08 15:07:28,025] Trial 103 finished with value: 0.1641156462585034 and parameters: {'n_estimators': 361, 'max_depth': 12, 'min_samples_split': 21, 'min_samples_leaf': 31}. Best is trial 11 with value: 0.1641156462585034.\n",
      "[I 2024-09-08 15:07:29,145] Trial 104 finished with value: 0.15901360544217688 and parameters: {'n_estimators': 298, 'max_depth': 22, 'min_samples_split': 2, 'min_samples_leaf': 18}. Best is trial 11 with value: 0.1641156462585034.\n",
      "[I 2024-09-08 15:07:29,675] Trial 105 finished with value: 0.16326530612244897 and parameters: {'n_estimators': 141, 'max_depth': 24, 'min_samples_split': 19, 'min_samples_leaf': 28}. Best is trial 11 with value: 0.1641156462585034.\n",
      "[I 2024-09-08 15:07:30,316] Trial 106 finished with value: 0.16156462585034015 and parameters: {'n_estimators': 179, 'max_depth': 47, 'min_samples_split': 23, 'min_samples_leaf': 22}. Best is trial 11 with value: 0.1641156462585034.\n",
      "[I 2024-09-08 15:07:31,423] Trial 107 finished with value: 0.16326530612244897 and parameters: {'n_estimators': 231, 'max_depth': 11, 'min_samples_split': 10, 'min_samples_leaf': 25}. Best is trial 11 with value: 0.1641156462585034.\n",
      "[I 2024-09-08 15:07:33,186] Trial 108 finished with value: 0.15306122448979595 and parameters: {'n_estimators': 342, 'max_depth': 18, 'min_samples_split': 17, 'min_samples_leaf': 10}. Best is trial 11 with value: 0.1641156462585034.\n",
      "[I 2024-09-08 15:07:33,943] Trial 109 finished with value: 0.15476190476190477 and parameters: {'n_estimators': 152, 'max_depth': 25, 'min_samples_split': 28, 'min_samples_leaf': 9}. Best is trial 11 with value: 0.1641156462585034.\n",
      "[I 2024-09-08 15:07:35,548] Trial 110 finished with value: 0.1556122448979592 and parameters: {'n_estimators': 324, 'max_depth': 35, 'min_samples_split': 24, 'min_samples_leaf': 12}. Best is trial 11 with value: 0.1641156462585034.\n",
      "[I 2024-09-08 15:07:36,835] Trial 111 finished with value: 0.15731292517006804 and parameters: {'n_estimators': 230, 'max_depth': 46, 'min_samples_split': 13, 'min_samples_leaf': 16}. Best is trial 11 with value: 0.1641156462585034.\n",
      "[I 2024-09-08 15:07:37,772] Trial 112 finished with value: 0.15136054421768708 and parameters: {'n_estimators': 129, 'max_depth': 16, 'min_samples_split': 16, 'min_samples_leaf': 1}. Best is trial 11 with value: 0.1641156462585034.\n",
      "[I 2024-09-08 15:07:38,788] Trial 113 finished with value: 0.15731292517006804 and parameters: {'n_estimators': 237, 'max_depth': 45, 'min_samples_split': 28, 'min_samples_leaf': 14}. Best is trial 11 with value: 0.1641156462585034.\n",
      "[I 2024-09-08 15:07:39,672] Trial 114 finished with value: 0.15306122448979592 and parameters: {'n_estimators': 143, 'max_depth': 31, 'min_samples_split': 10, 'min_samples_leaf': 8}. Best is trial 11 with value: 0.1641156462585034.\n",
      "[I 2024-09-08 15:07:40,734] Trial 115 finished with value: 0.15391156462585034 and parameters: {'n_estimators': 255, 'max_depth': 22, 'min_samples_split': 17, 'min_samples_leaf': 9}. Best is trial 11 with value: 0.1641156462585034.\n",
      "[I 2024-09-08 15:07:41,727] Trial 116 finished with value: 0.15731292517006804 and parameters: {'n_estimators': 215, 'max_depth': 26, 'min_samples_split': 5, 'min_samples_leaf': 16}. Best is trial 11 with value: 0.1641156462585034.\n",
      "[I 2024-09-08 15:07:42,635] Trial 117 finished with value: 0.16071428571428573 and parameters: {'n_estimators': 183, 'max_depth': 42, 'min_samples_split': 7, 'min_samples_leaf': 22}. Best is trial 11 with value: 0.1641156462585034.\n",
      "[I 2024-09-08 15:07:43,701] Trial 118 finished with value: 0.1641156462585034 and parameters: {'n_estimators': 259, 'max_depth': 21, 'min_samples_split': 12, 'min_samples_leaf': 30}. Best is trial 11 with value: 0.1641156462585034.\n",
      "[I 2024-09-08 15:07:45,344] Trial 119 finished with value: 0.16071428571428573 and parameters: {'n_estimators': 355, 'max_depth': 42, 'min_samples_split': 10, 'min_samples_leaf': 24}. Best is trial 11 with value: 0.1641156462585034.\n",
      "[I 2024-09-08 15:07:45,933] Trial 120 finished with value: 0.15646258503401364 and parameters: {'n_estimators': 143, 'max_depth': 16, 'min_samples_split': 26, 'min_samples_leaf': 16}. Best is trial 11 with value: 0.1641156462585034.\n",
      "[I 2024-09-08 15:07:46,415] Trial 121 finished with value: 0.1564625850340136 and parameters: {'n_estimators': 113, 'max_depth': 29, 'min_samples_split': 9, 'min_samples_leaf': 11}. Best is trial 11 with value: 0.1641156462585034.\n",
      "[I 2024-09-08 15:07:47,369] Trial 122 finished with value: 0.1522108843537415 and parameters: {'n_estimators': 210, 'max_depth': 44, 'min_samples_split': 27, 'min_samples_leaf': 4}. Best is trial 11 with value: 0.1641156462585034.\n",
      "[I 2024-09-08 15:07:48,248] Trial 123 finished with value: 0.1641156462585034 and parameters: {'n_estimators': 194, 'max_depth': 29, 'min_samples_split': 16, 'min_samples_leaf': 32}. Best is trial 11 with value: 0.1641156462585034.\n",
      "[I 2024-09-08 15:07:48,781] Trial 124 finished with value: 0.15646258503401358 and parameters: {'n_estimators': 121, 'max_depth': 10, 'min_samples_split': 21, 'min_samples_leaf': 13}. Best is trial 11 with value: 0.1641156462585034.\n",
      "[I 2024-09-08 15:07:49,188] Trial 125 finished with value: 0.15901360544217688 and parameters: {'n_estimators': 106, 'max_depth': 42, 'min_samples_split': 13, 'min_samples_leaf': 21}. Best is trial 11 with value: 0.1641156462585034.\n",
      "[I 2024-09-08 15:07:49,745] Trial 126 finished with value: 0.15816326530612246 and parameters: {'n_estimators': 144, 'max_depth': 35, 'min_samples_split': 17, 'min_samples_leaf': 15}. Best is trial 11 with value: 0.1641156462585034.\n",
      "[I 2024-09-08 15:07:50,434] Trial 127 finished with value: 0.16241496598639457 and parameters: {'n_estimators': 184, 'max_depth': 29, 'min_samples_split': 5, 'min_samples_leaf': 23}. Best is trial 11 with value: 0.1641156462585034.\n",
      "[I 2024-09-08 15:07:51,085] Trial 128 finished with value: 0.1556122448979592 and parameters: {'n_estimators': 163, 'max_depth': 21, 'min_samples_split': 21, 'min_samples_leaf': 10}. Best is trial 11 with value: 0.1641156462585034.\n",
      "[I 2024-09-08 15:07:52,334] Trial 129 finished with value: 0.16326530612244897 and parameters: {'n_estimators': 325, 'max_depth': 42, 'min_samples_split': 30, 'min_samples_leaf': 26}. Best is trial 11 with value: 0.1641156462585034.\n",
      "[I 2024-09-08 15:07:53,264] Trial 130 finished with value: 0.1556122448979592 and parameters: {'n_estimators': 232, 'max_depth': 32, 'min_samples_split': 22, 'min_samples_leaf': 10}. Best is trial 11 with value: 0.1641156462585034.\n",
      "[I 2024-09-08 15:07:54,537] Trial 131 finished with value: 0.15731292517006804 and parameters: {'n_estimators': 245, 'max_depth': 17, 'min_samples_split': 31, 'min_samples_leaf': 16}. Best is trial 11 with value: 0.1641156462585034.\n",
      "[I 2024-09-08 15:07:55,082] Trial 132 finished with value: 0.16241496598639457 and parameters: {'n_estimators': 152, 'max_depth': 28, 'min_samples_split': 3, 'min_samples_leaf': 29}. Best is trial 11 with value: 0.1641156462585034.\n",
      "[I 2024-09-08 15:07:55,652] Trial 133 finished with value: 0.16241496598639457 and parameters: {'n_estimators': 157, 'max_depth': 19, 'min_samples_split': 15, 'min_samples_leaf': 29}. Best is trial 11 with value: 0.1641156462585034.\n",
      "[I 2024-09-08 15:07:56,587] Trial 134 finished with value: 0.16156462585034012 and parameters: {'n_estimators': 261, 'max_depth': 30, 'min_samples_split': 20, 'min_samples_leaf': 24}. Best is trial 11 with value: 0.1641156462585034.\n",
      "[I 2024-09-08 15:07:58,088] Trial 135 finished with value: 0.16326530612244897 and parameters: {'n_estimators': 395, 'max_depth': 33, 'min_samples_split': 2, 'min_samples_leaf': 27}. Best is trial 11 with value: 0.1641156462585034.\n",
      "[I 2024-09-08 15:07:59,368] Trial 136 finished with value: 0.15476190476190477 and parameters: {'n_estimators': 296, 'max_depth': 33, 'min_samples_split': 8, 'min_samples_leaf': 15}. Best is trial 11 with value: 0.1641156462585034.\n",
      "[I 2024-09-08 15:08:01,128] Trial 137 finished with value: 0.15306122448979595 and parameters: {'n_estimators': 386, 'max_depth': 29, 'min_samples_split': 13, 'min_samples_leaf': 6}. Best is trial 11 with value: 0.1641156462585034.\n",
      "[I 2024-09-08 15:08:01,967] Trial 138 finished with value: 0.16241496598639457 and parameters: {'n_estimators': 228, 'max_depth': 19, 'min_samples_split': 16, 'min_samples_leaf': 24}. Best is trial 11 with value: 0.1641156462585034.\n",
      "[I 2024-09-08 15:08:02,618] Trial 139 finished with value: 0.15051020408163265 and parameters: {'n_estimators': 147, 'max_depth': 13, 'min_samples_split': 11, 'min_samples_leaf': 3}. Best is trial 11 with value: 0.1641156462585034.\n",
      "[I 2024-09-08 15:08:03,985] Trial 140 finished with value: 0.15986394557823128 and parameters: {'n_estimators': 323, 'max_depth': 16, 'min_samples_split': 12, 'min_samples_leaf': 22}. Best is trial 11 with value: 0.1641156462585034.\n",
      "[I 2024-09-08 15:08:05,953] Trial 141 finished with value: 0.15391156462585034 and parameters: {'n_estimators': 375, 'max_depth': 45, 'min_samples_split': 32, 'min_samples_leaf': 12}. Best is trial 11 with value: 0.1641156462585034.\n",
      "[I 2024-09-08 15:08:07,821] Trial 142 finished with value: 0.16156462585034012 and parameters: {'n_estimators': 345, 'max_depth': 37, 'min_samples_split': 28, 'min_samples_leaf': 26}. Best is trial 11 with value: 0.1641156462585034.\n",
      "[I 2024-09-08 15:08:08,650] Trial 143 finished with value: 0.15306122448979595 and parameters: {'n_estimators': 206, 'max_depth': 17, 'min_samples_split': 10, 'min_samples_leaf': 12}. Best is trial 11 with value: 0.1641156462585034.\n",
      "[I 2024-09-08 15:08:09,353] Trial 144 finished with value: 0.16156462585034015 and parameters: {'n_estimators': 188, 'max_depth': 17, 'min_samples_split': 18, 'min_samples_leaf': 23}. Best is trial 11 with value: 0.1641156462585034.\n",
      "[I 2024-09-08 15:08:10,856] Trial 145 finished with value: 0.15646258503401364 and parameters: {'n_estimators': 316, 'max_depth': 28, 'min_samples_split': 9, 'min_samples_leaf': 16}. Best is trial 11 with value: 0.1641156462585034.\n",
      "[I 2024-09-08 15:08:12,271] Trial 146 finished with value: 0.15391156462585034 and parameters: {'n_estimators': 300, 'max_depth': 12, 'min_samples_split': 32, 'min_samples_leaf': 7}. Best is trial 11 with value: 0.1641156462585034.\n",
      "[I 2024-09-08 15:08:13,086] Trial 147 finished with value: 0.1641156462585034 and parameters: {'n_estimators': 228, 'max_depth': 18, 'min_samples_split': 7, 'min_samples_leaf': 32}. Best is trial 11 with value: 0.1641156462585034.\n",
      "[I 2024-09-08 15:08:14,485] Trial 148 finished with value: 0.16071428571428573 and parameters: {'n_estimators': 315, 'max_depth': 49, 'min_samples_split': 10, 'min_samples_leaf': 23}. Best is trial 11 with value: 0.1641156462585034.\n",
      "[I 2024-09-08 15:08:15,794] Trial 149 finished with value: 0.1641156462585034 and parameters: {'n_estimators': 174, 'max_depth': 47, 'min_samples_split': 31, 'min_samples_leaf': 29}. Best is trial 11 with value: 0.1641156462585034.\n",
      "[I 2024-09-08 15:08:19,052] Trial 150 finished with value: 0.15136054421768708 and parameters: {'n_estimators': 281, 'max_depth': 17, 'min_samples_split': 9, 'min_samples_leaf': 5}. Best is trial 11 with value: 0.1641156462585034.\n",
      "[I 2024-09-08 15:08:20,920] Trial 151 finished with value: 0.15391156462585034 and parameters: {'n_estimators': 349, 'max_depth': 26, 'min_samples_split': 7, 'min_samples_leaf': 8}. Best is trial 11 with value: 0.1641156462585034.\n",
      "[I 2024-09-08 15:08:22,470] Trial 152 finished with value: 0.15901360544217688 and parameters: {'n_estimators': 262, 'max_depth': 33, 'min_samples_split': 9, 'min_samples_leaf': 16}. Best is trial 11 with value: 0.1641156462585034.\n",
      "[I 2024-09-08 15:08:23,227] Trial 153 finished with value: 0.16326530612244897 and parameters: {'n_estimators': 141, 'max_depth': 30, 'min_samples_split': 8, 'min_samples_leaf': 25}. Best is trial 11 with value: 0.1641156462585034.\n",
      "[I 2024-09-08 15:08:24,046] Trial 154 finished with value: 0.15986394557823128 and parameters: {'n_estimators': 226, 'max_depth': 24, 'min_samples_split': 22, 'min_samples_leaf': 22}. Best is trial 11 with value: 0.1641156462585034.\n",
      "[I 2024-09-08 15:08:25,012] Trial 155 finished with value: 0.16156462585034012 and parameters: {'n_estimators': 211, 'max_depth': 23, 'min_samples_split': 7, 'min_samples_leaf': 23}. Best is trial 11 with value: 0.1641156462585034.\n",
      "[I 2024-09-08 15:08:27,062] Trial 156 finished with value: 0.15646258503401358 and parameters: {'n_estimators': 226, 'max_depth': 45, 'min_samples_split': 30, 'min_samples_leaf': 15}. Best is trial 11 with value: 0.1641156462585034.\n",
      "[I 2024-09-08 15:08:29,222] Trial 157 finished with value: 0.15391156462585034 and parameters: {'n_estimators': 396, 'max_depth': 45, 'min_samples_split': 6, 'min_samples_leaf': 10}. Best is trial 11 with value: 0.1641156462585034.\n",
      "[I 2024-09-08 15:08:30,830] Trial 158 finished with value: 0.1556122448979592 and parameters: {'n_estimators': 376, 'max_depth': 32, 'min_samples_split': 18, 'min_samples_leaf': 12}. Best is trial 11 with value: 0.1641156462585034.\n",
      "[I 2024-09-08 15:08:31,322] Trial 159 finished with value: 0.1641156462585034 and parameters: {'n_estimators': 120, 'max_depth': 12, 'min_samples_split': 16, 'min_samples_leaf': 30}. Best is trial 11 with value: 0.1641156462585034.\n",
      "[I 2024-09-08 15:08:32,247] Trial 160 finished with value: 0.15476190476190477 and parameters: {'n_estimators': 220, 'max_depth': 48, 'min_samples_split': 6, 'min_samples_leaf': 14}. Best is trial 11 with value: 0.1641156462585034.\n",
      "[I 2024-09-08 15:08:34,229] Trial 161 finished with value: 0.15901360544217688 and parameters: {'n_estimators': 377, 'max_depth': 25, 'min_samples_split': 5, 'min_samples_leaf': 17}. Best is trial 11 with value: 0.1641156462585034.\n",
      "[I 2024-09-08 15:08:34,932] Trial 162 finished with value: 0.1641156462585034 and parameters: {'n_estimators': 152, 'max_depth': 17, 'min_samples_split': 28, 'min_samples_leaf': 31}. Best is trial 11 with value: 0.1641156462585034.\n",
      "[I 2024-09-08 15:08:36,345] Trial 163 finished with value: 0.15391156462585034 and parameters: {'n_estimators': 306, 'max_depth': 14, 'min_samples_split': 17, 'min_samples_leaf': 11}. Best is trial 11 with value: 0.1641156462585034.\n",
      "[I 2024-09-08 15:08:37,486] Trial 164 finished with value: 0.15986394557823128 and parameters: {'n_estimators': 203, 'max_depth': 50, 'min_samples_split': 21, 'min_samples_leaf': 19}. Best is trial 11 with value: 0.1641156462585034.\n",
      "[I 2024-09-08 15:08:38,493] Trial 165 finished with value: 0.15731292517006804 and parameters: {'n_estimators': 234, 'max_depth': 18, 'min_samples_split': 12, 'min_samples_leaf': 16}. Best is trial 11 with value: 0.1641156462585034.\n",
      "[I 2024-09-08 15:08:40,119] Trial 166 finished with value: 0.15901360544217688 and parameters: {'n_estimators': 265, 'max_depth': 44, 'min_samples_split': 9, 'min_samples_leaf': 19}. Best is trial 11 with value: 0.1641156462585034.\n",
      "[I 2024-09-08 15:08:41,501] Trial 167 finished with value: 0.15986394557823128 and parameters: {'n_estimators': 366, 'max_depth': 21, 'min_samples_split': 4, 'min_samples_leaf': 21}. Best is trial 11 with value: 0.1641156462585034.\n",
      "[I 2024-09-08 15:08:42,769] Trial 168 finished with value: 0.1488095238095238 and parameters: {'n_estimators': 234, 'max_depth': 33, 'min_samples_split': 11, 'min_samples_leaf': 1}. Best is trial 11 with value: 0.1641156462585034.\n",
      "[I 2024-09-08 15:08:43,357] Trial 169 finished with value: 0.15476190476190477 and parameters: {'n_estimators': 142, 'max_depth': 33, 'min_samples_split': 11, 'min_samples_leaf': 12}. Best is trial 11 with value: 0.1641156462585034.\n",
      "[I 2024-09-08 15:08:44,677] Trial 170 finished with value: 0.15986394557823128 and parameters: {'n_estimators': 325, 'max_depth': 11, 'min_samples_split': 26, 'min_samples_leaf': 19}. Best is trial 11 with value: 0.1641156462585034.\n",
      "[I 2024-09-08 15:08:45,324] Trial 171 finished with value: 0.1607142857142857 and parameters: {'n_estimators': 129, 'max_depth': 46, 'min_samples_split': 22, 'min_samples_leaf': 23}. Best is trial 11 with value: 0.1641156462585034.\n",
      "[I 2024-09-08 15:08:45,813] Trial 172 finished with value: 0.1641156462585034 and parameters: {'n_estimators': 116, 'max_depth': 49, 'min_samples_split': 27, 'min_samples_leaf': 32}. Best is trial 11 with value: 0.1641156462585034.\n",
      "[I 2024-09-08 15:08:47,256] Trial 173 finished with value: 0.1641156462585034 and parameters: {'n_estimators': 374, 'max_depth': 33, 'min_samples_split': 28, 'min_samples_leaf': 30}. Best is trial 11 with value: 0.1641156462585034.\n",
      "[I 2024-09-08 15:08:48,583] Trial 174 finished with value: 0.15901360544217688 and parameters: {'n_estimators': 352, 'max_depth': 16, 'min_samples_split': 15, 'min_samples_leaf': 17}. Best is trial 11 with value: 0.1641156462585034.\n",
      "[I 2024-09-08 15:08:49,318] Trial 175 finished with value: 0.16071428571428573 and parameters: {'n_estimators': 186, 'max_depth': 13, 'min_samples_split': 3, 'min_samples_leaf': 20}. Best is trial 11 with value: 0.1641156462585034.\n",
      "[I 2024-09-08 15:08:50,579] Trial 176 finished with value: 0.1641156462585034 and parameters: {'n_estimators': 287, 'max_depth': 29, 'min_samples_split': 32, 'min_samples_leaf': 31}. Best is trial 11 with value: 0.1641156462585034.\n",
      "[I 2024-09-08 15:08:51,403] Trial 177 finished with value: 0.15476190476190477 and parameters: {'n_estimators': 155, 'max_depth': 40, 'min_samples_split': 31, 'min_samples_leaf': 11}. Best is trial 11 with value: 0.1641156462585034.\n",
      "[I 2024-09-08 15:08:52,356] Trial 178 finished with value: 0.16156462585034012 and parameters: {'n_estimators': 270, 'max_depth': 26, 'min_samples_split': 7, 'min_samples_leaf': 26}. Best is trial 11 with value: 0.1641156462585034.\n",
      "[I 2024-09-08 15:08:53,834] Trial 179 finished with value: 0.15391156462585034 and parameters: {'n_estimators': 374, 'max_depth': 21, 'min_samples_split': 2, 'min_samples_leaf': 8}. Best is trial 11 with value: 0.1641156462585034.\n",
      "[I 2024-09-08 15:08:54,620] Trial 180 finished with value: 0.15391156462585034 and parameters: {'n_estimators': 203, 'max_depth': 46, 'min_samples_split': 18, 'min_samples_leaf': 12}. Best is trial 11 with value: 0.1641156462585034.\n",
      "[I 2024-09-08 15:08:55,223] Trial 181 finished with value: 0.1522108843537415 and parameters: {'n_estimators': 128, 'max_depth': 24, 'min_samples_split': 5, 'min_samples_leaf': 1}. Best is trial 11 with value: 0.1641156462585034.\n",
      "[I 2024-09-08 15:08:56,245] Trial 182 finished with value: 0.15476190476190477 and parameters: {'n_estimators': 166, 'max_depth': 50, 'min_samples_split': 10, 'min_samples_leaf': 8}. Best is trial 11 with value: 0.1641156462585034.\n",
      "[I 2024-09-08 15:08:57,416] Trial 183 finished with value: 0.16326530612244897 and parameters: {'n_estimators': 211, 'max_depth': 24, 'min_samples_split': 11, 'min_samples_leaf': 24}. Best is trial 11 with value: 0.1641156462585034.\n",
      "[I 2024-09-08 15:08:58,952] Trial 184 finished with value: 0.16326530612244897 and parameters: {'n_estimators': 394, 'max_depth': 37, 'min_samples_split': 29, 'min_samples_leaf': 28}. Best is trial 11 with value: 0.1641156462585034.\n",
      "[I 2024-09-08 15:08:59,972] Trial 185 finished with value: 0.1564625850340136 and parameters: {'n_estimators': 278, 'max_depth': 47, 'min_samples_split': 30, 'min_samples_leaf': 16}. Best is trial 11 with value: 0.1641156462585034.\n",
      "[I 2024-09-08 15:09:02,218] Trial 186 finished with value: 0.15986394557823128 and parameters: {'n_estimators': 255, 'max_depth': 10, 'min_samples_split': 11, 'min_samples_leaf': 21}. Best is trial 11 with value: 0.1641156462585034.\n",
      "[I 2024-09-08 15:09:04,047] Trial 187 finished with value: 0.15476190476190477 and parameters: {'n_estimators': 163, 'max_depth': 46, 'min_samples_split': 19, 'min_samples_leaf': 11}. Best is trial 11 with value: 0.1641156462585034.\n",
      "[I 2024-09-08 15:09:06,355] Trial 188 finished with value: 0.15391156462585034 and parameters: {'n_estimators': 308, 'max_depth': 11, 'min_samples_split': 32, 'min_samples_leaf': 8}. Best is trial 11 with value: 0.1641156462585034.\n",
      "[I 2024-09-08 15:09:07,195] Trial 189 finished with value: 0.1522108843537415 and parameters: {'n_estimators': 118, 'max_depth': 21, 'min_samples_split': 18, 'min_samples_leaf': 4}. Best is trial 11 with value: 0.1641156462585034.\n",
      "[I 2024-09-08 15:09:08,969] Trial 190 finished with value: 0.15901360544217688 and parameters: {'n_estimators': 224, 'max_depth': 12, 'min_samples_split': 12, 'min_samples_leaf': 18}. Best is trial 11 with value: 0.1641156462585034.\n",
      "[I 2024-09-08 15:09:11,669] Trial 191 finished with value: 0.14795918367346939 and parameters: {'n_estimators': 363, 'max_depth': 16, 'min_samples_split': 9, 'min_samples_leaf': 1}. Best is trial 11 with value: 0.1641156462585034.\n",
      "[I 2024-09-08 15:09:13,085] Trial 192 finished with value: 0.15646258503401358 and parameters: {'n_estimators': 213, 'max_depth': 26, 'min_samples_split': 24, 'min_samples_leaf': 15}. Best is trial 11 with value: 0.1641156462585034.\n",
      "[I 2024-09-08 15:09:15,134] Trial 193 finished with value: 0.16071428571428573 and parameters: {'n_estimators': 317, 'max_depth': 36, 'min_samples_split': 20, 'min_samples_leaf': 24}. Best is trial 11 with value: 0.1641156462585034.\n",
      "[I 2024-09-08 15:09:16,910] Trial 194 finished with value: 0.15306122448979592 and parameters: {'n_estimators': 259, 'max_depth': 14, 'min_samples_split': 16, 'min_samples_leaf': 5}. Best is trial 11 with value: 0.1641156462585034.\n",
      "[I 2024-09-08 15:09:18,320] Trial 195 finished with value: 0.1641156462585034 and parameters: {'n_estimators': 382, 'max_depth': 35, 'min_samples_split': 13, 'min_samples_leaf': 28}. Best is trial 11 with value: 0.1641156462585034.\n",
      "[I 2024-09-08 15:09:19,849] Trial 196 finished with value: 0.1641156462585034 and parameters: {'n_estimators': 391, 'max_depth': 22, 'min_samples_split': 20, 'min_samples_leaf': 30}. Best is trial 11 with value: 0.1641156462585034.\n",
      "[I 2024-09-08 15:09:20,559] Trial 197 finished with value: 0.1641156462585034 and parameters: {'n_estimators': 180, 'max_depth': 30, 'min_samples_split': 14, 'min_samples_leaf': 29}. Best is trial 11 with value: 0.1641156462585034.\n",
      "[I 2024-09-08 15:09:21,203] Trial 198 finished with value: 0.1556122448979592 and parameters: {'n_estimators': 115, 'max_depth': 16, 'min_samples_split': 5, 'min_samples_leaf': 16}. Best is trial 11 with value: 0.1641156462585034.\n",
      "[I 2024-09-08 15:09:22,351] Trial 199 finished with value: 0.16071428571428573 and parameters: {'n_estimators': 270, 'max_depth': 49, 'min_samples_split': 28, 'min_samples_leaf': 23}. Best is trial 11 with value: 0.1641156462585034.\n"
     ]
    }
   ],
   "source": [
    "# Execute the optimization process for 200 trials.\n",
    "# - `objective` is the function to be optimized.\n",
    "# - `n_trials=200` specifies the number of different hyperparameter combinations to evaluate.\n",
    "\n",
    "study.optimize(objective, n_trials=200)"
   ]
  },
  {
   "cell_type": "code",
   "execution_count": 58,
   "metadata": {},
   "outputs": [],
   "source": [
    "# Retrieve the best hyperparameter values found during the optimization process.\n",
    "# - `best_params` contains the hyperparameter configuration that yielded the highest score.\n",
    "\n",
    "best_params = study.best_params"
   ]
  },
  {
   "cell_type": "code",
   "execution_count": 59,
   "metadata": {},
   "outputs": [
    {
     "data": {
      "application/vnd.plotly.v1+json": {
       "config": {
        "plotlyServerURL": "https://plot.ly"
       },
       "data": [
        {
         "mode": "markers",
         "name": "Objective Value",
         "type": "scatter",
         "x": [
          0,
          1,
          2,
          3,
          4,
          5,
          6,
          7,
          8,
          9,
          10,
          11,
          12,
          13,
          14,
          15,
          16,
          17,
          18,
          19,
          20,
          21,
          22,
          23,
          24,
          25,
          26,
          27,
          28,
          29,
          30,
          31,
          32,
          33,
          34,
          35,
          36,
          37,
          38,
          39,
          40,
          41,
          42,
          43,
          44,
          45,
          46,
          47,
          48,
          49,
          50,
          51,
          52,
          53,
          54,
          55,
          56,
          57,
          58,
          59,
          60,
          61,
          62,
          63,
          64,
          65,
          66,
          67,
          68,
          69,
          70,
          71,
          72,
          73,
          74,
          75,
          76,
          77,
          78,
          79,
          80,
          81,
          82,
          83,
          84,
          85,
          86,
          87,
          88,
          89,
          90,
          91,
          92,
          93,
          94,
          95,
          96,
          97,
          98,
          99,
          100,
          101,
          102,
          103,
          104,
          105,
          106,
          107,
          108,
          109,
          110,
          111,
          112,
          113,
          114,
          115,
          116,
          117,
          118,
          119,
          120,
          121,
          122,
          123,
          124,
          125,
          126,
          127,
          128,
          129,
          130,
          131,
          132,
          133,
          134,
          135,
          136,
          137,
          138,
          139,
          140,
          141,
          142,
          143,
          144,
          145,
          146,
          147,
          148,
          149,
          150,
          151,
          152,
          153,
          154,
          155,
          156,
          157,
          158,
          159,
          160,
          161,
          162,
          163,
          164,
          165,
          166,
          167,
          168,
          169,
          170,
          171,
          172,
          173,
          174,
          175,
          176,
          177,
          178,
          179,
          180,
          181,
          182,
          183,
          184,
          185,
          186,
          187,
          188,
          189,
          190,
          191,
          192,
          193,
          194,
          195,
          196,
          197,
          198,
          199
         ],
         "y": [
          0.16326530612244897,
          0.15901360544217688,
          0.15051020408163265,
          0.15391156462585034,
          0.1598639455782313,
          0.16326530612244897,
          0.16326530612244897,
          0.15986394557823128,
          0.16071428571428573,
          0.16326530612244897,
          0.16071428571428573,
          0.1641156462585034,
          0.1530612244897959,
          0.1556122448979592,
          0.15476190476190477,
          0.15476190476190477,
          0.16326530612244897,
          0.16156462585034012,
          0.15391156462585034,
          0.15476190476190477,
          0.14710884353741496,
          0.15986394557823128,
          0.15391156462585034,
          0.15051020408163265,
          0.15391156462585034,
          0.15986394557823128,
          0.16156462585034015,
          0.15986394557823128,
          0.1564625850340136,
          0.15816326530612246,
          0.15391156462585034,
          0.16326530612244897,
          0.1522108843537415,
          0.15731292517006804,
          0.1556122448979592,
          0.15391156462585034,
          0.1522108843537415,
          0.15986394557823128,
          0.15476190476190477,
          0.1641156462585034,
          0.1556122448979592,
          0.15731292517006804,
          0.15646258503401364,
          0.15816326530612246,
          0.16326530612244897,
          0.1641156462585034,
          0.15476190476190477,
          0.1522108843537415,
          0.15476190476190477,
          0.1607142857142857,
          0.1641156462585034,
          0.15816326530612246,
          0.16071428571428573,
          0.15476190476190477,
          0.1641156462585034,
          0.15986394557823128,
          0.15646258503401358,
          0.15051020408163265,
          0.15816326530612246,
          0.16156462585034012,
          0.15306122448979595,
          0.15901360544217688,
          0.15901360544217688,
          0.15476190476190477,
          0.15476190476190477,
          0.16156462585034012,
          0.15901360544217688,
          0.15646258503401358,
          0.1641156462585034,
          0.15391156462585034,
          0.16071428571428573,
          0.15816326530612246,
          0.1641156462585034,
          0.1641156462585034,
          0.1641156462585034,
          0.15476190476190477,
          0.15816326530612246,
          0.15306122448979592,
          0.15306122448979592,
          0.15731292517006804,
          0.1641156462585034,
          0.15476190476190477,
          0.1496598639455782,
          0.15731292517006804,
          0.15391156462585034,
          0.1641156462585034,
          0.15391156462585034,
          0.15476190476190477,
          0.1556122448979592,
          0.15306122448979592,
          0.1598639455782313,
          0.15391156462585034,
          0.15476190476190477,
          0.16156462585034012,
          0.15476190476190477,
          0.1641156462585034,
          0.14795918367346939,
          0.16071428571428573,
          0.15306122448979592,
          0.16071428571428573,
          0.15986394557823128,
          0.16326530612244897,
          0.15986394557823128,
          0.1641156462585034,
          0.15901360544217688,
          0.16326530612244897,
          0.16156462585034015,
          0.16326530612244897,
          0.15306122448979595,
          0.15476190476190477,
          0.1556122448979592,
          0.15731292517006804,
          0.15136054421768708,
          0.15731292517006804,
          0.15306122448979592,
          0.15391156462585034,
          0.15731292517006804,
          0.16071428571428573,
          0.1641156462585034,
          0.16071428571428573,
          0.15646258503401364,
          0.1564625850340136,
          0.1522108843537415,
          0.1641156462585034,
          0.15646258503401358,
          0.15901360544217688,
          0.15816326530612246,
          0.16241496598639457,
          0.1556122448979592,
          0.16326530612244897,
          0.1556122448979592,
          0.15731292517006804,
          0.16241496598639457,
          0.16241496598639457,
          0.16156462585034012,
          0.16326530612244897,
          0.15476190476190477,
          0.15306122448979595,
          0.16241496598639457,
          0.15051020408163265,
          0.15986394557823128,
          0.15391156462585034,
          0.16156462585034012,
          0.15306122448979595,
          0.16156462585034015,
          0.15646258503401364,
          0.15391156462585034,
          0.1641156462585034,
          0.16071428571428573,
          0.1641156462585034,
          0.15136054421768708,
          0.15391156462585034,
          0.15901360544217688,
          0.16326530612244897,
          0.15986394557823128,
          0.16156462585034012,
          0.15646258503401358,
          0.15391156462585034,
          0.1556122448979592,
          0.1641156462585034,
          0.15476190476190477,
          0.15901360544217688,
          0.1641156462585034,
          0.15391156462585034,
          0.15986394557823128,
          0.15731292517006804,
          0.15901360544217688,
          0.15986394557823128,
          0.1488095238095238,
          0.15476190476190477,
          0.15986394557823128,
          0.1607142857142857,
          0.1641156462585034,
          0.1641156462585034,
          0.15901360544217688,
          0.16071428571428573,
          0.1641156462585034,
          0.15476190476190477,
          0.16156462585034012,
          0.15391156462585034,
          0.15391156462585034,
          0.1522108843537415,
          0.15476190476190477,
          0.16326530612244897,
          0.16326530612244897,
          0.1564625850340136,
          0.15986394557823128,
          0.15476190476190477,
          0.15391156462585034,
          0.1522108843537415,
          0.15901360544217688,
          0.14795918367346939,
          0.15646258503401358,
          0.16071428571428573,
          0.15306122448979592,
          0.1641156462585034,
          0.1641156462585034,
          0.1641156462585034,
          0.1556122448979592,
          0.16071428571428573
         ]
        },
        {
         "mode": "lines",
         "name": "Best Value",
         "type": "scatter",
         "x": [
          0,
          1,
          2,
          3,
          4,
          5,
          6,
          7,
          8,
          9,
          10,
          11,
          12,
          13,
          14,
          15,
          16,
          17,
          18,
          19,
          20,
          21,
          22,
          23,
          24,
          25,
          26,
          27,
          28,
          29,
          30,
          31,
          32,
          33,
          34,
          35,
          36,
          37,
          38,
          39,
          40,
          41,
          42,
          43,
          44,
          45,
          46,
          47,
          48,
          49,
          50,
          51,
          52,
          53,
          54,
          55,
          56,
          57,
          58,
          59,
          60,
          61,
          62,
          63,
          64,
          65,
          66,
          67,
          68,
          69,
          70,
          71,
          72,
          73,
          74,
          75,
          76,
          77,
          78,
          79,
          80,
          81,
          82,
          83,
          84,
          85,
          86,
          87,
          88,
          89,
          90,
          91,
          92,
          93,
          94,
          95,
          96,
          97,
          98,
          99,
          100,
          101,
          102,
          103,
          104,
          105,
          106,
          107,
          108,
          109,
          110,
          111,
          112,
          113,
          114,
          115,
          116,
          117,
          118,
          119,
          120,
          121,
          122,
          123,
          124,
          125,
          126,
          127,
          128,
          129,
          130,
          131,
          132,
          133,
          134,
          135,
          136,
          137,
          138,
          139,
          140,
          141,
          142,
          143,
          144,
          145,
          146,
          147,
          148,
          149,
          150,
          151,
          152,
          153,
          154,
          155,
          156,
          157,
          158,
          159,
          160,
          161,
          162,
          163,
          164,
          165,
          166,
          167,
          168,
          169,
          170,
          171,
          172,
          173,
          174,
          175,
          176,
          177,
          178,
          179,
          180,
          181,
          182,
          183,
          184,
          185,
          186,
          187,
          188,
          189,
          190,
          191,
          192,
          193,
          194,
          195,
          196,
          197,
          198,
          199
         ],
         "y": [
          0.16326530612244897,
          0.16326530612244897,
          0.16326530612244897,
          0.16326530612244897,
          0.16326530612244897,
          0.16326530612244897,
          0.16326530612244897,
          0.16326530612244897,
          0.16326530612244897,
          0.16326530612244897,
          0.16326530612244897,
          0.1641156462585034,
          0.1641156462585034,
          0.1641156462585034,
          0.1641156462585034,
          0.1641156462585034,
          0.1641156462585034,
          0.1641156462585034,
          0.1641156462585034,
          0.1641156462585034,
          0.1641156462585034,
          0.1641156462585034,
          0.1641156462585034,
          0.1641156462585034,
          0.1641156462585034,
          0.1641156462585034,
          0.1641156462585034,
          0.1641156462585034,
          0.1641156462585034,
          0.1641156462585034,
          0.1641156462585034,
          0.1641156462585034,
          0.1641156462585034,
          0.1641156462585034,
          0.1641156462585034,
          0.1641156462585034,
          0.1641156462585034,
          0.1641156462585034,
          0.1641156462585034,
          0.1641156462585034,
          0.1641156462585034,
          0.1641156462585034,
          0.1641156462585034,
          0.1641156462585034,
          0.1641156462585034,
          0.1641156462585034,
          0.1641156462585034,
          0.1641156462585034,
          0.1641156462585034,
          0.1641156462585034,
          0.1641156462585034,
          0.1641156462585034,
          0.1641156462585034,
          0.1641156462585034,
          0.1641156462585034,
          0.1641156462585034,
          0.1641156462585034,
          0.1641156462585034,
          0.1641156462585034,
          0.1641156462585034,
          0.1641156462585034,
          0.1641156462585034,
          0.1641156462585034,
          0.1641156462585034,
          0.1641156462585034,
          0.1641156462585034,
          0.1641156462585034,
          0.1641156462585034,
          0.1641156462585034,
          0.1641156462585034,
          0.1641156462585034,
          0.1641156462585034,
          0.1641156462585034,
          0.1641156462585034,
          0.1641156462585034,
          0.1641156462585034,
          0.1641156462585034,
          0.1641156462585034,
          0.1641156462585034,
          0.1641156462585034,
          0.1641156462585034,
          0.1641156462585034,
          0.1641156462585034,
          0.1641156462585034,
          0.1641156462585034,
          0.1641156462585034,
          0.1641156462585034,
          0.1641156462585034,
          0.1641156462585034,
          0.1641156462585034,
          0.1641156462585034,
          0.1641156462585034,
          0.1641156462585034,
          0.1641156462585034,
          0.1641156462585034,
          0.1641156462585034,
          0.1641156462585034,
          0.1641156462585034,
          0.1641156462585034,
          0.1641156462585034,
          0.1641156462585034,
          0.1641156462585034,
          0.1641156462585034,
          0.1641156462585034,
          0.1641156462585034,
          0.1641156462585034,
          0.1641156462585034,
          0.1641156462585034,
          0.1641156462585034,
          0.1641156462585034,
          0.1641156462585034,
          0.1641156462585034,
          0.1641156462585034,
          0.1641156462585034,
          0.1641156462585034,
          0.1641156462585034,
          0.1641156462585034,
          0.1641156462585034,
          0.1641156462585034,
          0.1641156462585034,
          0.1641156462585034,
          0.1641156462585034,
          0.1641156462585034,
          0.1641156462585034,
          0.1641156462585034,
          0.1641156462585034,
          0.1641156462585034,
          0.1641156462585034,
          0.1641156462585034,
          0.1641156462585034,
          0.1641156462585034,
          0.1641156462585034,
          0.1641156462585034,
          0.1641156462585034,
          0.1641156462585034,
          0.1641156462585034,
          0.1641156462585034,
          0.1641156462585034,
          0.1641156462585034,
          0.1641156462585034,
          0.1641156462585034,
          0.1641156462585034,
          0.1641156462585034,
          0.1641156462585034,
          0.1641156462585034,
          0.1641156462585034,
          0.1641156462585034,
          0.1641156462585034,
          0.1641156462585034,
          0.1641156462585034,
          0.1641156462585034,
          0.1641156462585034,
          0.1641156462585034,
          0.1641156462585034,
          0.1641156462585034,
          0.1641156462585034,
          0.1641156462585034,
          0.1641156462585034,
          0.1641156462585034,
          0.1641156462585034,
          0.1641156462585034,
          0.1641156462585034,
          0.1641156462585034,
          0.1641156462585034,
          0.1641156462585034,
          0.1641156462585034,
          0.1641156462585034,
          0.1641156462585034,
          0.1641156462585034,
          0.1641156462585034,
          0.1641156462585034,
          0.1641156462585034,
          0.1641156462585034,
          0.1641156462585034,
          0.1641156462585034,
          0.1641156462585034,
          0.1641156462585034,
          0.1641156462585034,
          0.1641156462585034,
          0.1641156462585034,
          0.1641156462585034,
          0.1641156462585034,
          0.1641156462585034,
          0.1641156462585034,
          0.1641156462585034,
          0.1641156462585034,
          0.1641156462585034,
          0.1641156462585034,
          0.1641156462585034,
          0.1641156462585034,
          0.1641156462585034,
          0.1641156462585034,
          0.1641156462585034,
          0.1641156462585034,
          0.1641156462585034,
          0.1641156462585034,
          0.1641156462585034,
          0.1641156462585034,
          0.1641156462585034,
          0.1641156462585034
         ]
        },
        {
         "marker": {
          "color": "#cccccc"
         },
         "mode": "markers",
         "name": "Infeasible Trial",
         "showlegend": false,
         "type": "scatter",
         "x": [],
         "y": []
        }
       ],
       "layout": {
        "template": {
         "data": {
          "bar": [
           {
            "error_x": {
             "color": "#2a3f5f"
            },
            "error_y": {
             "color": "#2a3f5f"
            },
            "marker": {
             "line": {
              "color": "#E5ECF6",
              "width": 0.5
             },
             "pattern": {
              "fillmode": "overlay",
              "size": 10,
              "solidity": 0.2
             }
            },
            "type": "bar"
           }
          ],
          "barpolar": [
           {
            "marker": {
             "line": {
              "color": "#E5ECF6",
              "width": 0.5
             },
             "pattern": {
              "fillmode": "overlay",
              "size": 10,
              "solidity": 0.2
             }
            },
            "type": "barpolar"
           }
          ],
          "carpet": [
           {
            "aaxis": {
             "endlinecolor": "#2a3f5f",
             "gridcolor": "white",
             "linecolor": "white",
             "minorgridcolor": "white",
             "startlinecolor": "#2a3f5f"
            },
            "baxis": {
             "endlinecolor": "#2a3f5f",
             "gridcolor": "white",
             "linecolor": "white",
             "minorgridcolor": "white",
             "startlinecolor": "#2a3f5f"
            },
            "type": "carpet"
           }
          ],
          "choropleth": [
           {
            "colorbar": {
             "outlinewidth": 0,
             "ticks": ""
            },
            "type": "choropleth"
           }
          ],
          "contour": [
           {
            "colorbar": {
             "outlinewidth": 0,
             "ticks": ""
            },
            "colorscale": [
             [
              0,
              "#0d0887"
             ],
             [
              0.1111111111111111,
              "#46039f"
             ],
             [
              0.2222222222222222,
              "#7201a8"
             ],
             [
              0.3333333333333333,
              "#9c179e"
             ],
             [
              0.4444444444444444,
              "#bd3786"
             ],
             [
              0.5555555555555556,
              "#d8576b"
             ],
             [
              0.6666666666666666,
              "#ed7953"
             ],
             [
              0.7777777777777778,
              "#fb9f3a"
             ],
             [
              0.8888888888888888,
              "#fdca26"
             ],
             [
              1,
              "#f0f921"
             ]
            ],
            "type": "contour"
           }
          ],
          "contourcarpet": [
           {
            "colorbar": {
             "outlinewidth": 0,
             "ticks": ""
            },
            "type": "contourcarpet"
           }
          ],
          "heatmap": [
           {
            "colorbar": {
             "outlinewidth": 0,
             "ticks": ""
            },
            "colorscale": [
             [
              0,
              "#0d0887"
             ],
             [
              0.1111111111111111,
              "#46039f"
             ],
             [
              0.2222222222222222,
              "#7201a8"
             ],
             [
              0.3333333333333333,
              "#9c179e"
             ],
             [
              0.4444444444444444,
              "#bd3786"
             ],
             [
              0.5555555555555556,
              "#d8576b"
             ],
             [
              0.6666666666666666,
              "#ed7953"
             ],
             [
              0.7777777777777778,
              "#fb9f3a"
             ],
             [
              0.8888888888888888,
              "#fdca26"
             ],
             [
              1,
              "#f0f921"
             ]
            ],
            "type": "heatmap"
           }
          ],
          "heatmapgl": [
           {
            "colorbar": {
             "outlinewidth": 0,
             "ticks": ""
            },
            "colorscale": [
             [
              0,
              "#0d0887"
             ],
             [
              0.1111111111111111,
              "#46039f"
             ],
             [
              0.2222222222222222,
              "#7201a8"
             ],
             [
              0.3333333333333333,
              "#9c179e"
             ],
             [
              0.4444444444444444,
              "#bd3786"
             ],
             [
              0.5555555555555556,
              "#d8576b"
             ],
             [
              0.6666666666666666,
              "#ed7953"
             ],
             [
              0.7777777777777778,
              "#fb9f3a"
             ],
             [
              0.8888888888888888,
              "#fdca26"
             ],
             [
              1,
              "#f0f921"
             ]
            ],
            "type": "heatmapgl"
           }
          ],
          "histogram": [
           {
            "marker": {
             "pattern": {
              "fillmode": "overlay",
              "size": 10,
              "solidity": 0.2
             }
            },
            "type": "histogram"
           }
          ],
          "histogram2d": [
           {
            "colorbar": {
             "outlinewidth": 0,
             "ticks": ""
            },
            "colorscale": [
             [
              0,
              "#0d0887"
             ],
             [
              0.1111111111111111,
              "#46039f"
             ],
             [
              0.2222222222222222,
              "#7201a8"
             ],
             [
              0.3333333333333333,
              "#9c179e"
             ],
             [
              0.4444444444444444,
              "#bd3786"
             ],
             [
              0.5555555555555556,
              "#d8576b"
             ],
             [
              0.6666666666666666,
              "#ed7953"
             ],
             [
              0.7777777777777778,
              "#fb9f3a"
             ],
             [
              0.8888888888888888,
              "#fdca26"
             ],
             [
              1,
              "#f0f921"
             ]
            ],
            "type": "histogram2d"
           }
          ],
          "histogram2dcontour": [
           {
            "colorbar": {
             "outlinewidth": 0,
             "ticks": ""
            },
            "colorscale": [
             [
              0,
              "#0d0887"
             ],
             [
              0.1111111111111111,
              "#46039f"
             ],
             [
              0.2222222222222222,
              "#7201a8"
             ],
             [
              0.3333333333333333,
              "#9c179e"
             ],
             [
              0.4444444444444444,
              "#bd3786"
             ],
             [
              0.5555555555555556,
              "#d8576b"
             ],
             [
              0.6666666666666666,
              "#ed7953"
             ],
             [
              0.7777777777777778,
              "#fb9f3a"
             ],
             [
              0.8888888888888888,
              "#fdca26"
             ],
             [
              1,
              "#f0f921"
             ]
            ],
            "type": "histogram2dcontour"
           }
          ],
          "mesh3d": [
           {
            "colorbar": {
             "outlinewidth": 0,
             "ticks": ""
            },
            "type": "mesh3d"
           }
          ],
          "parcoords": [
           {
            "line": {
             "colorbar": {
              "outlinewidth": 0,
              "ticks": ""
             }
            },
            "type": "parcoords"
           }
          ],
          "pie": [
           {
            "automargin": true,
            "type": "pie"
           }
          ],
          "scatter": [
           {
            "fillpattern": {
             "fillmode": "overlay",
             "size": 10,
             "solidity": 0.2
            },
            "type": "scatter"
           }
          ],
          "scatter3d": [
           {
            "line": {
             "colorbar": {
              "outlinewidth": 0,
              "ticks": ""
             }
            },
            "marker": {
             "colorbar": {
              "outlinewidth": 0,
              "ticks": ""
             }
            },
            "type": "scatter3d"
           }
          ],
          "scattercarpet": [
           {
            "marker": {
             "colorbar": {
              "outlinewidth": 0,
              "ticks": ""
             }
            },
            "type": "scattercarpet"
           }
          ],
          "scattergeo": [
           {
            "marker": {
             "colorbar": {
              "outlinewidth": 0,
              "ticks": ""
             }
            },
            "type": "scattergeo"
           }
          ],
          "scattergl": [
           {
            "marker": {
             "colorbar": {
              "outlinewidth": 0,
              "ticks": ""
             }
            },
            "type": "scattergl"
           }
          ],
          "scattermapbox": [
           {
            "marker": {
             "colorbar": {
              "outlinewidth": 0,
              "ticks": ""
             }
            },
            "type": "scattermapbox"
           }
          ],
          "scatterpolar": [
           {
            "marker": {
             "colorbar": {
              "outlinewidth": 0,
              "ticks": ""
             }
            },
            "type": "scatterpolar"
           }
          ],
          "scatterpolargl": [
           {
            "marker": {
             "colorbar": {
              "outlinewidth": 0,
              "ticks": ""
             }
            },
            "type": "scatterpolargl"
           }
          ],
          "scatterternary": [
           {
            "marker": {
             "colorbar": {
              "outlinewidth": 0,
              "ticks": ""
             }
            },
            "type": "scatterternary"
           }
          ],
          "surface": [
           {
            "colorbar": {
             "outlinewidth": 0,
             "ticks": ""
            },
            "colorscale": [
             [
              0,
              "#0d0887"
             ],
             [
              0.1111111111111111,
              "#46039f"
             ],
             [
              0.2222222222222222,
              "#7201a8"
             ],
             [
              0.3333333333333333,
              "#9c179e"
             ],
             [
              0.4444444444444444,
              "#bd3786"
             ],
             [
              0.5555555555555556,
              "#d8576b"
             ],
             [
              0.6666666666666666,
              "#ed7953"
             ],
             [
              0.7777777777777778,
              "#fb9f3a"
             ],
             [
              0.8888888888888888,
              "#fdca26"
             ],
             [
              1,
              "#f0f921"
             ]
            ],
            "type": "surface"
           }
          ],
          "table": [
           {
            "cells": {
             "fill": {
              "color": "#EBF0F8"
             },
             "line": {
              "color": "white"
             }
            },
            "header": {
             "fill": {
              "color": "#C8D4E3"
             },
             "line": {
              "color": "white"
             }
            },
            "type": "table"
           }
          ]
         },
         "layout": {
          "annotationdefaults": {
           "arrowcolor": "#2a3f5f",
           "arrowhead": 0,
           "arrowwidth": 1
          },
          "autotypenumbers": "strict",
          "coloraxis": {
           "colorbar": {
            "outlinewidth": 0,
            "ticks": ""
           }
          },
          "colorscale": {
           "diverging": [
            [
             0,
             "#8e0152"
            ],
            [
             0.1,
             "#c51b7d"
            ],
            [
             0.2,
             "#de77ae"
            ],
            [
             0.3,
             "#f1b6da"
            ],
            [
             0.4,
             "#fde0ef"
            ],
            [
             0.5,
             "#f7f7f7"
            ],
            [
             0.6,
             "#e6f5d0"
            ],
            [
             0.7,
             "#b8e186"
            ],
            [
             0.8,
             "#7fbc41"
            ],
            [
             0.9,
             "#4d9221"
            ],
            [
             1,
             "#276419"
            ]
           ],
           "sequential": [
            [
             0,
             "#0d0887"
            ],
            [
             0.1111111111111111,
             "#46039f"
            ],
            [
             0.2222222222222222,
             "#7201a8"
            ],
            [
             0.3333333333333333,
             "#9c179e"
            ],
            [
             0.4444444444444444,
             "#bd3786"
            ],
            [
             0.5555555555555556,
             "#d8576b"
            ],
            [
             0.6666666666666666,
             "#ed7953"
            ],
            [
             0.7777777777777778,
             "#fb9f3a"
            ],
            [
             0.8888888888888888,
             "#fdca26"
            ],
            [
             1,
             "#f0f921"
            ]
           ],
           "sequentialminus": [
            [
             0,
             "#0d0887"
            ],
            [
             0.1111111111111111,
             "#46039f"
            ],
            [
             0.2222222222222222,
             "#7201a8"
            ],
            [
             0.3333333333333333,
             "#9c179e"
            ],
            [
             0.4444444444444444,
             "#bd3786"
            ],
            [
             0.5555555555555556,
             "#d8576b"
            ],
            [
             0.6666666666666666,
             "#ed7953"
            ],
            [
             0.7777777777777778,
             "#fb9f3a"
            ],
            [
             0.8888888888888888,
             "#fdca26"
            ],
            [
             1,
             "#f0f921"
            ]
           ]
          },
          "colorway": [
           "#636efa",
           "#EF553B",
           "#00cc96",
           "#ab63fa",
           "#FFA15A",
           "#19d3f3",
           "#FF6692",
           "#B6E880",
           "#FF97FF",
           "#FECB52"
          ],
          "font": {
           "color": "#2a3f5f"
          },
          "geo": {
           "bgcolor": "white",
           "lakecolor": "white",
           "landcolor": "#E5ECF6",
           "showlakes": true,
           "showland": true,
           "subunitcolor": "white"
          },
          "hoverlabel": {
           "align": "left"
          },
          "hovermode": "closest",
          "mapbox": {
           "style": "light"
          },
          "paper_bgcolor": "white",
          "plot_bgcolor": "#E5ECF6",
          "polar": {
           "angularaxis": {
            "gridcolor": "white",
            "linecolor": "white",
            "ticks": ""
           },
           "bgcolor": "#E5ECF6",
           "radialaxis": {
            "gridcolor": "white",
            "linecolor": "white",
            "ticks": ""
           }
          },
          "scene": {
           "xaxis": {
            "backgroundcolor": "#E5ECF6",
            "gridcolor": "white",
            "gridwidth": 2,
            "linecolor": "white",
            "showbackground": true,
            "ticks": "",
            "zerolinecolor": "white"
           },
           "yaxis": {
            "backgroundcolor": "#E5ECF6",
            "gridcolor": "white",
            "gridwidth": 2,
            "linecolor": "white",
            "showbackground": true,
            "ticks": "",
            "zerolinecolor": "white"
           },
           "zaxis": {
            "backgroundcolor": "#E5ECF6",
            "gridcolor": "white",
            "gridwidth": 2,
            "linecolor": "white",
            "showbackground": true,
            "ticks": "",
            "zerolinecolor": "white"
           }
          },
          "shapedefaults": {
           "line": {
            "color": "#2a3f5f"
           }
          },
          "ternary": {
           "aaxis": {
            "gridcolor": "white",
            "linecolor": "white",
            "ticks": ""
           },
           "baxis": {
            "gridcolor": "white",
            "linecolor": "white",
            "ticks": ""
           },
           "bgcolor": "#E5ECF6",
           "caxis": {
            "gridcolor": "white",
            "linecolor": "white",
            "ticks": ""
           }
          },
          "title": {
           "x": 0.05
          },
          "xaxis": {
           "automargin": true,
           "gridcolor": "white",
           "linecolor": "white",
           "ticks": "",
           "title": {
            "standoff": 15
           },
           "zerolinecolor": "white",
           "zerolinewidth": 2
          },
          "yaxis": {
           "automargin": true,
           "gridcolor": "white",
           "linecolor": "white",
           "ticks": "",
           "title": {
            "standoff": 15
           },
           "zerolinecolor": "white",
           "zerolinewidth": 2
          }
         }
        },
        "title": {
         "text": "Optimization History Plot"
        },
        "xaxis": {
         "title": {
          "text": "Trial"
         }
        },
        "yaxis": {
         "title": {
          "text": "Objective Value"
         }
        }
       }
      }
     },
     "metadata": {},
     "output_type": "display_data"
    }
   ],
   "source": [
    "# Visualize the optimization history of the study.\n",
    "# - `plot_optimization_history(study)` shows the evolution of the objective function's value over trials.\n",
    "\n",
    "optuna.visualization.plot_optimization_history(study)"
   ]
  },
  {
   "cell_type": "code",
   "execution_count": 60,
   "metadata": {},
   "outputs": [
    {
     "data": {
      "application/vnd.plotly.v1+json": {
       "config": {
        "plotlyServerURL": "https://plot.ly"
       },
       "data": [
        {
         "marker": {
          "color": [
           0,
           1,
           2,
           3,
           4,
           5,
           6,
           7,
           8,
           9,
           10,
           11,
           12,
           13,
           14,
           15,
           16,
           17,
           18,
           19,
           20,
           21,
           22,
           23,
           24,
           25,
           26,
           27,
           28,
           29,
           30,
           31,
           32,
           33,
           34,
           35,
           36,
           37,
           38,
           39,
           40,
           41,
           42,
           43,
           44,
           45,
           46,
           47,
           48,
           49,
           50,
           51,
           52,
           53,
           54,
           55,
           56,
           57,
           58,
           59,
           60,
           61,
           62,
           63,
           64,
           65,
           66,
           67,
           68,
           69,
           70,
           71,
           72,
           73,
           74,
           75,
           76,
           77,
           78,
           79,
           80,
           81,
           82,
           83,
           84,
           85,
           86,
           87,
           88,
           89,
           90,
           91,
           92,
           93,
           94,
           95,
           96,
           97,
           98,
           99,
           100,
           101,
           102,
           103,
           104,
           105,
           106,
           107,
           108,
           109,
           110,
           111,
           112,
           113,
           114,
           115,
           116,
           117,
           118,
           119,
           120,
           121,
           122,
           123,
           124,
           125,
           126,
           127,
           128,
           129,
           130,
           131,
           132,
           133,
           134,
           135,
           136,
           137,
           138,
           139,
           140,
           141,
           142,
           143,
           144,
           145,
           146,
           147,
           148,
           149,
           150,
           151,
           152,
           153,
           154,
           155,
           156,
           157,
           158,
           159,
           160,
           161,
           162,
           163,
           164,
           165,
           166,
           167,
           168,
           169,
           170,
           171,
           172,
           173,
           174,
           175,
           176,
           177,
           178,
           179,
           180,
           181,
           182,
           183,
           184,
           185,
           186,
           187,
           188,
           189,
           190,
           191,
           192,
           193,
           194,
           195,
           196,
           197,
           198,
           199
          ],
          "colorbar": {
           "title": {
            "text": "Trial"
           },
           "x": 1,
           "xpad": 40
          },
          "colorscale": [
           [
            0,
            "rgb(247,251,255)"
           ],
           [
            0.125,
            "rgb(222,235,247)"
           ],
           [
            0.25,
            "rgb(198,219,239)"
           ],
           [
            0.375,
            "rgb(158,202,225)"
           ],
           [
            0.5,
            "rgb(107,174,214)"
           ],
           [
            0.625,
            "rgb(66,146,198)"
           ],
           [
            0.75,
            "rgb(33,113,181)"
           ],
           [
            0.875,
            "rgb(8,81,156)"
           ],
           [
            1,
            "rgb(8,48,107)"
           ]
          ],
          "line": {
           "color": "Grey",
           "width": 0.5
          },
          "showscale": true
         },
         "mode": "markers",
         "name": "Feasible Trial",
         "showlegend": false,
         "type": "scatter",
         "x": [
          26,
          11,
          36,
          50,
          44,
          25,
          32,
          41,
          38,
          49,
          32,
          50,
          36,
          17,
          10,
          13,
          35,
          39,
          50,
          46,
          43,
          47,
          29,
          34,
          50,
          15,
          39,
          22,
          45,
          33,
          43,
          19,
          32,
          18,
          25,
          25,
          34,
          42,
          18,
          14,
          15,
          13,
          19,
          50,
          40,
          31,
          22,
          35,
          34,
          39,
          44,
          32,
          29,
          11,
          23,
          17,
          12,
          35,
          30,
          31,
          43,
          24,
          27,
          17,
          24,
          41,
          41,
          37,
          19,
          13,
          50,
          10,
          25,
          32,
          43,
          41,
          28,
          37,
          30,
          10,
          48,
          40,
          42,
          48,
          15,
          26,
          25,
          27,
          27,
          32,
          32,
          16,
          18,
          16,
          40,
          33,
          11,
          48,
          42,
          18,
          20,
          30,
          22,
          12,
          22,
          24,
          47,
          11,
          18,
          25,
          35,
          46,
          16,
          45,
          31,
          22,
          26,
          42,
          21,
          42,
          16,
          29,
          44,
          29,
          10,
          42,
          35,
          29,
          21,
          42,
          32,
          17,
          28,
          19,
          30,
          33,
          33,
          29,
          19,
          13,
          16,
          45,
          37,
          17,
          17,
          28,
          12,
          18,
          49,
          47,
          17,
          26,
          33,
          30,
          24,
          23,
          45,
          45,
          32,
          12,
          48,
          25,
          17,
          14,
          50,
          18,
          44,
          21,
          33,
          33,
          11,
          46,
          49,
          33,
          16,
          13,
          29,
          40,
          26,
          21,
          46,
          24,
          50,
          24,
          37,
          47,
          10,
          46,
          11,
          21,
          12,
          16,
          26,
          36,
          14,
          35,
          22,
          30,
          16,
          49
         ],
         "xaxis": "x",
         "y": [
          0.16326530612244897,
          0.15901360544217688,
          0.15051020408163265,
          0.15391156462585034,
          0.1598639455782313,
          0.16326530612244897,
          0.16326530612244897,
          0.15986394557823128,
          0.16071428571428573,
          0.16326530612244897,
          0.16071428571428573,
          0.1641156462585034,
          0.1530612244897959,
          0.1556122448979592,
          0.15476190476190477,
          0.15476190476190477,
          0.16326530612244897,
          0.16156462585034012,
          0.15391156462585034,
          0.15476190476190477,
          0.14710884353741496,
          0.15986394557823128,
          0.15391156462585034,
          0.15051020408163265,
          0.15391156462585034,
          0.15986394557823128,
          0.16156462585034015,
          0.15986394557823128,
          0.1564625850340136,
          0.15816326530612246,
          0.15391156462585034,
          0.16326530612244897,
          0.1522108843537415,
          0.15731292517006804,
          0.1556122448979592,
          0.15391156462585034,
          0.1522108843537415,
          0.15986394557823128,
          0.15476190476190477,
          0.1641156462585034,
          0.1556122448979592,
          0.15731292517006804,
          0.15646258503401364,
          0.15816326530612246,
          0.16326530612244897,
          0.1641156462585034,
          0.15476190476190477,
          0.1522108843537415,
          0.15476190476190477,
          0.1607142857142857,
          0.1641156462585034,
          0.15816326530612246,
          0.16071428571428573,
          0.15476190476190477,
          0.1641156462585034,
          0.15986394557823128,
          0.15646258503401358,
          0.15051020408163265,
          0.15816326530612246,
          0.16156462585034012,
          0.15306122448979595,
          0.15901360544217688,
          0.15901360544217688,
          0.15476190476190477,
          0.15476190476190477,
          0.16156462585034012,
          0.15901360544217688,
          0.15646258503401358,
          0.1641156462585034,
          0.15391156462585034,
          0.16071428571428573,
          0.15816326530612246,
          0.1641156462585034,
          0.1641156462585034,
          0.1641156462585034,
          0.15476190476190477,
          0.15816326530612246,
          0.15306122448979592,
          0.15306122448979592,
          0.15731292517006804,
          0.1641156462585034,
          0.15476190476190477,
          0.1496598639455782,
          0.15731292517006804,
          0.15391156462585034,
          0.1641156462585034,
          0.15391156462585034,
          0.15476190476190477,
          0.1556122448979592,
          0.15306122448979592,
          0.1598639455782313,
          0.15391156462585034,
          0.15476190476190477,
          0.16156462585034012,
          0.15476190476190477,
          0.1641156462585034,
          0.14795918367346939,
          0.16071428571428573,
          0.15306122448979592,
          0.16071428571428573,
          0.15986394557823128,
          0.16326530612244897,
          0.15986394557823128,
          0.1641156462585034,
          0.15901360544217688,
          0.16326530612244897,
          0.16156462585034015,
          0.16326530612244897,
          0.15306122448979595,
          0.15476190476190477,
          0.1556122448979592,
          0.15731292517006804,
          0.15136054421768708,
          0.15731292517006804,
          0.15306122448979592,
          0.15391156462585034,
          0.15731292517006804,
          0.16071428571428573,
          0.1641156462585034,
          0.16071428571428573,
          0.15646258503401364,
          0.1564625850340136,
          0.1522108843537415,
          0.1641156462585034,
          0.15646258503401358,
          0.15901360544217688,
          0.15816326530612246,
          0.16241496598639457,
          0.1556122448979592,
          0.16326530612244897,
          0.1556122448979592,
          0.15731292517006804,
          0.16241496598639457,
          0.16241496598639457,
          0.16156462585034012,
          0.16326530612244897,
          0.15476190476190477,
          0.15306122448979595,
          0.16241496598639457,
          0.15051020408163265,
          0.15986394557823128,
          0.15391156462585034,
          0.16156462585034012,
          0.15306122448979595,
          0.16156462585034015,
          0.15646258503401364,
          0.15391156462585034,
          0.1641156462585034,
          0.16071428571428573,
          0.1641156462585034,
          0.15136054421768708,
          0.15391156462585034,
          0.15901360544217688,
          0.16326530612244897,
          0.15986394557823128,
          0.16156462585034012,
          0.15646258503401358,
          0.15391156462585034,
          0.1556122448979592,
          0.1641156462585034,
          0.15476190476190477,
          0.15901360544217688,
          0.1641156462585034,
          0.15391156462585034,
          0.15986394557823128,
          0.15731292517006804,
          0.15901360544217688,
          0.15986394557823128,
          0.1488095238095238,
          0.15476190476190477,
          0.15986394557823128,
          0.1607142857142857,
          0.1641156462585034,
          0.1641156462585034,
          0.15901360544217688,
          0.16071428571428573,
          0.1641156462585034,
          0.15476190476190477,
          0.16156462585034012,
          0.15391156462585034,
          0.15391156462585034,
          0.1522108843537415,
          0.15476190476190477,
          0.16326530612244897,
          0.16326530612244897,
          0.1564625850340136,
          0.15986394557823128,
          0.15476190476190477,
          0.15391156462585034,
          0.1522108843537415,
          0.15901360544217688,
          0.14795918367346939,
          0.15646258503401358,
          0.16071428571428573,
          0.15306122448979592,
          0.1641156462585034,
          0.1641156462585034,
          0.1641156462585034,
          0.1556122448979592,
          0.16071428571428573
         ],
         "yaxis": "y"
        },
        {
         "marker": {
          "color": [
           0,
           1,
           2,
           3,
           4,
           5,
           6,
           7,
           8,
           9,
           10,
           11,
           12,
           13,
           14,
           15,
           16,
           17,
           18,
           19,
           20,
           21,
           22,
           23,
           24,
           25,
           26,
           27,
           28,
           29,
           30,
           31,
           32,
           33,
           34,
           35,
           36,
           37,
           38,
           39,
           40,
           41,
           42,
           43,
           44,
           45,
           46,
           47,
           48,
           49,
           50,
           51,
           52,
           53,
           54,
           55,
           56,
           57,
           58,
           59,
           60,
           61,
           62,
           63,
           64,
           65,
           66,
           67,
           68,
           69,
           70,
           71,
           72,
           73,
           74,
           75,
           76,
           77,
           78,
           79,
           80,
           81,
           82,
           83,
           84,
           85,
           86,
           87,
           88,
           89,
           90,
           91,
           92,
           93,
           94,
           95,
           96,
           97,
           98,
           99,
           100,
           101,
           102,
           103,
           104,
           105,
           106,
           107,
           108,
           109,
           110,
           111,
           112,
           113,
           114,
           115,
           116,
           117,
           118,
           119,
           120,
           121,
           122,
           123,
           124,
           125,
           126,
           127,
           128,
           129,
           130,
           131,
           132,
           133,
           134,
           135,
           136,
           137,
           138,
           139,
           140,
           141,
           142,
           143,
           144,
           145,
           146,
           147,
           148,
           149,
           150,
           151,
           152,
           153,
           154,
           155,
           156,
           157,
           158,
           159,
           160,
           161,
           162,
           163,
           164,
           165,
           166,
           167,
           168,
           169,
           170,
           171,
           172,
           173,
           174,
           175,
           176,
           177,
           178,
           179,
           180,
           181,
           182,
           183,
           184,
           185,
           186,
           187,
           188,
           189,
           190,
           191,
           192,
           193,
           194,
           195,
           196,
           197,
           198,
           199
          ],
          "colorbar": {
           "title": {
            "text": "Trial"
           },
           "x": 1,
           "xpad": 40
          },
          "colorscale": [
           [
            0,
            "rgb(247,251,255)"
           ],
           [
            0.125,
            "rgb(222,235,247)"
           ],
           [
            0.25,
            "rgb(198,219,239)"
           ],
           [
            0.375,
            "rgb(158,202,225)"
           ],
           [
            0.5,
            "rgb(107,174,214)"
           ],
           [
            0.625,
            "rgb(66,146,198)"
           ],
           [
            0.75,
            "rgb(33,113,181)"
           ],
           [
            0.875,
            "rgb(8,81,156)"
           ],
           [
            1,
            "rgb(8,48,107)"
           ]
          ],
          "line": {
           "color": "Grey",
           "width": 0.5
          },
          "showscale": false
         },
         "mode": "markers",
         "name": "Feasible Trial",
         "showlegend": false,
         "type": "scatter",
         "x": [
          24,
          17,
          3,
          3,
          20,
          29,
          27,
          21,
          21,
          29,
          22,
          31,
          2,
          7,
          3,
          10,
          26,
          24,
          11,
          13,
          2,
          20,
          5,
          3,
          9,
          23,
          23,
          19,
          13,
          14,
          10,
          28,
          6,
          15,
          15,
          12,
          13,
          18,
          8,
          32,
          14,
          16,
          16,
          18,
          28,
          32,
          3,
          8,
          10,
          23,
          32,
          15,
          23,
          12,
          28,
          21,
          15,
          2,
          17,
          26,
          8,
          17,
          18,
          8,
          4,
          24,
          19,
          16,
          32,
          2,
          24,
          13,
          32,
          32,
          29,
          6,
          18,
          2,
          9,
          15,
          30,
          14,
          2,
          15,
          10,
          31,
          11,
          7,
          15,
          3,
          19,
          7,
          5,
          26,
          9,
          32,
          2,
          24,
          13,
          21,
          21,
          27,
          20,
          31,
          18,
          28,
          22,
          25,
          10,
          9,
          12,
          16,
          1,
          14,
          8,
          9,
          16,
          22,
          30,
          24,
          16,
          11,
          4,
          32,
          13,
          21,
          15,
          23,
          10,
          26,
          10,
          16,
          29,
          29,
          24,
          27,
          15,
          6,
          24,
          3,
          22,
          12,
          26,
          12,
          23,
          16,
          7,
          32,
          23,
          29,
          5,
          8,
          16,
          25,
          22,
          23,
          15,
          10,
          12,
          30,
          14,
          17,
          31,
          11,
          19,
          16,
          19,
          21,
          1,
          12,
          19,
          23,
          32,
          30,
          17,
          20,
          31,
          11,
          26,
          8,
          12,
          1,
          8,
          24,
          28,
          16,
          21,
          11,
          8,
          4,
          18,
          1,
          15,
          24,
          5,
          28,
          30,
          29,
          16,
          23
         ],
         "xaxis": "x2",
         "y": [
          0.16326530612244897,
          0.15901360544217688,
          0.15051020408163265,
          0.15391156462585034,
          0.1598639455782313,
          0.16326530612244897,
          0.16326530612244897,
          0.15986394557823128,
          0.16071428571428573,
          0.16326530612244897,
          0.16071428571428573,
          0.1641156462585034,
          0.1530612244897959,
          0.1556122448979592,
          0.15476190476190477,
          0.15476190476190477,
          0.16326530612244897,
          0.16156462585034012,
          0.15391156462585034,
          0.15476190476190477,
          0.14710884353741496,
          0.15986394557823128,
          0.15391156462585034,
          0.15051020408163265,
          0.15391156462585034,
          0.15986394557823128,
          0.16156462585034015,
          0.15986394557823128,
          0.1564625850340136,
          0.15816326530612246,
          0.15391156462585034,
          0.16326530612244897,
          0.1522108843537415,
          0.15731292517006804,
          0.1556122448979592,
          0.15391156462585034,
          0.1522108843537415,
          0.15986394557823128,
          0.15476190476190477,
          0.1641156462585034,
          0.1556122448979592,
          0.15731292517006804,
          0.15646258503401364,
          0.15816326530612246,
          0.16326530612244897,
          0.1641156462585034,
          0.15476190476190477,
          0.1522108843537415,
          0.15476190476190477,
          0.1607142857142857,
          0.1641156462585034,
          0.15816326530612246,
          0.16071428571428573,
          0.15476190476190477,
          0.1641156462585034,
          0.15986394557823128,
          0.15646258503401358,
          0.15051020408163265,
          0.15816326530612246,
          0.16156462585034012,
          0.15306122448979595,
          0.15901360544217688,
          0.15901360544217688,
          0.15476190476190477,
          0.15476190476190477,
          0.16156462585034012,
          0.15901360544217688,
          0.15646258503401358,
          0.1641156462585034,
          0.15391156462585034,
          0.16071428571428573,
          0.15816326530612246,
          0.1641156462585034,
          0.1641156462585034,
          0.1641156462585034,
          0.15476190476190477,
          0.15816326530612246,
          0.15306122448979592,
          0.15306122448979592,
          0.15731292517006804,
          0.1641156462585034,
          0.15476190476190477,
          0.1496598639455782,
          0.15731292517006804,
          0.15391156462585034,
          0.1641156462585034,
          0.15391156462585034,
          0.15476190476190477,
          0.1556122448979592,
          0.15306122448979592,
          0.1598639455782313,
          0.15391156462585034,
          0.15476190476190477,
          0.16156462585034012,
          0.15476190476190477,
          0.1641156462585034,
          0.14795918367346939,
          0.16071428571428573,
          0.15306122448979592,
          0.16071428571428573,
          0.15986394557823128,
          0.16326530612244897,
          0.15986394557823128,
          0.1641156462585034,
          0.15901360544217688,
          0.16326530612244897,
          0.16156462585034015,
          0.16326530612244897,
          0.15306122448979595,
          0.15476190476190477,
          0.1556122448979592,
          0.15731292517006804,
          0.15136054421768708,
          0.15731292517006804,
          0.15306122448979592,
          0.15391156462585034,
          0.15731292517006804,
          0.16071428571428573,
          0.1641156462585034,
          0.16071428571428573,
          0.15646258503401364,
          0.1564625850340136,
          0.1522108843537415,
          0.1641156462585034,
          0.15646258503401358,
          0.15901360544217688,
          0.15816326530612246,
          0.16241496598639457,
          0.1556122448979592,
          0.16326530612244897,
          0.1556122448979592,
          0.15731292517006804,
          0.16241496598639457,
          0.16241496598639457,
          0.16156462585034012,
          0.16326530612244897,
          0.15476190476190477,
          0.15306122448979595,
          0.16241496598639457,
          0.15051020408163265,
          0.15986394557823128,
          0.15391156462585034,
          0.16156462585034012,
          0.15306122448979595,
          0.16156462585034015,
          0.15646258503401364,
          0.15391156462585034,
          0.1641156462585034,
          0.16071428571428573,
          0.1641156462585034,
          0.15136054421768708,
          0.15391156462585034,
          0.15901360544217688,
          0.16326530612244897,
          0.15986394557823128,
          0.16156462585034012,
          0.15646258503401358,
          0.15391156462585034,
          0.1556122448979592,
          0.1641156462585034,
          0.15476190476190477,
          0.15901360544217688,
          0.1641156462585034,
          0.15391156462585034,
          0.15986394557823128,
          0.15731292517006804,
          0.15901360544217688,
          0.15986394557823128,
          0.1488095238095238,
          0.15476190476190477,
          0.15986394557823128,
          0.1607142857142857,
          0.1641156462585034,
          0.1641156462585034,
          0.15901360544217688,
          0.16071428571428573,
          0.1641156462585034,
          0.15476190476190477,
          0.16156462585034012,
          0.15391156462585034,
          0.15391156462585034,
          0.1522108843537415,
          0.15476190476190477,
          0.16326530612244897,
          0.16326530612244897,
          0.1564625850340136,
          0.15986394557823128,
          0.15476190476190477,
          0.15391156462585034,
          0.1522108843537415,
          0.15901360544217688,
          0.14795918367346939,
          0.15646258503401358,
          0.16071428571428573,
          0.15306122448979592,
          0.1641156462585034,
          0.1641156462585034,
          0.1641156462585034,
          0.1556122448979592,
          0.16071428571428573
         ],
         "yaxis": "y2"
        },
        {
         "marker": {
          "color": [
           0,
           1,
           2,
           3,
           4,
           5,
           6,
           7,
           8,
           9,
           10,
           11,
           12,
           13,
           14,
           15,
           16,
           17,
           18,
           19,
           20,
           21,
           22,
           23,
           24,
           25,
           26,
           27,
           28,
           29,
           30,
           31,
           32,
           33,
           34,
           35,
           36,
           37,
           38,
           39,
           40,
           41,
           42,
           43,
           44,
           45,
           46,
           47,
           48,
           49,
           50,
           51,
           52,
           53,
           54,
           55,
           56,
           57,
           58,
           59,
           60,
           61,
           62,
           63,
           64,
           65,
           66,
           67,
           68,
           69,
           70,
           71,
           72,
           73,
           74,
           75,
           76,
           77,
           78,
           79,
           80,
           81,
           82,
           83,
           84,
           85,
           86,
           87,
           88,
           89,
           90,
           91,
           92,
           93,
           94,
           95,
           96,
           97,
           98,
           99,
           100,
           101,
           102,
           103,
           104,
           105,
           106,
           107,
           108,
           109,
           110,
           111,
           112,
           113,
           114,
           115,
           116,
           117,
           118,
           119,
           120,
           121,
           122,
           123,
           124,
           125,
           126,
           127,
           128,
           129,
           130,
           131,
           132,
           133,
           134,
           135,
           136,
           137,
           138,
           139,
           140,
           141,
           142,
           143,
           144,
           145,
           146,
           147,
           148,
           149,
           150,
           151,
           152,
           153,
           154,
           155,
           156,
           157,
           158,
           159,
           160,
           161,
           162,
           163,
           164,
           165,
           166,
           167,
           168,
           169,
           170,
           171,
           172,
           173,
           174,
           175,
           176,
           177,
           178,
           179,
           180,
           181,
           182,
           183,
           184,
           185,
           186,
           187,
           188,
           189,
           190,
           191,
           192,
           193,
           194,
           195,
           196,
           197,
           198,
           199
          ],
          "colorbar": {
           "title": {
            "text": "Trial"
           },
           "x": 1,
           "xpad": 40
          },
          "colorscale": [
           [
            0,
            "rgb(247,251,255)"
           ],
           [
            0.125,
            "rgb(222,235,247)"
           ],
           [
            0.25,
            "rgb(198,219,239)"
           ],
           [
            0.375,
            "rgb(158,202,225)"
           ],
           [
            0.5,
            "rgb(107,174,214)"
           ],
           [
            0.625,
            "rgb(66,146,198)"
           ],
           [
            0.75,
            "rgb(33,113,181)"
           ],
           [
            0.875,
            "rgb(8,81,156)"
           ],
           [
            1,
            "rgb(8,48,107)"
           ]
          ],
          "line": {
           "color": "Grey",
           "width": 0.5
          },
          "showscale": false
         },
         "mode": "markers",
         "name": "Feasible Trial",
         "showlegend": false,
         "type": "scatter",
         "x": [
          30,
          7,
          2,
          19,
          16,
          16,
          15,
          15,
          16,
          11,
          11,
          26,
          15,
          16,
          32,
          10,
          7,
          6,
          22,
          18,
          6,
          23,
          29,
          2,
          25,
          21,
          21,
          13,
          18,
          27,
          15,
          26,
          4,
          25,
          8,
          9,
          14,
          31,
          29,
          20,
          2,
          26,
          24,
          28,
          12,
          2,
          19,
          24,
          21,
          23,
          10,
          7,
          16,
          19,
          7,
          11,
          31,
          3,
          30,
          22,
          3,
          25,
          13,
          11,
          18,
          10,
          25,
          14,
          10,
          17,
          20,
          14,
          30,
          30,
          26,
          32,
          27,
          31,
          5,
          20,
          16,
          13,
          5,
          18,
          31,
          13,
          13,
          11,
          21,
          5,
          5,
          6,
          30,
          31,
          28,
          22,
          20,
          21,
          2,
          26,
          10,
          18,
          2,
          21,
          2,
          19,
          23,
          10,
          17,
          28,
          24,
          13,
          16,
          28,
          10,
          17,
          5,
          7,
          12,
          10,
          26,
          9,
          27,
          16,
          21,
          13,
          17,
          5,
          21,
          30,
          22,
          31,
          3,
          15,
          20,
          2,
          8,
          13,
          16,
          11,
          12,
          32,
          28,
          10,
          18,
          9,
          32,
          7,
          10,
          31,
          9,
          7,
          9,
          8,
          22,
          7,
          30,
          6,
          18,
          16,
          6,
          5,
          28,
          17,
          21,
          12,
          9,
          4,
          11,
          11,
          26,
          22,
          27,
          28,
          15,
          3,
          32,
          31,
          7,
          2,
          18,
          5,
          10,
          11,
          29,
          30,
          11,
          19,
          32,
          18,
          12,
          9,
          24,
          20,
          16,
          13,
          20,
          14,
          5,
          28
         ],
         "xaxis": "x3",
         "y": [
          0.16326530612244897,
          0.15901360544217688,
          0.15051020408163265,
          0.15391156462585034,
          0.1598639455782313,
          0.16326530612244897,
          0.16326530612244897,
          0.15986394557823128,
          0.16071428571428573,
          0.16326530612244897,
          0.16071428571428573,
          0.1641156462585034,
          0.1530612244897959,
          0.1556122448979592,
          0.15476190476190477,
          0.15476190476190477,
          0.16326530612244897,
          0.16156462585034012,
          0.15391156462585034,
          0.15476190476190477,
          0.14710884353741496,
          0.15986394557823128,
          0.15391156462585034,
          0.15051020408163265,
          0.15391156462585034,
          0.15986394557823128,
          0.16156462585034015,
          0.15986394557823128,
          0.1564625850340136,
          0.15816326530612246,
          0.15391156462585034,
          0.16326530612244897,
          0.1522108843537415,
          0.15731292517006804,
          0.1556122448979592,
          0.15391156462585034,
          0.1522108843537415,
          0.15986394557823128,
          0.15476190476190477,
          0.1641156462585034,
          0.1556122448979592,
          0.15731292517006804,
          0.15646258503401364,
          0.15816326530612246,
          0.16326530612244897,
          0.1641156462585034,
          0.15476190476190477,
          0.1522108843537415,
          0.15476190476190477,
          0.1607142857142857,
          0.1641156462585034,
          0.15816326530612246,
          0.16071428571428573,
          0.15476190476190477,
          0.1641156462585034,
          0.15986394557823128,
          0.15646258503401358,
          0.15051020408163265,
          0.15816326530612246,
          0.16156462585034012,
          0.15306122448979595,
          0.15901360544217688,
          0.15901360544217688,
          0.15476190476190477,
          0.15476190476190477,
          0.16156462585034012,
          0.15901360544217688,
          0.15646258503401358,
          0.1641156462585034,
          0.15391156462585034,
          0.16071428571428573,
          0.15816326530612246,
          0.1641156462585034,
          0.1641156462585034,
          0.1641156462585034,
          0.15476190476190477,
          0.15816326530612246,
          0.15306122448979592,
          0.15306122448979592,
          0.15731292517006804,
          0.1641156462585034,
          0.15476190476190477,
          0.1496598639455782,
          0.15731292517006804,
          0.15391156462585034,
          0.1641156462585034,
          0.15391156462585034,
          0.15476190476190477,
          0.1556122448979592,
          0.15306122448979592,
          0.1598639455782313,
          0.15391156462585034,
          0.15476190476190477,
          0.16156462585034012,
          0.15476190476190477,
          0.1641156462585034,
          0.14795918367346939,
          0.16071428571428573,
          0.15306122448979592,
          0.16071428571428573,
          0.15986394557823128,
          0.16326530612244897,
          0.15986394557823128,
          0.1641156462585034,
          0.15901360544217688,
          0.16326530612244897,
          0.16156462585034015,
          0.16326530612244897,
          0.15306122448979595,
          0.15476190476190477,
          0.1556122448979592,
          0.15731292517006804,
          0.15136054421768708,
          0.15731292517006804,
          0.15306122448979592,
          0.15391156462585034,
          0.15731292517006804,
          0.16071428571428573,
          0.1641156462585034,
          0.16071428571428573,
          0.15646258503401364,
          0.1564625850340136,
          0.1522108843537415,
          0.1641156462585034,
          0.15646258503401358,
          0.15901360544217688,
          0.15816326530612246,
          0.16241496598639457,
          0.1556122448979592,
          0.16326530612244897,
          0.1556122448979592,
          0.15731292517006804,
          0.16241496598639457,
          0.16241496598639457,
          0.16156462585034012,
          0.16326530612244897,
          0.15476190476190477,
          0.15306122448979595,
          0.16241496598639457,
          0.15051020408163265,
          0.15986394557823128,
          0.15391156462585034,
          0.16156462585034012,
          0.15306122448979595,
          0.16156462585034015,
          0.15646258503401364,
          0.15391156462585034,
          0.1641156462585034,
          0.16071428571428573,
          0.1641156462585034,
          0.15136054421768708,
          0.15391156462585034,
          0.15901360544217688,
          0.16326530612244897,
          0.15986394557823128,
          0.16156462585034012,
          0.15646258503401358,
          0.15391156462585034,
          0.1556122448979592,
          0.1641156462585034,
          0.15476190476190477,
          0.15901360544217688,
          0.1641156462585034,
          0.15391156462585034,
          0.15986394557823128,
          0.15731292517006804,
          0.15901360544217688,
          0.15986394557823128,
          0.1488095238095238,
          0.15476190476190477,
          0.15986394557823128,
          0.1607142857142857,
          0.1641156462585034,
          0.1641156462585034,
          0.15901360544217688,
          0.16071428571428573,
          0.1641156462585034,
          0.15476190476190477,
          0.16156462585034012,
          0.15391156462585034,
          0.15391156462585034,
          0.1522108843537415,
          0.15476190476190477,
          0.16326530612244897,
          0.16326530612244897,
          0.1564625850340136,
          0.15986394557823128,
          0.15476190476190477,
          0.15391156462585034,
          0.1522108843537415,
          0.15901360544217688,
          0.14795918367346939,
          0.15646258503401358,
          0.16071428571428573,
          0.15306122448979592,
          0.1641156462585034,
          0.1641156462585034,
          0.1641156462585034,
          0.1556122448979592,
          0.16071428571428573
         ],
         "yaxis": "y3"
        },
        {
         "marker": {
          "color": [
           0,
           1,
           2,
           3,
           4,
           5,
           6,
           7,
           8,
           9,
           10,
           11,
           12,
           13,
           14,
           15,
           16,
           17,
           18,
           19,
           20,
           21,
           22,
           23,
           24,
           25,
           26,
           27,
           28,
           29,
           30,
           31,
           32,
           33,
           34,
           35,
           36,
           37,
           38,
           39,
           40,
           41,
           42,
           43,
           44,
           45,
           46,
           47,
           48,
           49,
           50,
           51,
           52,
           53,
           54,
           55,
           56,
           57,
           58,
           59,
           60,
           61,
           62,
           63,
           64,
           65,
           66,
           67,
           68,
           69,
           70,
           71,
           72,
           73,
           74,
           75,
           76,
           77,
           78,
           79,
           80,
           81,
           82,
           83,
           84,
           85,
           86,
           87,
           88,
           89,
           90,
           91,
           92,
           93,
           94,
           95,
           96,
           97,
           98,
           99,
           100,
           101,
           102,
           103,
           104,
           105,
           106,
           107,
           108,
           109,
           110,
           111,
           112,
           113,
           114,
           115,
           116,
           117,
           118,
           119,
           120,
           121,
           122,
           123,
           124,
           125,
           126,
           127,
           128,
           129,
           130,
           131,
           132,
           133,
           134,
           135,
           136,
           137,
           138,
           139,
           140,
           141,
           142,
           143,
           144,
           145,
           146,
           147,
           148,
           149,
           150,
           151,
           152,
           153,
           154,
           155,
           156,
           157,
           158,
           159,
           160,
           161,
           162,
           163,
           164,
           165,
           166,
           167,
           168,
           169,
           170,
           171,
           172,
           173,
           174,
           175,
           176,
           177,
           178,
           179,
           180,
           181,
           182,
           183,
           184,
           185,
           186,
           187,
           188,
           189,
           190,
           191,
           192,
           193,
           194,
           195,
           196,
           197,
           198,
           199
          ],
          "colorbar": {
           "title": {
            "text": "Trial"
           },
           "x": 1,
           "xpad": 40
          },
          "colorscale": [
           [
            0,
            "rgb(247,251,255)"
           ],
           [
            0.125,
            "rgb(222,235,247)"
           ],
           [
            0.25,
            "rgb(198,219,239)"
           ],
           [
            0.375,
            "rgb(158,202,225)"
           ],
           [
            0.5,
            "rgb(107,174,214)"
           ],
           [
            0.625,
            "rgb(66,146,198)"
           ],
           [
            0.75,
            "rgb(33,113,181)"
           ],
           [
            0.875,
            "rgb(8,81,156)"
           ],
           [
            1,
            "rgb(8,48,107)"
           ]
          ],
          "line": {
           "color": "Grey",
           "width": 0.5
          },
          "showscale": false
         },
         "mode": "markers",
         "name": "Feasible Trial",
         "showlegend": false,
         "type": "scatter",
         "x": [
          306,
          391,
          340,
          105,
          351,
          349,
          311,
          380,
          285,
          364,
          388,
          282,
          156,
          295,
          301,
          275,
          201,
          318,
          190,
          356,
          244,
          181,
          354,
          262,
          376,
          377,
          122,
          156,
          330,
          262,
          323,
          197,
          165,
          242,
          104,
          303,
          167,
          313,
          172,
          354,
          327,
          378,
          177,
          281,
          155,
          230,
          213,
          167,
          141,
          104,
          355,
          192,
          363,
          263,
          399,
          153,
          399,
          126,
          122,
          106,
          157,
          324,
          281,
          236,
          102,
          231,
          390,
          153,
          322,
          281,
          259,
          183,
          216,
          341,
          367,
          367,
          186,
          277,
          296,
          392,
          199,
          170,
          213,
          357,
          204,
          335,
          248,
          216,
          109,
          254,
          178,
          359,
          219,
          227,
          387,
          360,
          241,
          386,
          269,
          260,
          186,
          186,
          355,
          361,
          298,
          141,
          179,
          231,
          342,
          152,
          324,
          230,
          129,
          237,
          143,
          255,
          215,
          183,
          259,
          355,
          143,
          113,
          210,
          194,
          121,
          106,
          144,
          184,
          163,
          325,
          232,
          245,
          152,
          157,
          261,
          395,
          296,
          386,
          228,
          147,
          323,
          375,
          345,
          206,
          188,
          316,
          300,
          228,
          315,
          174,
          281,
          349,
          262,
          141,
          226,
          211,
          226,
          396,
          376,
          120,
          220,
          377,
          152,
          306,
          203,
          234,
          265,
          366,
          234,
          142,
          325,
          129,
          116,
          374,
          352,
          186,
          287,
          155,
          270,
          374,
          203,
          128,
          166,
          211,
          394,
          278,
          255,
          163,
          308,
          118,
          224,
          363,
          213,
          317,
          259,
          382,
          391,
          180,
          115,
          270
         ],
         "xaxis": "x4",
         "y": [
          0.16326530612244897,
          0.15901360544217688,
          0.15051020408163265,
          0.15391156462585034,
          0.1598639455782313,
          0.16326530612244897,
          0.16326530612244897,
          0.15986394557823128,
          0.16071428571428573,
          0.16326530612244897,
          0.16071428571428573,
          0.1641156462585034,
          0.1530612244897959,
          0.1556122448979592,
          0.15476190476190477,
          0.15476190476190477,
          0.16326530612244897,
          0.16156462585034012,
          0.15391156462585034,
          0.15476190476190477,
          0.14710884353741496,
          0.15986394557823128,
          0.15391156462585034,
          0.15051020408163265,
          0.15391156462585034,
          0.15986394557823128,
          0.16156462585034015,
          0.15986394557823128,
          0.1564625850340136,
          0.15816326530612246,
          0.15391156462585034,
          0.16326530612244897,
          0.1522108843537415,
          0.15731292517006804,
          0.1556122448979592,
          0.15391156462585034,
          0.1522108843537415,
          0.15986394557823128,
          0.15476190476190477,
          0.1641156462585034,
          0.1556122448979592,
          0.15731292517006804,
          0.15646258503401364,
          0.15816326530612246,
          0.16326530612244897,
          0.1641156462585034,
          0.15476190476190477,
          0.1522108843537415,
          0.15476190476190477,
          0.1607142857142857,
          0.1641156462585034,
          0.15816326530612246,
          0.16071428571428573,
          0.15476190476190477,
          0.1641156462585034,
          0.15986394557823128,
          0.15646258503401358,
          0.15051020408163265,
          0.15816326530612246,
          0.16156462585034012,
          0.15306122448979595,
          0.15901360544217688,
          0.15901360544217688,
          0.15476190476190477,
          0.15476190476190477,
          0.16156462585034012,
          0.15901360544217688,
          0.15646258503401358,
          0.1641156462585034,
          0.15391156462585034,
          0.16071428571428573,
          0.15816326530612246,
          0.1641156462585034,
          0.1641156462585034,
          0.1641156462585034,
          0.15476190476190477,
          0.15816326530612246,
          0.15306122448979592,
          0.15306122448979592,
          0.15731292517006804,
          0.1641156462585034,
          0.15476190476190477,
          0.1496598639455782,
          0.15731292517006804,
          0.15391156462585034,
          0.1641156462585034,
          0.15391156462585034,
          0.15476190476190477,
          0.1556122448979592,
          0.15306122448979592,
          0.1598639455782313,
          0.15391156462585034,
          0.15476190476190477,
          0.16156462585034012,
          0.15476190476190477,
          0.1641156462585034,
          0.14795918367346939,
          0.16071428571428573,
          0.15306122448979592,
          0.16071428571428573,
          0.15986394557823128,
          0.16326530612244897,
          0.15986394557823128,
          0.1641156462585034,
          0.15901360544217688,
          0.16326530612244897,
          0.16156462585034015,
          0.16326530612244897,
          0.15306122448979595,
          0.15476190476190477,
          0.1556122448979592,
          0.15731292517006804,
          0.15136054421768708,
          0.15731292517006804,
          0.15306122448979592,
          0.15391156462585034,
          0.15731292517006804,
          0.16071428571428573,
          0.1641156462585034,
          0.16071428571428573,
          0.15646258503401364,
          0.1564625850340136,
          0.1522108843537415,
          0.1641156462585034,
          0.15646258503401358,
          0.15901360544217688,
          0.15816326530612246,
          0.16241496598639457,
          0.1556122448979592,
          0.16326530612244897,
          0.1556122448979592,
          0.15731292517006804,
          0.16241496598639457,
          0.16241496598639457,
          0.16156462585034012,
          0.16326530612244897,
          0.15476190476190477,
          0.15306122448979595,
          0.16241496598639457,
          0.15051020408163265,
          0.15986394557823128,
          0.15391156462585034,
          0.16156462585034012,
          0.15306122448979595,
          0.16156462585034015,
          0.15646258503401364,
          0.15391156462585034,
          0.1641156462585034,
          0.16071428571428573,
          0.1641156462585034,
          0.15136054421768708,
          0.15391156462585034,
          0.15901360544217688,
          0.16326530612244897,
          0.15986394557823128,
          0.16156462585034012,
          0.15646258503401358,
          0.15391156462585034,
          0.1556122448979592,
          0.1641156462585034,
          0.15476190476190477,
          0.15901360544217688,
          0.1641156462585034,
          0.15391156462585034,
          0.15986394557823128,
          0.15731292517006804,
          0.15901360544217688,
          0.15986394557823128,
          0.1488095238095238,
          0.15476190476190477,
          0.15986394557823128,
          0.1607142857142857,
          0.1641156462585034,
          0.1641156462585034,
          0.15901360544217688,
          0.16071428571428573,
          0.1641156462585034,
          0.15476190476190477,
          0.16156462585034012,
          0.15391156462585034,
          0.15391156462585034,
          0.1522108843537415,
          0.15476190476190477,
          0.16326530612244897,
          0.16326530612244897,
          0.1564625850340136,
          0.15986394557823128,
          0.15476190476190477,
          0.15391156462585034,
          0.1522108843537415,
          0.15901360544217688,
          0.14795918367346939,
          0.15646258503401358,
          0.16071428571428573,
          0.15306122448979592,
          0.1641156462585034,
          0.1641156462585034,
          0.1641156462585034,
          0.1556122448979592,
          0.16071428571428573
         ],
         "yaxis": "y4"
        }
       ],
       "layout": {
        "template": {
         "data": {
          "bar": [
           {
            "error_x": {
             "color": "#2a3f5f"
            },
            "error_y": {
             "color": "#2a3f5f"
            },
            "marker": {
             "line": {
              "color": "#E5ECF6",
              "width": 0.5
             },
             "pattern": {
              "fillmode": "overlay",
              "size": 10,
              "solidity": 0.2
             }
            },
            "type": "bar"
           }
          ],
          "barpolar": [
           {
            "marker": {
             "line": {
              "color": "#E5ECF6",
              "width": 0.5
             },
             "pattern": {
              "fillmode": "overlay",
              "size": 10,
              "solidity": 0.2
             }
            },
            "type": "barpolar"
           }
          ],
          "carpet": [
           {
            "aaxis": {
             "endlinecolor": "#2a3f5f",
             "gridcolor": "white",
             "linecolor": "white",
             "minorgridcolor": "white",
             "startlinecolor": "#2a3f5f"
            },
            "baxis": {
             "endlinecolor": "#2a3f5f",
             "gridcolor": "white",
             "linecolor": "white",
             "minorgridcolor": "white",
             "startlinecolor": "#2a3f5f"
            },
            "type": "carpet"
           }
          ],
          "choropleth": [
           {
            "colorbar": {
             "outlinewidth": 0,
             "ticks": ""
            },
            "type": "choropleth"
           }
          ],
          "contour": [
           {
            "colorbar": {
             "outlinewidth": 0,
             "ticks": ""
            },
            "colorscale": [
             [
              0,
              "#0d0887"
             ],
             [
              0.1111111111111111,
              "#46039f"
             ],
             [
              0.2222222222222222,
              "#7201a8"
             ],
             [
              0.3333333333333333,
              "#9c179e"
             ],
             [
              0.4444444444444444,
              "#bd3786"
             ],
             [
              0.5555555555555556,
              "#d8576b"
             ],
             [
              0.6666666666666666,
              "#ed7953"
             ],
             [
              0.7777777777777778,
              "#fb9f3a"
             ],
             [
              0.8888888888888888,
              "#fdca26"
             ],
             [
              1,
              "#f0f921"
             ]
            ],
            "type": "contour"
           }
          ],
          "contourcarpet": [
           {
            "colorbar": {
             "outlinewidth": 0,
             "ticks": ""
            },
            "type": "contourcarpet"
           }
          ],
          "heatmap": [
           {
            "colorbar": {
             "outlinewidth": 0,
             "ticks": ""
            },
            "colorscale": [
             [
              0,
              "#0d0887"
             ],
             [
              0.1111111111111111,
              "#46039f"
             ],
             [
              0.2222222222222222,
              "#7201a8"
             ],
             [
              0.3333333333333333,
              "#9c179e"
             ],
             [
              0.4444444444444444,
              "#bd3786"
             ],
             [
              0.5555555555555556,
              "#d8576b"
             ],
             [
              0.6666666666666666,
              "#ed7953"
             ],
             [
              0.7777777777777778,
              "#fb9f3a"
             ],
             [
              0.8888888888888888,
              "#fdca26"
             ],
             [
              1,
              "#f0f921"
             ]
            ],
            "type": "heatmap"
           }
          ],
          "heatmapgl": [
           {
            "colorbar": {
             "outlinewidth": 0,
             "ticks": ""
            },
            "colorscale": [
             [
              0,
              "#0d0887"
             ],
             [
              0.1111111111111111,
              "#46039f"
             ],
             [
              0.2222222222222222,
              "#7201a8"
             ],
             [
              0.3333333333333333,
              "#9c179e"
             ],
             [
              0.4444444444444444,
              "#bd3786"
             ],
             [
              0.5555555555555556,
              "#d8576b"
             ],
             [
              0.6666666666666666,
              "#ed7953"
             ],
             [
              0.7777777777777778,
              "#fb9f3a"
             ],
             [
              0.8888888888888888,
              "#fdca26"
             ],
             [
              1,
              "#f0f921"
             ]
            ],
            "type": "heatmapgl"
           }
          ],
          "histogram": [
           {
            "marker": {
             "pattern": {
              "fillmode": "overlay",
              "size": 10,
              "solidity": 0.2
             }
            },
            "type": "histogram"
           }
          ],
          "histogram2d": [
           {
            "colorbar": {
             "outlinewidth": 0,
             "ticks": ""
            },
            "colorscale": [
             [
              0,
              "#0d0887"
             ],
             [
              0.1111111111111111,
              "#46039f"
             ],
             [
              0.2222222222222222,
              "#7201a8"
             ],
             [
              0.3333333333333333,
              "#9c179e"
             ],
             [
              0.4444444444444444,
              "#bd3786"
             ],
             [
              0.5555555555555556,
              "#d8576b"
             ],
             [
              0.6666666666666666,
              "#ed7953"
             ],
             [
              0.7777777777777778,
              "#fb9f3a"
             ],
             [
              0.8888888888888888,
              "#fdca26"
             ],
             [
              1,
              "#f0f921"
             ]
            ],
            "type": "histogram2d"
           }
          ],
          "histogram2dcontour": [
           {
            "colorbar": {
             "outlinewidth": 0,
             "ticks": ""
            },
            "colorscale": [
             [
              0,
              "#0d0887"
             ],
             [
              0.1111111111111111,
              "#46039f"
             ],
             [
              0.2222222222222222,
              "#7201a8"
             ],
             [
              0.3333333333333333,
              "#9c179e"
             ],
             [
              0.4444444444444444,
              "#bd3786"
             ],
             [
              0.5555555555555556,
              "#d8576b"
             ],
             [
              0.6666666666666666,
              "#ed7953"
             ],
             [
              0.7777777777777778,
              "#fb9f3a"
             ],
             [
              0.8888888888888888,
              "#fdca26"
             ],
             [
              1,
              "#f0f921"
             ]
            ],
            "type": "histogram2dcontour"
           }
          ],
          "mesh3d": [
           {
            "colorbar": {
             "outlinewidth": 0,
             "ticks": ""
            },
            "type": "mesh3d"
           }
          ],
          "parcoords": [
           {
            "line": {
             "colorbar": {
              "outlinewidth": 0,
              "ticks": ""
             }
            },
            "type": "parcoords"
           }
          ],
          "pie": [
           {
            "automargin": true,
            "type": "pie"
           }
          ],
          "scatter": [
           {
            "fillpattern": {
             "fillmode": "overlay",
             "size": 10,
             "solidity": 0.2
            },
            "type": "scatter"
           }
          ],
          "scatter3d": [
           {
            "line": {
             "colorbar": {
              "outlinewidth": 0,
              "ticks": ""
             }
            },
            "marker": {
             "colorbar": {
              "outlinewidth": 0,
              "ticks": ""
             }
            },
            "type": "scatter3d"
           }
          ],
          "scattercarpet": [
           {
            "marker": {
             "colorbar": {
              "outlinewidth": 0,
              "ticks": ""
             }
            },
            "type": "scattercarpet"
           }
          ],
          "scattergeo": [
           {
            "marker": {
             "colorbar": {
              "outlinewidth": 0,
              "ticks": ""
             }
            },
            "type": "scattergeo"
           }
          ],
          "scattergl": [
           {
            "marker": {
             "colorbar": {
              "outlinewidth": 0,
              "ticks": ""
             }
            },
            "type": "scattergl"
           }
          ],
          "scattermapbox": [
           {
            "marker": {
             "colorbar": {
              "outlinewidth": 0,
              "ticks": ""
             }
            },
            "type": "scattermapbox"
           }
          ],
          "scatterpolar": [
           {
            "marker": {
             "colorbar": {
              "outlinewidth": 0,
              "ticks": ""
             }
            },
            "type": "scatterpolar"
           }
          ],
          "scatterpolargl": [
           {
            "marker": {
             "colorbar": {
              "outlinewidth": 0,
              "ticks": ""
             }
            },
            "type": "scatterpolargl"
           }
          ],
          "scatterternary": [
           {
            "marker": {
             "colorbar": {
              "outlinewidth": 0,
              "ticks": ""
             }
            },
            "type": "scatterternary"
           }
          ],
          "surface": [
           {
            "colorbar": {
             "outlinewidth": 0,
             "ticks": ""
            },
            "colorscale": [
             [
              0,
              "#0d0887"
             ],
             [
              0.1111111111111111,
              "#46039f"
             ],
             [
              0.2222222222222222,
              "#7201a8"
             ],
             [
              0.3333333333333333,
              "#9c179e"
             ],
             [
              0.4444444444444444,
              "#bd3786"
             ],
             [
              0.5555555555555556,
              "#d8576b"
             ],
             [
              0.6666666666666666,
              "#ed7953"
             ],
             [
              0.7777777777777778,
              "#fb9f3a"
             ],
             [
              0.8888888888888888,
              "#fdca26"
             ],
             [
              1,
              "#f0f921"
             ]
            ],
            "type": "surface"
           }
          ],
          "table": [
           {
            "cells": {
             "fill": {
              "color": "#EBF0F8"
             },
             "line": {
              "color": "white"
             }
            },
            "header": {
             "fill": {
              "color": "#C8D4E3"
             },
             "line": {
              "color": "white"
             }
            },
            "type": "table"
           }
          ]
         },
         "layout": {
          "annotationdefaults": {
           "arrowcolor": "#2a3f5f",
           "arrowhead": 0,
           "arrowwidth": 1
          },
          "autotypenumbers": "strict",
          "coloraxis": {
           "colorbar": {
            "outlinewidth": 0,
            "ticks": ""
           }
          },
          "colorscale": {
           "diverging": [
            [
             0,
             "#8e0152"
            ],
            [
             0.1,
             "#c51b7d"
            ],
            [
             0.2,
             "#de77ae"
            ],
            [
             0.3,
             "#f1b6da"
            ],
            [
             0.4,
             "#fde0ef"
            ],
            [
             0.5,
             "#f7f7f7"
            ],
            [
             0.6,
             "#e6f5d0"
            ],
            [
             0.7,
             "#b8e186"
            ],
            [
             0.8,
             "#7fbc41"
            ],
            [
             0.9,
             "#4d9221"
            ],
            [
             1,
             "#276419"
            ]
           ],
           "sequential": [
            [
             0,
             "#0d0887"
            ],
            [
             0.1111111111111111,
             "#46039f"
            ],
            [
             0.2222222222222222,
             "#7201a8"
            ],
            [
             0.3333333333333333,
             "#9c179e"
            ],
            [
             0.4444444444444444,
             "#bd3786"
            ],
            [
             0.5555555555555556,
             "#d8576b"
            ],
            [
             0.6666666666666666,
             "#ed7953"
            ],
            [
             0.7777777777777778,
             "#fb9f3a"
            ],
            [
             0.8888888888888888,
             "#fdca26"
            ],
            [
             1,
             "#f0f921"
            ]
           ],
           "sequentialminus": [
            [
             0,
             "#0d0887"
            ],
            [
             0.1111111111111111,
             "#46039f"
            ],
            [
             0.2222222222222222,
             "#7201a8"
            ],
            [
             0.3333333333333333,
             "#9c179e"
            ],
            [
             0.4444444444444444,
             "#bd3786"
            ],
            [
             0.5555555555555556,
             "#d8576b"
            ],
            [
             0.6666666666666666,
             "#ed7953"
            ],
            [
             0.7777777777777778,
             "#fb9f3a"
            ],
            [
             0.8888888888888888,
             "#fdca26"
            ],
            [
             1,
             "#f0f921"
            ]
           ]
          },
          "colorway": [
           "#636efa",
           "#EF553B",
           "#00cc96",
           "#ab63fa",
           "#FFA15A",
           "#19d3f3",
           "#FF6692",
           "#B6E880",
           "#FF97FF",
           "#FECB52"
          ],
          "font": {
           "color": "#2a3f5f"
          },
          "geo": {
           "bgcolor": "white",
           "lakecolor": "white",
           "landcolor": "#E5ECF6",
           "showlakes": true,
           "showland": true,
           "subunitcolor": "white"
          },
          "hoverlabel": {
           "align": "left"
          },
          "hovermode": "closest",
          "mapbox": {
           "style": "light"
          },
          "paper_bgcolor": "white",
          "plot_bgcolor": "#E5ECF6",
          "polar": {
           "angularaxis": {
            "gridcolor": "white",
            "linecolor": "white",
            "ticks": ""
           },
           "bgcolor": "#E5ECF6",
           "radialaxis": {
            "gridcolor": "white",
            "linecolor": "white",
            "ticks": ""
           }
          },
          "scene": {
           "xaxis": {
            "backgroundcolor": "#E5ECF6",
            "gridcolor": "white",
            "gridwidth": 2,
            "linecolor": "white",
            "showbackground": true,
            "ticks": "",
            "zerolinecolor": "white"
           },
           "yaxis": {
            "backgroundcolor": "#E5ECF6",
            "gridcolor": "white",
            "gridwidth": 2,
            "linecolor": "white",
            "showbackground": true,
            "ticks": "",
            "zerolinecolor": "white"
           },
           "zaxis": {
            "backgroundcolor": "#E5ECF6",
            "gridcolor": "white",
            "gridwidth": 2,
            "linecolor": "white",
            "showbackground": true,
            "ticks": "",
            "zerolinecolor": "white"
           }
          },
          "shapedefaults": {
           "line": {
            "color": "#2a3f5f"
           }
          },
          "ternary": {
           "aaxis": {
            "gridcolor": "white",
            "linecolor": "white",
            "ticks": ""
           },
           "baxis": {
            "gridcolor": "white",
            "linecolor": "white",
            "ticks": ""
           },
           "bgcolor": "#E5ECF6",
           "caxis": {
            "gridcolor": "white",
            "linecolor": "white",
            "ticks": ""
           }
          },
          "title": {
           "x": 0.05
          },
          "xaxis": {
           "automargin": true,
           "gridcolor": "white",
           "linecolor": "white",
           "ticks": "",
           "title": {
            "standoff": 15
           },
           "zerolinecolor": "white",
           "zerolinewidth": 2
          },
          "yaxis": {
           "automargin": true,
           "gridcolor": "white",
           "linecolor": "white",
           "ticks": "",
           "title": {
            "standoff": 15
           },
           "zerolinecolor": "white",
           "zerolinewidth": 2
          }
         }
        },
        "title": {
         "text": "Slice Plot"
        },
        "width": 1200,
        "xaxis": {
         "anchor": "y",
         "domain": [
          0,
          0.2125
         ],
         "title": {
          "text": "max_depth"
         }
        },
        "xaxis2": {
         "anchor": "y2",
         "domain": [
          0.2625,
          0.475
         ],
         "title": {
          "text": "min_samples_leaf"
         }
        },
        "xaxis3": {
         "anchor": "y3",
         "domain": [
          0.525,
          0.7375
         ],
         "title": {
          "text": "min_samples_split"
         }
        },
        "xaxis4": {
         "anchor": "y4",
         "domain": [
          0.7875,
          1
         ],
         "title": {
          "text": "n_estimators"
         }
        },
        "yaxis": {
         "anchor": "x",
         "domain": [
          0,
          1
         ],
         "title": {
          "text": "Objective Value"
         }
        },
        "yaxis2": {
         "anchor": "x2",
         "domain": [
          0,
          1
         ],
         "matches": "y",
         "showticklabels": false
        },
        "yaxis3": {
         "anchor": "x3",
         "domain": [
          0,
          1
         ],
         "matches": "y",
         "showticklabels": false
        },
        "yaxis4": {
         "anchor": "x4",
         "domain": [
          0,
          1
         ],
         "matches": "y",
         "showticklabels": false
        }
       }
      }
     },
     "metadata": {},
     "output_type": "display_data"
    }
   ],
   "source": [
    "# Visualize the distribution of objective function values across different hyperparameter values.\n",
    "# - `plot_slice(study, params=[...])` displays how the objective function varies with each specified hyperparameter.\n",
    "# - `params` includes the hyperparameters of interest: \"n_estimators\", \"max_depth\", \"min_samples_split\", and \"min_samples_leaf\".\n",
    "\n",
    "optuna.visualization.plot_slice(study, params=[\"n_estimators\", \"max_depth\", \"min_samples_split\", \"min_samples_leaf\"])"
   ]
  },
  {
   "cell_type": "code",
   "execution_count": 61,
   "metadata": {},
   "outputs": [
    {
     "data": {
      "application/vnd.plotly.v1+json": {
       "config": {
        "plotlyServerURL": "https://plot.ly"
       },
       "data": [
        {
         "cliponaxis": false,
         "hovertemplate": [
          "max_depth (IntDistribution): 0.0015731496462401734<extra></extra>",
          "n_estimators (IntDistribution): 0.0016617036198788568<extra></extra>",
          "min_samples_split (IntDistribution): 0.005609603817971043<extra></extra>",
          "min_samples_leaf (IntDistribution): 0.9911555429159099<extra></extra>"
         ],
         "name": "Objective Value",
         "orientation": "h",
         "text": [
          "<0.01",
          "<0.01",
          "<0.01",
          "0.99"
         ],
         "textposition": "outside",
         "type": "bar",
         "x": [
          0.0015731496462401734,
          0.0016617036198788568,
          0.005609603817971043,
          0.9911555429159099
         ],
         "y": [
          "max_depth",
          "n_estimators",
          "min_samples_split",
          "min_samples_leaf"
         ]
        }
       ],
       "layout": {
        "template": {
         "data": {
          "bar": [
           {
            "error_x": {
             "color": "#2a3f5f"
            },
            "error_y": {
             "color": "#2a3f5f"
            },
            "marker": {
             "line": {
              "color": "#E5ECF6",
              "width": 0.5
             },
             "pattern": {
              "fillmode": "overlay",
              "size": 10,
              "solidity": 0.2
             }
            },
            "type": "bar"
           }
          ],
          "barpolar": [
           {
            "marker": {
             "line": {
              "color": "#E5ECF6",
              "width": 0.5
             },
             "pattern": {
              "fillmode": "overlay",
              "size": 10,
              "solidity": 0.2
             }
            },
            "type": "barpolar"
           }
          ],
          "carpet": [
           {
            "aaxis": {
             "endlinecolor": "#2a3f5f",
             "gridcolor": "white",
             "linecolor": "white",
             "minorgridcolor": "white",
             "startlinecolor": "#2a3f5f"
            },
            "baxis": {
             "endlinecolor": "#2a3f5f",
             "gridcolor": "white",
             "linecolor": "white",
             "minorgridcolor": "white",
             "startlinecolor": "#2a3f5f"
            },
            "type": "carpet"
           }
          ],
          "choropleth": [
           {
            "colorbar": {
             "outlinewidth": 0,
             "ticks": ""
            },
            "type": "choropleth"
           }
          ],
          "contour": [
           {
            "colorbar": {
             "outlinewidth": 0,
             "ticks": ""
            },
            "colorscale": [
             [
              0,
              "#0d0887"
             ],
             [
              0.1111111111111111,
              "#46039f"
             ],
             [
              0.2222222222222222,
              "#7201a8"
             ],
             [
              0.3333333333333333,
              "#9c179e"
             ],
             [
              0.4444444444444444,
              "#bd3786"
             ],
             [
              0.5555555555555556,
              "#d8576b"
             ],
             [
              0.6666666666666666,
              "#ed7953"
             ],
             [
              0.7777777777777778,
              "#fb9f3a"
             ],
             [
              0.8888888888888888,
              "#fdca26"
             ],
             [
              1,
              "#f0f921"
             ]
            ],
            "type": "contour"
           }
          ],
          "contourcarpet": [
           {
            "colorbar": {
             "outlinewidth": 0,
             "ticks": ""
            },
            "type": "contourcarpet"
           }
          ],
          "heatmap": [
           {
            "colorbar": {
             "outlinewidth": 0,
             "ticks": ""
            },
            "colorscale": [
             [
              0,
              "#0d0887"
             ],
             [
              0.1111111111111111,
              "#46039f"
             ],
             [
              0.2222222222222222,
              "#7201a8"
             ],
             [
              0.3333333333333333,
              "#9c179e"
             ],
             [
              0.4444444444444444,
              "#bd3786"
             ],
             [
              0.5555555555555556,
              "#d8576b"
             ],
             [
              0.6666666666666666,
              "#ed7953"
             ],
             [
              0.7777777777777778,
              "#fb9f3a"
             ],
             [
              0.8888888888888888,
              "#fdca26"
             ],
             [
              1,
              "#f0f921"
             ]
            ],
            "type": "heatmap"
           }
          ],
          "heatmapgl": [
           {
            "colorbar": {
             "outlinewidth": 0,
             "ticks": ""
            },
            "colorscale": [
             [
              0,
              "#0d0887"
             ],
             [
              0.1111111111111111,
              "#46039f"
             ],
             [
              0.2222222222222222,
              "#7201a8"
             ],
             [
              0.3333333333333333,
              "#9c179e"
             ],
             [
              0.4444444444444444,
              "#bd3786"
             ],
             [
              0.5555555555555556,
              "#d8576b"
             ],
             [
              0.6666666666666666,
              "#ed7953"
             ],
             [
              0.7777777777777778,
              "#fb9f3a"
             ],
             [
              0.8888888888888888,
              "#fdca26"
             ],
             [
              1,
              "#f0f921"
             ]
            ],
            "type": "heatmapgl"
           }
          ],
          "histogram": [
           {
            "marker": {
             "pattern": {
              "fillmode": "overlay",
              "size": 10,
              "solidity": 0.2
             }
            },
            "type": "histogram"
           }
          ],
          "histogram2d": [
           {
            "colorbar": {
             "outlinewidth": 0,
             "ticks": ""
            },
            "colorscale": [
             [
              0,
              "#0d0887"
             ],
             [
              0.1111111111111111,
              "#46039f"
             ],
             [
              0.2222222222222222,
              "#7201a8"
             ],
             [
              0.3333333333333333,
              "#9c179e"
             ],
             [
              0.4444444444444444,
              "#bd3786"
             ],
             [
              0.5555555555555556,
              "#d8576b"
             ],
             [
              0.6666666666666666,
              "#ed7953"
             ],
             [
              0.7777777777777778,
              "#fb9f3a"
             ],
             [
              0.8888888888888888,
              "#fdca26"
             ],
             [
              1,
              "#f0f921"
             ]
            ],
            "type": "histogram2d"
           }
          ],
          "histogram2dcontour": [
           {
            "colorbar": {
             "outlinewidth": 0,
             "ticks": ""
            },
            "colorscale": [
             [
              0,
              "#0d0887"
             ],
             [
              0.1111111111111111,
              "#46039f"
             ],
             [
              0.2222222222222222,
              "#7201a8"
             ],
             [
              0.3333333333333333,
              "#9c179e"
             ],
             [
              0.4444444444444444,
              "#bd3786"
             ],
             [
              0.5555555555555556,
              "#d8576b"
             ],
             [
              0.6666666666666666,
              "#ed7953"
             ],
             [
              0.7777777777777778,
              "#fb9f3a"
             ],
             [
              0.8888888888888888,
              "#fdca26"
             ],
             [
              1,
              "#f0f921"
             ]
            ],
            "type": "histogram2dcontour"
           }
          ],
          "mesh3d": [
           {
            "colorbar": {
             "outlinewidth": 0,
             "ticks": ""
            },
            "type": "mesh3d"
           }
          ],
          "parcoords": [
           {
            "line": {
             "colorbar": {
              "outlinewidth": 0,
              "ticks": ""
             }
            },
            "type": "parcoords"
           }
          ],
          "pie": [
           {
            "automargin": true,
            "type": "pie"
           }
          ],
          "scatter": [
           {
            "fillpattern": {
             "fillmode": "overlay",
             "size": 10,
             "solidity": 0.2
            },
            "type": "scatter"
           }
          ],
          "scatter3d": [
           {
            "line": {
             "colorbar": {
              "outlinewidth": 0,
              "ticks": ""
             }
            },
            "marker": {
             "colorbar": {
              "outlinewidth": 0,
              "ticks": ""
             }
            },
            "type": "scatter3d"
           }
          ],
          "scattercarpet": [
           {
            "marker": {
             "colorbar": {
              "outlinewidth": 0,
              "ticks": ""
             }
            },
            "type": "scattercarpet"
           }
          ],
          "scattergeo": [
           {
            "marker": {
             "colorbar": {
              "outlinewidth": 0,
              "ticks": ""
             }
            },
            "type": "scattergeo"
           }
          ],
          "scattergl": [
           {
            "marker": {
             "colorbar": {
              "outlinewidth": 0,
              "ticks": ""
             }
            },
            "type": "scattergl"
           }
          ],
          "scattermapbox": [
           {
            "marker": {
             "colorbar": {
              "outlinewidth": 0,
              "ticks": ""
             }
            },
            "type": "scattermapbox"
           }
          ],
          "scatterpolar": [
           {
            "marker": {
             "colorbar": {
              "outlinewidth": 0,
              "ticks": ""
             }
            },
            "type": "scatterpolar"
           }
          ],
          "scatterpolargl": [
           {
            "marker": {
             "colorbar": {
              "outlinewidth": 0,
              "ticks": ""
             }
            },
            "type": "scatterpolargl"
           }
          ],
          "scatterternary": [
           {
            "marker": {
             "colorbar": {
              "outlinewidth": 0,
              "ticks": ""
             }
            },
            "type": "scatterternary"
           }
          ],
          "surface": [
           {
            "colorbar": {
             "outlinewidth": 0,
             "ticks": ""
            },
            "colorscale": [
             [
              0,
              "#0d0887"
             ],
             [
              0.1111111111111111,
              "#46039f"
             ],
             [
              0.2222222222222222,
              "#7201a8"
             ],
             [
              0.3333333333333333,
              "#9c179e"
             ],
             [
              0.4444444444444444,
              "#bd3786"
             ],
             [
              0.5555555555555556,
              "#d8576b"
             ],
             [
              0.6666666666666666,
              "#ed7953"
             ],
             [
              0.7777777777777778,
              "#fb9f3a"
             ],
             [
              0.8888888888888888,
              "#fdca26"
             ],
             [
              1,
              "#f0f921"
             ]
            ],
            "type": "surface"
           }
          ],
          "table": [
           {
            "cells": {
             "fill": {
              "color": "#EBF0F8"
             },
             "line": {
              "color": "white"
             }
            },
            "header": {
             "fill": {
              "color": "#C8D4E3"
             },
             "line": {
              "color": "white"
             }
            },
            "type": "table"
           }
          ]
         },
         "layout": {
          "annotationdefaults": {
           "arrowcolor": "#2a3f5f",
           "arrowhead": 0,
           "arrowwidth": 1
          },
          "autotypenumbers": "strict",
          "coloraxis": {
           "colorbar": {
            "outlinewidth": 0,
            "ticks": ""
           }
          },
          "colorscale": {
           "diverging": [
            [
             0,
             "#8e0152"
            ],
            [
             0.1,
             "#c51b7d"
            ],
            [
             0.2,
             "#de77ae"
            ],
            [
             0.3,
             "#f1b6da"
            ],
            [
             0.4,
             "#fde0ef"
            ],
            [
             0.5,
             "#f7f7f7"
            ],
            [
             0.6,
             "#e6f5d0"
            ],
            [
             0.7,
             "#b8e186"
            ],
            [
             0.8,
             "#7fbc41"
            ],
            [
             0.9,
             "#4d9221"
            ],
            [
             1,
             "#276419"
            ]
           ],
           "sequential": [
            [
             0,
             "#0d0887"
            ],
            [
             0.1111111111111111,
             "#46039f"
            ],
            [
             0.2222222222222222,
             "#7201a8"
            ],
            [
             0.3333333333333333,
             "#9c179e"
            ],
            [
             0.4444444444444444,
             "#bd3786"
            ],
            [
             0.5555555555555556,
             "#d8576b"
            ],
            [
             0.6666666666666666,
             "#ed7953"
            ],
            [
             0.7777777777777778,
             "#fb9f3a"
            ],
            [
             0.8888888888888888,
             "#fdca26"
            ],
            [
             1,
             "#f0f921"
            ]
           ],
           "sequentialminus": [
            [
             0,
             "#0d0887"
            ],
            [
             0.1111111111111111,
             "#46039f"
            ],
            [
             0.2222222222222222,
             "#7201a8"
            ],
            [
             0.3333333333333333,
             "#9c179e"
            ],
            [
             0.4444444444444444,
             "#bd3786"
            ],
            [
             0.5555555555555556,
             "#d8576b"
            ],
            [
             0.6666666666666666,
             "#ed7953"
            ],
            [
             0.7777777777777778,
             "#fb9f3a"
            ],
            [
             0.8888888888888888,
             "#fdca26"
            ],
            [
             1,
             "#f0f921"
            ]
           ]
          },
          "colorway": [
           "#636efa",
           "#EF553B",
           "#00cc96",
           "#ab63fa",
           "#FFA15A",
           "#19d3f3",
           "#FF6692",
           "#B6E880",
           "#FF97FF",
           "#FECB52"
          ],
          "font": {
           "color": "#2a3f5f"
          },
          "geo": {
           "bgcolor": "white",
           "lakecolor": "white",
           "landcolor": "#E5ECF6",
           "showlakes": true,
           "showland": true,
           "subunitcolor": "white"
          },
          "hoverlabel": {
           "align": "left"
          },
          "hovermode": "closest",
          "mapbox": {
           "style": "light"
          },
          "paper_bgcolor": "white",
          "plot_bgcolor": "#E5ECF6",
          "polar": {
           "angularaxis": {
            "gridcolor": "white",
            "linecolor": "white",
            "ticks": ""
           },
           "bgcolor": "#E5ECF6",
           "radialaxis": {
            "gridcolor": "white",
            "linecolor": "white",
            "ticks": ""
           }
          },
          "scene": {
           "xaxis": {
            "backgroundcolor": "#E5ECF6",
            "gridcolor": "white",
            "gridwidth": 2,
            "linecolor": "white",
            "showbackground": true,
            "ticks": "",
            "zerolinecolor": "white"
           },
           "yaxis": {
            "backgroundcolor": "#E5ECF6",
            "gridcolor": "white",
            "gridwidth": 2,
            "linecolor": "white",
            "showbackground": true,
            "ticks": "",
            "zerolinecolor": "white"
           },
           "zaxis": {
            "backgroundcolor": "#E5ECF6",
            "gridcolor": "white",
            "gridwidth": 2,
            "linecolor": "white",
            "showbackground": true,
            "ticks": "",
            "zerolinecolor": "white"
           }
          },
          "shapedefaults": {
           "line": {
            "color": "#2a3f5f"
           }
          },
          "ternary": {
           "aaxis": {
            "gridcolor": "white",
            "linecolor": "white",
            "ticks": ""
           },
           "baxis": {
            "gridcolor": "white",
            "linecolor": "white",
            "ticks": ""
           },
           "bgcolor": "#E5ECF6",
           "caxis": {
            "gridcolor": "white",
            "linecolor": "white",
            "ticks": ""
           }
          },
          "title": {
           "x": 0.05
          },
          "xaxis": {
           "automargin": true,
           "gridcolor": "white",
           "linecolor": "white",
           "ticks": "",
           "title": {
            "standoff": 15
           },
           "zerolinecolor": "white",
           "zerolinewidth": 2
          },
          "yaxis": {
           "automargin": true,
           "gridcolor": "white",
           "linecolor": "white",
           "ticks": "",
           "title": {
            "standoff": 15
           },
           "zerolinecolor": "white",
           "zerolinewidth": 2
          }
         }
        },
        "title": {
         "text": "Hyperparameter Importances"
        },
        "xaxis": {
         "title": {
          "text": "Hyperparameter Importance"
         }
        },
        "yaxis": {
         "title": {
          "text": "Hyperparameter"
         }
        }
       }
      }
     },
     "metadata": {},
     "output_type": "display_data"
    }
   ],
   "source": [
    "# Visualize the importance of each hyperparameter in the optimization process.\n",
    "# - `plot_param_importances(study)` shows which hyperparameters had the most significant impact on the objective function.\n",
    "\n",
    "optuna.visualization.plot_param_importances(study)"
   ]
  },
  {
   "cell_type": "code",
   "execution_count": 62,
   "metadata": {},
   "outputs": [],
   "source": [
    "# Extract the best hyperparameter values from the optimization results.\n",
    "# - `best_n_estimators` retrieves the optimal number of trees in the forest.\n",
    "# - `best_max_depth` retrieves the optimal maximum depth of each tree.\n",
    "# - `best_min_samples_split` retrieves the optimal minimum number of samples required to split an internal node.\n",
    "# - `best_min_samples_leaf` retrieves the optimal minimum number of samples required to be at a leaf node.\n",
    "\n",
    "best_n_estimators = best_params[\"n_estimators\"]\n",
    "best_max_depth = best_params[\"max_depth\"]\n",
    "best_min_samples_split = best_params[\"min_samples_split\"]\n",
    "best_min_samples_leaf = best_params[\"min_samples_leaf\"]"
   ]
  },
  {
   "cell_type": "code",
   "execution_count": 63,
   "metadata": {},
   "outputs": [],
   "source": [
    "# Initialize the RandomForestClassifier with the best hyperparameters found during optimization.\n",
    "# - `n_estimators` is set to the optimal number of trees.\n",
    "# - `max_depth` is set to the optimal maximum depth of each tree.\n",
    "# - `min_samples_split` is set to the optimal minimum number of samples required to split an internal node.\n",
    "# - `min_samples_leaf` is set to the optimal minimum number of samples required to be at a leaf node.\n",
    "best_model: RandomForestClassifier = RandomForestClassifier(\n",
    "    n_estimators=best_n_estimators,\n",
    "    max_depth=best_max_depth,\n",
    "    min_samples_split=best_min_samples_split,\n",
    "    min_samples_leaf=best_min_samples_leaf\n",
    ")"
   ]
  },
  {
   "cell_type": "code",
   "execution_count": 64,
   "metadata": {},
   "outputs": [
    {
     "data": {
      "text/html": [
       "<style>#sk-container-id-4 {\n",
       "  /* Definition of color scheme common for light and dark mode */\n",
       "  --sklearn-color-text: black;\n",
       "  --sklearn-color-line: gray;\n",
       "  /* Definition of color scheme for unfitted estimators */\n",
       "  --sklearn-color-unfitted-level-0: #fff5e6;\n",
       "  --sklearn-color-unfitted-level-1: #f6e4d2;\n",
       "  --sklearn-color-unfitted-level-2: #ffe0b3;\n",
       "  --sklearn-color-unfitted-level-3: chocolate;\n",
       "  /* Definition of color scheme for fitted estimators */\n",
       "  --sklearn-color-fitted-level-0: #f0f8ff;\n",
       "  --sklearn-color-fitted-level-1: #d4ebff;\n",
       "  --sklearn-color-fitted-level-2: #b3dbfd;\n",
       "  --sklearn-color-fitted-level-3: cornflowerblue;\n",
       "\n",
       "  /* Specific color for light theme */\n",
       "  --sklearn-color-text-on-default-background: var(--sg-text-color, var(--theme-code-foreground, var(--jp-content-font-color1, black)));\n",
       "  --sklearn-color-background: var(--sg-background-color, var(--theme-background, var(--jp-layout-color0, white)));\n",
       "  --sklearn-color-border-box: var(--sg-text-color, var(--theme-code-foreground, var(--jp-content-font-color1, black)));\n",
       "  --sklearn-color-icon: #696969;\n",
       "\n",
       "  @media (prefers-color-scheme: dark) {\n",
       "    /* Redefinition of color scheme for dark theme */\n",
       "    --sklearn-color-text-on-default-background: var(--sg-text-color, var(--theme-code-foreground, var(--jp-content-font-color1, white)));\n",
       "    --sklearn-color-background: var(--sg-background-color, var(--theme-background, var(--jp-layout-color0, #111)));\n",
       "    --sklearn-color-border-box: var(--sg-text-color, var(--theme-code-foreground, var(--jp-content-font-color1, white)));\n",
       "    --sklearn-color-icon: #878787;\n",
       "  }\n",
       "}\n",
       "\n",
       "#sk-container-id-4 {\n",
       "  color: var(--sklearn-color-text);\n",
       "}\n",
       "\n",
       "#sk-container-id-4 pre {\n",
       "  padding: 0;\n",
       "}\n",
       "\n",
       "#sk-container-id-4 input.sk-hidden--visually {\n",
       "  border: 0;\n",
       "  clip: rect(1px 1px 1px 1px);\n",
       "  clip: rect(1px, 1px, 1px, 1px);\n",
       "  height: 1px;\n",
       "  margin: -1px;\n",
       "  overflow: hidden;\n",
       "  padding: 0;\n",
       "  position: absolute;\n",
       "  width: 1px;\n",
       "}\n",
       "\n",
       "#sk-container-id-4 div.sk-dashed-wrapped {\n",
       "  border: 1px dashed var(--sklearn-color-line);\n",
       "  margin: 0 0.4em 0.5em 0.4em;\n",
       "  box-sizing: border-box;\n",
       "  padding-bottom: 0.4em;\n",
       "  background-color: var(--sklearn-color-background);\n",
       "}\n",
       "\n",
       "#sk-container-id-4 div.sk-container {\n",
       "  /* jupyter's `normalize.less` sets `[hidden] { display: none; }`\n",
       "     but bootstrap.min.css set `[hidden] { display: none !important; }`\n",
       "     so we also need the `!important` here to be able to override the\n",
       "     default hidden behavior on the sphinx rendered scikit-learn.org.\n",
       "     See: https://github.com/scikit-learn/scikit-learn/issues/21755 */\n",
       "  display: inline-block !important;\n",
       "  position: relative;\n",
       "}\n",
       "\n",
       "#sk-container-id-4 div.sk-text-repr-fallback {\n",
       "  display: none;\n",
       "}\n",
       "\n",
       "div.sk-parallel-item,\n",
       "div.sk-serial,\n",
       "div.sk-item {\n",
       "  /* draw centered vertical line to link estimators */\n",
       "  background-image: linear-gradient(var(--sklearn-color-text-on-default-background), var(--sklearn-color-text-on-default-background));\n",
       "  background-size: 2px 100%;\n",
       "  background-repeat: no-repeat;\n",
       "  background-position: center center;\n",
       "}\n",
       "\n",
       "/* Parallel-specific style estimator block */\n",
       "\n",
       "#sk-container-id-4 div.sk-parallel-item::after {\n",
       "  content: \"\";\n",
       "  width: 100%;\n",
       "  border-bottom: 2px solid var(--sklearn-color-text-on-default-background);\n",
       "  flex-grow: 1;\n",
       "}\n",
       "\n",
       "#sk-container-id-4 div.sk-parallel {\n",
       "  display: flex;\n",
       "  align-items: stretch;\n",
       "  justify-content: center;\n",
       "  background-color: var(--sklearn-color-background);\n",
       "  position: relative;\n",
       "}\n",
       "\n",
       "#sk-container-id-4 div.sk-parallel-item {\n",
       "  display: flex;\n",
       "  flex-direction: column;\n",
       "}\n",
       "\n",
       "#sk-container-id-4 div.sk-parallel-item:first-child::after {\n",
       "  align-self: flex-end;\n",
       "  width: 50%;\n",
       "}\n",
       "\n",
       "#sk-container-id-4 div.sk-parallel-item:last-child::after {\n",
       "  align-self: flex-start;\n",
       "  width: 50%;\n",
       "}\n",
       "\n",
       "#sk-container-id-4 div.sk-parallel-item:only-child::after {\n",
       "  width: 0;\n",
       "}\n",
       "\n",
       "/* Serial-specific style estimator block */\n",
       "\n",
       "#sk-container-id-4 div.sk-serial {\n",
       "  display: flex;\n",
       "  flex-direction: column;\n",
       "  align-items: center;\n",
       "  background-color: var(--sklearn-color-background);\n",
       "  padding-right: 1em;\n",
       "  padding-left: 1em;\n",
       "}\n",
       "\n",
       "\n",
       "/* Toggleable style: style used for estimator/Pipeline/ColumnTransformer box that is\n",
       "clickable and can be expanded/collapsed.\n",
       "- Pipeline and ColumnTransformer use this feature and define the default style\n",
       "- Estimators will overwrite some part of the style using the `sk-estimator` class\n",
       "*/\n",
       "\n",
       "/* Pipeline and ColumnTransformer style (default) */\n",
       "\n",
       "#sk-container-id-4 div.sk-toggleable {\n",
       "  /* Default theme specific background. It is overwritten whether we have a\n",
       "  specific estimator or a Pipeline/ColumnTransformer */\n",
       "  background-color: var(--sklearn-color-background);\n",
       "}\n",
       "\n",
       "/* Toggleable label */\n",
       "#sk-container-id-4 label.sk-toggleable__label {\n",
       "  cursor: pointer;\n",
       "  display: block;\n",
       "  width: 100%;\n",
       "  margin-bottom: 0;\n",
       "  padding: 0.5em;\n",
       "  box-sizing: border-box;\n",
       "  text-align: center;\n",
       "}\n",
       "\n",
       "#sk-container-id-4 label.sk-toggleable__label-arrow:before {\n",
       "  /* Arrow on the left of the label */\n",
       "  content: \"▸\";\n",
       "  float: left;\n",
       "  margin-right: 0.25em;\n",
       "  color: var(--sklearn-color-icon);\n",
       "}\n",
       "\n",
       "#sk-container-id-4 label.sk-toggleable__label-arrow:hover:before {\n",
       "  color: var(--sklearn-color-text);\n",
       "}\n",
       "\n",
       "/* Toggleable content - dropdown */\n",
       "\n",
       "#sk-container-id-4 div.sk-toggleable__content {\n",
       "  max-height: 0;\n",
       "  max-width: 0;\n",
       "  overflow: hidden;\n",
       "  text-align: left;\n",
       "  /* unfitted */\n",
       "  background-color: var(--sklearn-color-unfitted-level-0);\n",
       "}\n",
       "\n",
       "#sk-container-id-4 div.sk-toggleable__content.fitted {\n",
       "  /* fitted */\n",
       "  background-color: var(--sklearn-color-fitted-level-0);\n",
       "}\n",
       "\n",
       "#sk-container-id-4 div.sk-toggleable__content pre {\n",
       "  margin: 0.2em;\n",
       "  border-radius: 0.25em;\n",
       "  color: var(--sklearn-color-text);\n",
       "  /* unfitted */\n",
       "  background-color: var(--sklearn-color-unfitted-level-0);\n",
       "}\n",
       "\n",
       "#sk-container-id-4 div.sk-toggleable__content.fitted pre {\n",
       "  /* unfitted */\n",
       "  background-color: var(--sklearn-color-fitted-level-0);\n",
       "}\n",
       "\n",
       "#sk-container-id-4 input.sk-toggleable__control:checked~div.sk-toggleable__content {\n",
       "  /* Expand drop-down */\n",
       "  max-height: 200px;\n",
       "  max-width: 100%;\n",
       "  overflow: auto;\n",
       "}\n",
       "\n",
       "#sk-container-id-4 input.sk-toggleable__control:checked~label.sk-toggleable__label-arrow:before {\n",
       "  content: \"▾\";\n",
       "}\n",
       "\n",
       "/* Pipeline/ColumnTransformer-specific style */\n",
       "\n",
       "#sk-container-id-4 div.sk-label input.sk-toggleable__control:checked~label.sk-toggleable__label {\n",
       "  color: var(--sklearn-color-text);\n",
       "  background-color: var(--sklearn-color-unfitted-level-2);\n",
       "}\n",
       "\n",
       "#sk-container-id-4 div.sk-label.fitted input.sk-toggleable__control:checked~label.sk-toggleable__label {\n",
       "  background-color: var(--sklearn-color-fitted-level-2);\n",
       "}\n",
       "\n",
       "/* Estimator-specific style */\n",
       "\n",
       "/* Colorize estimator box */\n",
       "#sk-container-id-4 div.sk-estimator input.sk-toggleable__control:checked~label.sk-toggleable__label {\n",
       "  /* unfitted */\n",
       "  background-color: var(--sklearn-color-unfitted-level-2);\n",
       "}\n",
       "\n",
       "#sk-container-id-4 div.sk-estimator.fitted input.sk-toggleable__control:checked~label.sk-toggleable__label {\n",
       "  /* fitted */\n",
       "  background-color: var(--sklearn-color-fitted-level-2);\n",
       "}\n",
       "\n",
       "#sk-container-id-4 div.sk-label label.sk-toggleable__label,\n",
       "#sk-container-id-4 div.sk-label label {\n",
       "  /* The background is the default theme color */\n",
       "  color: var(--sklearn-color-text-on-default-background);\n",
       "}\n",
       "\n",
       "/* On hover, darken the color of the background */\n",
       "#sk-container-id-4 div.sk-label:hover label.sk-toggleable__label {\n",
       "  color: var(--sklearn-color-text);\n",
       "  background-color: var(--sklearn-color-unfitted-level-2);\n",
       "}\n",
       "\n",
       "/* Label box, darken color on hover, fitted */\n",
       "#sk-container-id-4 div.sk-label.fitted:hover label.sk-toggleable__label.fitted {\n",
       "  color: var(--sklearn-color-text);\n",
       "  background-color: var(--sklearn-color-fitted-level-2);\n",
       "}\n",
       "\n",
       "/* Estimator label */\n",
       "\n",
       "#sk-container-id-4 div.sk-label label {\n",
       "  font-family: monospace;\n",
       "  font-weight: bold;\n",
       "  display: inline-block;\n",
       "  line-height: 1.2em;\n",
       "}\n",
       "\n",
       "#sk-container-id-4 div.sk-label-container {\n",
       "  text-align: center;\n",
       "}\n",
       "\n",
       "/* Estimator-specific */\n",
       "#sk-container-id-4 div.sk-estimator {\n",
       "  font-family: monospace;\n",
       "  border: 1px dotted var(--sklearn-color-border-box);\n",
       "  border-radius: 0.25em;\n",
       "  box-sizing: border-box;\n",
       "  margin-bottom: 0.5em;\n",
       "  /* unfitted */\n",
       "  background-color: var(--sklearn-color-unfitted-level-0);\n",
       "}\n",
       "\n",
       "#sk-container-id-4 div.sk-estimator.fitted {\n",
       "  /* fitted */\n",
       "  background-color: var(--sklearn-color-fitted-level-0);\n",
       "}\n",
       "\n",
       "/* on hover */\n",
       "#sk-container-id-4 div.sk-estimator:hover {\n",
       "  /* unfitted */\n",
       "  background-color: var(--sklearn-color-unfitted-level-2);\n",
       "}\n",
       "\n",
       "#sk-container-id-4 div.sk-estimator.fitted:hover {\n",
       "  /* fitted */\n",
       "  background-color: var(--sklearn-color-fitted-level-2);\n",
       "}\n",
       "\n",
       "/* Specification for estimator info (e.g. \"i\" and \"?\") */\n",
       "\n",
       "/* Common style for \"i\" and \"?\" */\n",
       "\n",
       ".sk-estimator-doc-link,\n",
       "a:link.sk-estimator-doc-link,\n",
       "a:visited.sk-estimator-doc-link {\n",
       "  float: right;\n",
       "  font-size: smaller;\n",
       "  line-height: 1em;\n",
       "  font-family: monospace;\n",
       "  background-color: var(--sklearn-color-background);\n",
       "  border-radius: 1em;\n",
       "  height: 1em;\n",
       "  width: 1em;\n",
       "  text-decoration: none !important;\n",
       "  margin-left: 1ex;\n",
       "  /* unfitted */\n",
       "  border: var(--sklearn-color-unfitted-level-1) 1pt solid;\n",
       "  color: var(--sklearn-color-unfitted-level-1);\n",
       "}\n",
       "\n",
       ".sk-estimator-doc-link.fitted,\n",
       "a:link.sk-estimator-doc-link.fitted,\n",
       "a:visited.sk-estimator-doc-link.fitted {\n",
       "  /* fitted */\n",
       "  border: var(--sklearn-color-fitted-level-1) 1pt solid;\n",
       "  color: var(--sklearn-color-fitted-level-1);\n",
       "}\n",
       "\n",
       "/* On hover */\n",
       "div.sk-estimator:hover .sk-estimator-doc-link:hover,\n",
       ".sk-estimator-doc-link:hover,\n",
       "div.sk-label-container:hover .sk-estimator-doc-link:hover,\n",
       ".sk-estimator-doc-link:hover {\n",
       "  /* unfitted */\n",
       "  background-color: var(--sklearn-color-unfitted-level-3);\n",
       "  color: var(--sklearn-color-background);\n",
       "  text-decoration: none;\n",
       "}\n",
       "\n",
       "div.sk-estimator.fitted:hover .sk-estimator-doc-link.fitted:hover,\n",
       ".sk-estimator-doc-link.fitted:hover,\n",
       "div.sk-label-container:hover .sk-estimator-doc-link.fitted:hover,\n",
       ".sk-estimator-doc-link.fitted:hover {\n",
       "  /* fitted */\n",
       "  background-color: var(--sklearn-color-fitted-level-3);\n",
       "  color: var(--sklearn-color-background);\n",
       "  text-decoration: none;\n",
       "}\n",
       "\n",
       "/* Span, style for the box shown on hovering the info icon */\n",
       ".sk-estimator-doc-link span {\n",
       "  display: none;\n",
       "  z-index: 9999;\n",
       "  position: relative;\n",
       "  font-weight: normal;\n",
       "  right: .2ex;\n",
       "  padding: .5ex;\n",
       "  margin: .5ex;\n",
       "  width: min-content;\n",
       "  min-width: 20ex;\n",
       "  max-width: 50ex;\n",
       "  color: var(--sklearn-color-text);\n",
       "  box-shadow: 2pt 2pt 4pt #999;\n",
       "  /* unfitted */\n",
       "  background: var(--sklearn-color-unfitted-level-0);\n",
       "  border: .5pt solid var(--sklearn-color-unfitted-level-3);\n",
       "}\n",
       "\n",
       ".sk-estimator-doc-link.fitted span {\n",
       "  /* fitted */\n",
       "  background: var(--sklearn-color-fitted-level-0);\n",
       "  border: var(--sklearn-color-fitted-level-3);\n",
       "}\n",
       "\n",
       ".sk-estimator-doc-link:hover span {\n",
       "  display: block;\n",
       "}\n",
       "\n",
       "/* \"?\"-specific style due to the `<a>` HTML tag */\n",
       "\n",
       "#sk-container-id-4 a.estimator_doc_link {\n",
       "  float: right;\n",
       "  font-size: 1rem;\n",
       "  line-height: 1em;\n",
       "  font-family: monospace;\n",
       "  background-color: var(--sklearn-color-background);\n",
       "  border-radius: 1rem;\n",
       "  height: 1rem;\n",
       "  width: 1rem;\n",
       "  text-decoration: none;\n",
       "  /* unfitted */\n",
       "  color: var(--sklearn-color-unfitted-level-1);\n",
       "  border: var(--sklearn-color-unfitted-level-1) 1pt solid;\n",
       "}\n",
       "\n",
       "#sk-container-id-4 a.estimator_doc_link.fitted {\n",
       "  /* fitted */\n",
       "  border: var(--sklearn-color-fitted-level-1) 1pt solid;\n",
       "  color: var(--sklearn-color-fitted-level-1);\n",
       "}\n",
       "\n",
       "/* On hover */\n",
       "#sk-container-id-4 a.estimator_doc_link:hover {\n",
       "  /* unfitted */\n",
       "  background-color: var(--sklearn-color-unfitted-level-3);\n",
       "  color: var(--sklearn-color-background);\n",
       "  text-decoration: none;\n",
       "}\n",
       "\n",
       "#sk-container-id-4 a.estimator_doc_link.fitted:hover {\n",
       "  /* fitted */\n",
       "  background-color: var(--sklearn-color-fitted-level-3);\n",
       "}\n",
       "</style><div id=\"sk-container-id-4\" class=\"sk-top-container\"><div class=\"sk-text-repr-fallback\"><pre>RandomForestClassifier(max_depth=50, min_samples_leaf=31, min_samples_split=26,\n",
       "                       n_estimators=282)</pre><b>In a Jupyter environment, please rerun this cell to show the HTML representation or trust the notebook. <br />On GitHub, the HTML representation is unable to render, please try loading this page with nbviewer.org.</b></div><div class=\"sk-container\" hidden><div class=\"sk-item\"><div class=\"sk-estimator fitted sk-toggleable\"><input class=\"sk-toggleable__control sk-hidden--visually\" id=\"sk-estimator-id-4\" type=\"checkbox\" checked><label for=\"sk-estimator-id-4\" class=\"sk-toggleable__label fitted sk-toggleable__label-arrow fitted\">&nbsp;&nbsp;RandomForestClassifier<a class=\"sk-estimator-doc-link fitted\" rel=\"noreferrer\" target=\"_blank\" href=\"https://scikit-learn.org/1.5/modules/generated/sklearn.ensemble.RandomForestClassifier.html\">?<span>Documentation for RandomForestClassifier</span></a><span class=\"sk-estimator-doc-link fitted\">i<span>Fitted</span></span></label><div class=\"sk-toggleable__content fitted\"><pre>RandomForestClassifier(max_depth=50, min_samples_leaf=31, min_samples_split=26,\n",
       "                       n_estimators=282)</pre></div> </div></div></div></div>"
      ],
      "text/plain": [
       "RandomForestClassifier(max_depth=50, min_samples_leaf=31, min_samples_split=26,\n",
       "                       n_estimators=282)"
      ]
     },
     "execution_count": 64,
     "metadata": {},
     "output_type": "execute_result"
    }
   ],
   "source": [
    "# Train the RandomForestClassifier with the optimal hyperparameters on the training data.\n",
    "# - `X_train` and `y_train` are used to fit the model.\n",
    "\n",
    "best_model.fit(X_train, y_train)"
   ]
  },
  {
   "cell_type": "code",
   "execution_count": 65,
   "metadata": {},
   "outputs": [
    {
     "data": {
      "text/plain": [
       "0.8503401360544217"
      ]
     },
     "execution_count": 65,
     "metadata": {},
     "output_type": "execute_result"
    }
   ],
   "source": [
    "# Evaluate the performance of the trained model on the test set.\n",
    "# - `X_test` and `y_test` are used to compute the accuracy of the model.\n",
    "\n",
    "best_model.score(X_test, y_test)"
   ]
  },
  {
   "cell_type": "code",
   "execution_count": 66,
   "metadata": {},
   "outputs": [],
   "source": [
    "# Import metrics for model evaluation\n",
    "from sklearn.metrics import mean_squared_error, mean_absolute_error, r2_score\n",
    "\n",
    "# Import sqrt for calculating RMSE\n",
    "from math import sqrt"
   ]
  },
  {
   "cell_type": "code",
   "execution_count": 67,
   "metadata": {},
   "outputs": [
    {
     "name": "stdout",
     "output_type": "stream",
     "text": [
      "R2 score: -0.17599999999999993\n",
      "Mean Absolute Error (MAE): 0.14965986394557823\n",
      "Mean Squared Error (MSE): 0.14965986394557823\n",
      "Root Mean Squared Error (RMSE): 0.3868589716493314\n"
     ]
    }
   ],
   "source": [
    "# Predict target values for the test set using the trained model.\n",
    "y_predict = best_model.predict(X_test)\n",
    "\n",
    "# Output the evaluation metrics for the model:\n",
    "# R2 score: Measures the proportion of variance explained by the model.\n",
    "# Mean Absolute Error (MAE): Average absolute error between predicted and actual values.\n",
    "# Mean Squared Error (MSE): Average squared error between predicted and actual values.\n",
    "# Root Mean Squared Error (RMSE): Square root of the MSE, representing the standard deviation of prediction errors.\n",
    "print(f\"R2 score: {r2_score(y_test, y_predict)}\")\n",
    "print(f\"Mean Absolute Error (MAE): {mean_absolute_error(y_test, y_predict)}\")\n",
    "print(f\"Mean Squared Error (MSE): {mean_squared_error(y_test, y_predict)}\")\n",
    "print(f\"Root Mean Squared Error (RMSE): {sqrt(mean_squared_error(y_test, y_predict))}\")"
   ]
  },
  {
   "cell_type": "code",
   "execution_count": 68,
   "metadata": {},
   "outputs": [
    {
     "name": "stdout",
     "output_type": "stream",
     "text": [
      "Model successfully saved to 'model.pkl'.\n"
     ]
    }
   ],
   "source": [
    "import pickle\n",
    "\n",
    "try:\n",
    "    # Open a file named \"model.pkl\" in write binary mode\n",
    "    with open(\"model.pkl\", \"wb\") as file:\n",
    "        # Dump the best_model object into the file\n",
    "        pickle.dump(best_model, file)\n",
    "        # Print a success message if the model is successfully saved\n",
    "        print(\"Model successfully saved to 'model.pkl'.\")\n",
    "except Exception as e:\n",
    "    # Print an error message if there is an exception while saving the model\n",
    "    print(f\"An error occurred while saving the model: {e}\")"
   ]
  }
 ],
 "metadata": {
  "kernelspec": {
   "display_name": "Python 3",
   "language": "python",
   "name": "python3"
  },
  "language_info": {
   "codemirror_mode": {
    "name": "ipython",
    "version": 3
   },
   "file_extension": ".py",
   "mimetype": "text/x-python",
   "name": "python",
   "nbconvert_exporter": "python",
   "pygments_lexer": "ipython3",
   "version": "3.11.1"
  }
 },
 "nbformat": 4,
 "nbformat_minor": 2
}
